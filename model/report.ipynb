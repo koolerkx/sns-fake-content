{
 "cells": [
  {
   "cell_type": "code",
   "execution_count": 1,
   "metadata": {},
   "outputs": [
    {
     "name": "stderr",
     "output_type": "stream",
     "text": [
      "/home/kooler/dev/sw/sns-fake-content/model/training/transformer/env_transformer/lib/python3.8/site-packages/tqdm/auto.py:22: TqdmWarning: IProgress not found. Please update jupyter and ipywidgets. See https://ipywidgets.readthedocs.io/en/stable/user_install.html\n",
      "  from .autonotebook import tqdm as notebook_tqdm\n"
     ]
    }
   ],
   "source": [
    "import pandas as pd\n",
    "import datasets"
   ]
  },
  {
   "cell_type": "code",
   "execution_count": 2,
   "metadata": {},
   "outputs": [],
   "source": [
    "data_xl = datasets.load_from_disk(\"./training/transformer/data/fnn_xl/\")"
   ]
  },
  {
   "cell_type": "code",
   "execution_count": 3,
   "metadata": {},
   "outputs": [
    {
     "data": {
      "text/html": [
       "<div>\n",
       "<style scoped>\n",
       "    .dataframe tbody tr th:only-of-type {\n",
       "        vertical-align: middle;\n",
       "    }\n",
       "\n",
       "    .dataframe tbody tr th {\n",
       "        vertical-align: top;\n",
       "    }\n",
       "\n",
       "    .dataframe thead th {\n",
       "        text-align: right;\n",
       "    }\n",
       "</style>\n",
       "<table border=\"1\" class=\"dataframe\">\n",
       "  <thead>\n",
       "    <tr style=\"text-align: right;\">\n",
       "      <th></th>\n",
       "      <th>text</th>\n",
       "      <th>label</th>\n",
       "      <th>__index_level_0__</th>\n",
       "      <th>processed_text</th>\n",
       "    </tr>\n",
       "  </thead>\n",
       "  <tbody>\n",
       "    <tr>\n",
       "      <th>0</th>\n",
       "      <td>What's Really Going on Between Scott Disick an...</td>\n",
       "      <td>1</td>\n",
       "      <td>4294</td>\n",
       "      <td>[What's, Really, Going, on, Between, Scott, Di...</td>\n",
       "    </tr>\n",
       "    <tr>\n",
       "      <th>1</th>\n",
       "      <td>@IanBouillion ya but you're way more interesti...</td>\n",
       "      <td>0</td>\n",
       "      <td>189163</td>\n",
       "      <td>[@IanBouillion, ya, but, you're, way, more, in...</td>\n",
       "    </tr>\n",
       "    <tr>\n",
       "      <th>2</th>\n",
       "      <td>*kourtney kardashian voice* literally mom you’...</td>\n",
       "      <td>0</td>\n",
       "      <td>49350</td>\n",
       "      <td>[*kourtney, kardashian, voice*, literally, mom...</td>\n",
       "    </tr>\n",
       "    <tr>\n",
       "      <th>3</th>\n",
       "      <td>Tonight we are awarding Sustainable Nation Ire...</td>\n",
       "      <td>0</td>\n",
       "      <td>98271</td>\n",
       "      <td>[Tonight, we, are, awarding, Sustainable, Nati...</td>\n",
       "    </tr>\n",
       "    <tr>\n",
       "      <th>4</th>\n",
       "      <td>7/23/18: White House Press Briefing -  The Tim...</td>\n",
       "      <td>1</td>\n",
       "      <td>1227617</td>\n",
       "      <td>[7/23/18:, White, House, Press, Briefing, -, ,...</td>\n",
       "    </tr>\n",
       "  </tbody>\n",
       "</table>\n",
       "</div>"
      ],
      "text/plain": [
       "                                                text  label  \\\n",
       "0  What's Really Going on Between Scott Disick an...      1   \n",
       "1  @IanBouillion ya but you're way more interesti...      0   \n",
       "2  *kourtney kardashian voice* literally mom you’...      0   \n",
       "3  Tonight we are awarding Sustainable Nation Ire...      0   \n",
       "4  7/23/18: White House Press Briefing -  The Tim...      1   \n",
       "\n",
       "   __index_level_0__                                     processed_text  \n",
       "0               4294  [What's, Really, Going, on, Between, Scott, Di...  \n",
       "1             189163  [@IanBouillion, ya, but, you're, way, more, in...  \n",
       "2              49350  [*kourtney, kardashian, voice*, literally, mom...  \n",
       "3              98271  [Tonight, we, are, awarding, Sustainable, Nati...  \n",
       "4            1227617  [7/23/18:, White, House, Press, Briefing, -, ,...  "
      ]
     },
     "execution_count": 3,
     "metadata": {},
     "output_type": "execute_result"
    }
   ],
   "source": [
    "df_xl = pd.concat([data_xl['train'].to_pandas(), data_xl['test'].to_pandas(), data_xl['validation'].to_pandas()]).reset_index(drop=True)\n",
    "df_xl['processed_text'] = df_xl['text'].apply(lambda x: x.split(' '))\n",
    "df_xl.head()"
   ]
  },
  {
   "cell_type": "code",
   "execution_count": 4,
   "metadata": {},
   "outputs": [
    {
     "data": {
      "text/html": [
       "<div>\n",
       "<style scoped>\n",
       "    .dataframe tbody tr th:only-of-type {\n",
       "        vertical-align: middle;\n",
       "    }\n",
       "\n",
       "    .dataframe tbody tr th {\n",
       "        vertical-align: top;\n",
       "    }\n",
       "\n",
       "    .dataframe thead th {\n",
       "        text-align: right;\n",
       "    }\n",
       "</style>\n",
       "<table border=\"1\" class=\"dataframe\">\n",
       "  <thead>\n",
       "    <tr style=\"text-align: right;\">\n",
       "      <th></th>\n",
       "      <th>text</th>\n",
       "      <th>label</th>\n",
       "      <th>__index_level_0__</th>\n",
       "      <th>processed_text</th>\n",
       "    </tr>\n",
       "  </thead>\n",
       "  <tbody>\n",
       "    <tr>\n",
       "      <th>0</th>\n",
       "      <td>What's Really Going on Between Scott Disick an...</td>\n",
       "      <td>1</td>\n",
       "      <td>4294</td>\n",
       "      <td>[What's, Really, Going, on, Between, Scott, Di...</td>\n",
       "    </tr>\n",
       "    <tr>\n",
       "      <th>1</th>\n",
       "      <td>@IanBouillion ya but you're way more interesti...</td>\n",
       "      <td>0</td>\n",
       "      <td>189163</td>\n",
       "      <td>[@IanBouillion, ya, but, you're, way, more, in...</td>\n",
       "    </tr>\n",
       "    <tr>\n",
       "      <th>2</th>\n",
       "      <td>*kourtney kardashian voice* literally mom you’...</td>\n",
       "      <td>0</td>\n",
       "      <td>49350</td>\n",
       "      <td>[*kourtney, kardashian, voice*, literally, mom...</td>\n",
       "    </tr>\n",
       "    <tr>\n",
       "      <th>3</th>\n",
       "      <td>Tonight we are awarding Sustainable Nation Ire...</td>\n",
       "      <td>0</td>\n",
       "      <td>98271</td>\n",
       "      <td>[Tonight, we, are, awarding, Sustainable, Nati...</td>\n",
       "    </tr>\n",
       "    <tr>\n",
       "      <th>4</th>\n",
       "      <td>7/23/18: White House Press Briefing -  The Tim...</td>\n",
       "      <td>1</td>\n",
       "      <td>1227617</td>\n",
       "      <td>[7/23/18:, White, House, Press, Briefing, -, ,...</td>\n",
       "    </tr>\n",
       "    <tr>\n",
       "      <th>...</th>\n",
       "      <td>...</td>\n",
       "      <td>...</td>\n",
       "      <td>...</td>\n",
       "      <td>...</td>\n",
       "    </tr>\n",
       "    <tr>\n",
       "      <th>1368182</th>\n",
       "      <td>Total Bellas Recap: The Family Takes a Trip to...</td>\n",
       "      <td>1</td>\n",
       "      <td>1123</td>\n",
       "      <td>[Total, Bellas, Recap:, The, Family, Takes, a,...</td>\n",
       "    </tr>\n",
       "    <tr>\n",
       "      <th>1368183</th>\n",
       "      <td>Fall out boys and wiz concert  and trey songs ...</td>\n",
       "      <td>0</td>\n",
       "      <td>1332791</td>\n",
       "      <td>[Fall, out, boys, and, wiz, concert, , and, tr...</td>\n",
       "    </tr>\n",
       "    <tr>\n",
       "      <th>1368184</th>\n",
       "      <td>@FoxBusiness @Jim_Jordan NOW you're going to s...</td>\n",
       "      <td>1</td>\n",
       "      <td>158843</td>\n",
       "      <td>[@FoxBusiness, @Jim_Jordan, NOW, you're, going...</td>\n",
       "    </tr>\n",
       "    <tr>\n",
       "      <th>1368185</th>\n",
       "      <td>@dutkae Flip or Flop Katy?</td>\n",
       "      <td>0</td>\n",
       "      <td>208559</td>\n",
       "      <td>[@dutkae, Flip, or, Flop, Katy?]</td>\n",
       "    </tr>\n",
       "    <tr>\n",
       "      <th>1368186</th>\n",
       "      <td>Millie Bobby Brown and Gaten Matarazzo Rally f...</td>\n",
       "      <td>1</td>\n",
       "      <td>300031</td>\n",
       "      <td>[Millie, Bobby, Brown, and, Gaten, Matarazzo, ...</td>\n",
       "    </tr>\n",
       "  </tbody>\n",
       "</table>\n",
       "<p>1368187 rows × 4 columns</p>\n",
       "</div>"
      ],
      "text/plain": [
       "                                                      text  label  \\\n",
       "0        What's Really Going on Between Scott Disick an...      1   \n",
       "1        @IanBouillion ya but you're way more interesti...      0   \n",
       "2        *kourtney kardashian voice* literally mom you’...      0   \n",
       "3        Tonight we are awarding Sustainable Nation Ire...      0   \n",
       "4        7/23/18: White House Press Briefing -  The Tim...      1   \n",
       "...                                                    ...    ...   \n",
       "1368182  Total Bellas Recap: The Family Takes a Trip to...      1   \n",
       "1368183  Fall out boys and wiz concert  and trey songs ...      0   \n",
       "1368184  @FoxBusiness @Jim_Jordan NOW you're going to s...      1   \n",
       "1368185                         @dutkae Flip or Flop Katy?      0   \n",
       "1368186  Millie Bobby Brown and Gaten Matarazzo Rally f...      1   \n",
       "\n",
       "         __index_level_0__                                     processed_text  \n",
       "0                     4294  [What's, Really, Going, on, Between, Scott, Di...  \n",
       "1                   189163  [@IanBouillion, ya, but, you're, way, more, in...  \n",
       "2                    49350  [*kourtney, kardashian, voice*, literally, mom...  \n",
       "3                    98271  [Tonight, we, are, awarding, Sustainable, Nati...  \n",
       "4                  1227617  [7/23/18:, White, House, Press, Briefing, -, ,...  \n",
       "...                    ...                                                ...  \n",
       "1368182               1123  [Total, Bellas, Recap:, The, Family, Takes, a,...  \n",
       "1368183            1332791  [Fall, out, boys, and, wiz, concert, , and, tr...  \n",
       "1368184             158843  [@FoxBusiness, @Jim_Jordan, NOW, you're, going...  \n",
       "1368185             208559                   [@dutkae, Flip, or, Flop, Katy?]  \n",
       "1368186             300031  [Millie, Bobby, Brown, and, Gaten, Matarazzo, ...  \n",
       "\n",
       "[1368187 rows x 4 columns]"
      ]
     },
     "execution_count": 4,
     "metadata": {},
     "output_type": "execute_result"
    }
   ],
   "source": [
    "df_xl"
   ]
  },
  {
   "cell_type": "code",
   "execution_count": 5,
   "metadata": {},
   "outputs": [
    {
     "name": "stdout",
     "output_type": "stream",
     "text": [
      "1 932369\n",
      "0 435818\n"
     ]
    }
   ],
   "source": [
    "print(1, len(list(filter(lambda x: x == 1, df_xl['label']))))\n",
    "print(0, len(list(filter(lambda x: x == 0, df_xl['label']))))"
   ]
  },
  {
   "cell_type": "code",
   "execution_count": 6,
   "metadata": {},
   "outputs": [
    {
     "data": {
      "image/png": "[encoded data removed]",
      "text/plain": [
       "<Figure size 500x500 with 1 Axes>"
      ]
     },
     "metadata": {},
     "output_type": "display_data"
    }
   ],
   "source": [
    "import matplotlib.pyplot as plt\n",
    "import pandas as pd\n",
    "\n",
    "# example dataframe\n",
    "false_count = len(list(filter(lambda x: x == 0, df_xl[\"label\"])))\n",
    "true_count = len(list(filter(lambda x: x == 1, df_xl[\"label\"])))\n",
    "\n",
    "fig = plt.figure(figsize=(5, 5))\n",
    "\n",
    "# creating the bar plot\n",
    "plt.bar(\n",
    "    [\"False/Fake\", \"True/Real\"], [false_count, true_count], color=['g', \"b\"]\n",
    ")\n",
    "# plot count into bar label\n",
    "plt.bar_label(plt.gca().containers[0], fmt=\"%d\")\n",
    "plt.title(\"FakeNewsNet Dataset Label Count\")\n",
    "plt.savefig('plt/FakeNewsNet_bar.png')"
   ]
  },
  {
   "cell_type": "code",
   "execution_count": 7,
   "metadata": {},
   "outputs": [
    {
     "data": {
      "image/png": "[encoded data removed]",
      "text/plain": [
       "<Figure size 500x500 with 1 Axes>"
      ]
     },
     "metadata": {},
     "output_type": "display_data"
    }
   ],
   "source": [
    "# Create pie chart with labels\n",
    "fit = plt.figure(figsize=(5, 5))\n",
    "\n",
    "plt.pie([false_count, true_count], labels=[false_count, true_count], colors=['g', \"b\"])\n",
    "\n",
    "plt.title(\"FakeNewsNet Dataset Label Distribution\")\n",
    "plt.savefig('plt/FakeNewsNet_pie.png')"
   ]
  },
  {
   "cell_type": "code",
   "execution_count": 8,
   "metadata": {},
   "outputs": [],
   "source": [
    "text_length = map(len, df_xl['processed_text'])\n",
    "average_text_count = sum(text_length) / len(df_xl['processed_text'])"
   ]
  },
  {
   "cell_type": "code",
   "execution_count": 9,
   "metadata": {},
   "outputs": [
    {
     "data": {
      "text/plain": [
       "\"What's Really Going on Between Scott Disick and Sofia Richie? Inside Their &amp;quot;Inseparable&amp;quot; Relationship \""
      ]
     },
     "execution_count": 9,
     "metadata": {},
     "output_type": "execute_result"
    }
   ],
   "source": [
    "df_xl['text'][0]"
   ]
  },
  {
   "cell_type": "code",
   "execution_count": 10,
   "metadata": {},
   "outputs": [],
   "source": [
    "text_length = list(map(len, df_xl['processed_text']))"
   ]
  },
  {
   "cell_type": "code",
   "execution_count": 11,
   "metadata": {},
   "outputs": [],
   "source": [
    "import seaborn as sns\n",
    "import numpy as np"
   ]
  },
  {
   "cell_type": "code",
   "execution_count": 12,
   "metadata": {},
   "outputs": [
    {
     "data": {
      "text/plain": [
       "array([15, 11, 12, ..., 25,  5, 20])"
      ]
     },
     "execution_count": 12,
     "metadata": {},
     "output_type": "execute_result"
    }
   ],
   "source": [
    "def reject_outliers(data, m=2):\n",
    "    return data[abs(data - np.mean(data)) < m * np.std(data)]\n",
    "reject_outliers(np.array(text_length))"
   ]
  },
  {
   "cell_type": "code",
   "execution_count": 17,
   "metadata": {},
   "outputs": [
    {
     "data": {
      "text/plain": [
       "<Figure size 500x600 with 0 Axes>"
      ]
     },
     "metadata": {},
     "output_type": "display_data"
    },
    {
     "data": {
      "image/png": "[encoded data removed]",
      "text/plain": [
       "<Figure size 500x500 with 1 Axes>"
      ]
     },
     "metadata": {},
     "output_type": "display_data"
    }
   ],
   "source": [
    "import matplotlib.pyplot as plt\n",
    "import numpy as np\n",
    "import pandas as pd\n",
    "\n",
    "# Generate sample data\n",
    "np.random.seed(0)\n",
    "data = np.random.normal(0, 1, 1000)\n",
    "\n",
    "fit = plt.figure(figsize=(5, 6))\n",
    "\n",
    "# Plot density of data\n",
    "sns.displot(reject_outliers(np.array(text_length)), kind=\"kde\")\n",
    "plt.hist(reject_outliers(np.array(text_length)), bins=75, density=True, alpha=0.5)\n",
    "plt.xlabel('Text Length')\n",
    "plt.ylabel('Density')\n",
    "plt.title('Density Plot of Text Length')\n",
    "# plt.show()\n",
    "plt.savefig('plt/FakeNewsNet_den_text_length.png')"
   ]
  }
 ],
 "metadata": {
  "kernelspec": {
   "display_name": "env_transformer",
   "language": "python",
   "name": "python3"
  },
  "language_info": {
   "codemirror_mode": {
    "name": "ipython",
    "version": 3
   },
   "file_extension": ".py",
   "mimetype": "text/x-python",
   "name": "python",
   "nbconvert_exporter": "python",
   "pygments_lexer": "ipython3",
   "version": "3.8.10"
  },
  "orig_nbformat": 4,
  "vscode": {
   "interpreter": {
    "hash": "317627b9e2de4c73bd50bdb8afe63bde9a80400d9a0e3b6c36efb0bcae648881"
   }
  }
 },
 "nbformat": 4,
 "nbformat_minor": 2
}
