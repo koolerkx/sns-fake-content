{
 "cells": [
  {
   "attachments": {},
   "cell_type": "markdown",
   "metadata": {},
   "source": [
    "# Word2Vec NN"
   ]
  },
  {
   "cell_type": "code",
   "execution_count": 17,
   "metadata": {},
   "outputs": [],
   "source": [
    "FILE_NAME = \"word2vec\"\n",
    "TITLE = \"Word2Vec\""
   ]
  },
  {
   "cell_type": "code",
   "execution_count": 18,
   "metadata": {},
   "outputs": [
    {
     "name": "stdout",
     "output_type": "stream",
     "text": [
      "[(128000,), (32000,), (128000,), (32000,)]\n"
     ]
    }
   ],
   "source": [
    "from utils.load_data import get_data, load_parquet_data\n",
    "\n",
    "size = 's'\n",
    "\n",
    "X_train, X_test, y_train, y_test = get_data(size)\n",
    "print([X_train.shape, X_test.shape, y_train.shape, y_test.shape])\n"
   ]
  },
  {
   "attachments": {},
   "cell_type": "markdown",
   "metadata": {},
   "source": [
    "## Fit Model"
   ]
  },
  {
   "cell_type": "code",
   "execution_count": 19,
   "metadata": {},
   "outputs": [],
   "source": [
    "from gensim.models import Word2Vec\n",
    "\n",
    "model_word2vec = Word2Vec.load(\"./output/word2vec.model\")\n"
   ]
  },
  {
   "cell_type": "code",
   "execution_count": 20,
   "metadata": {},
   "outputs": [],
   "source": [
    "import tensorflow as tf\n",
    "import polars as pl\n",
    "import numpy as np\n",
    "from keras.models import Sequential\n",
    "from keras.layers import Dense, GRU\n",
    "from keras.layers import Embedding\n",
    "# from utils.word2vec import get_embedding_layer, GensimEmbedding"
   ]
  },
  {
   "cell_type": "code",
   "execution_count": 21,
   "metadata": {},
   "outputs": [],
   "source": [
    "def get_embedding_layer(model):\n",
    "    embedding_matrix = np.zeros((len(model.wv.index_to_key) + 1, model.vector_size))\n",
    "    word2idx = {}\n",
    "\n",
    "    vocab_list = [(word, model.wv[word]) for word in model.wv.index_to_key]\n",
    "    for i, vocab in enumerate(vocab_list):\n",
    "        word, vec = vocab\n",
    "        embedding_matrix[i + 1] = vec\n",
    "        word2idx[word] = i + 1\n",
    "\n",
    "    embedding_layer = Embedding(\n",
    "        input_dim=embedding_matrix.shape[0],\n",
    "        output_dim=embedding_matrix.shape[1],\n",
    "        weights=[embedding_matrix],\n",
    "        trainable=False,\n",
    "    )\n",
    "\n",
    "    return embedding_layer\n"
   ]
  },
  {
   "cell_type": "code",
   "execution_count": 22,
   "metadata": {},
   "outputs": [],
   "source": [
    "from keras.utils import pad_sequences\n",
    "\n",
    "def process(texts):\n",
    "    PADDING_LENGTH = 128\n",
    "    supported_words = set(model_word2vec.wv.index_to_key)\n",
    "\n",
    "    text_index = [[model_word2vec.wv.key_to_index[word] if word in supported_words else 0 for word in sentence] for sentence in texts]\n",
    "    text_index = pad_sequences(text_index, maxlen=PADDING_LENGTH)\n",
    "    return np.array(text_index)\n"
   ]
  },
  {
   "cell_type": "code",
   "execution_count": 23,
   "metadata": {},
   "outputs": [
    {
     "name": "stdout",
     "output_type": "stream",
     "text": [
      "Model: \"Word2Vec_014113\"\n",
      "_________________________________________________________________\n",
      " Layer (type)                Output Shape              Param #   \n",
      "=================================================================\n",
      " embedding_1 (Embedding)     (None, None, 300)         12709500  \n",
      "                                                                 \n",
      " gru_4 (GRU)                 (None, None, 256)         428544    \n",
      "                                                                 \n",
      " gru_5 (GRU)                 (None, None, 128)         148224    \n",
      "                                                                 \n",
      " gru_6 (GRU)                 (None, None, 64)          37248     \n",
      "                                                                 \n",
      " gru_7 (GRU)                 (None, 32)                9408      \n",
      "                                                                 \n",
      " dense_3 (Dense)             (None, 32)                1056      \n",
      "                                                                 \n",
      " dense_4 (Dense)             (None, 16)                528       \n",
      "                                                                 \n",
      " dense_5 (Dense)             (None, 1)                 17        \n",
      "                                                                 \n",
      "=================================================================\n",
      "Total params: 13,334,525\n",
      "Trainable params: 625,025\n",
      "Non-trainable params: 12,709,500\n",
      "_________________________________________________________________\n"
     ]
    }
   ],
   "source": [
    "import time\n",
    "id = time.strftime('%H%M%S')\n",
    "\n",
    "rnn = Sequential(name=f\"{TITLE}_{id}\")\n",
    "rnn.add(get_embedding_layer(model_word2vec))\n",
    "rnn.add(GRU(256, dropout=0.3, return_sequences=True))\n",
    "rnn.add(GRU(128, dropout=0.3, return_sequences=True))\n",
    "rnn.add(GRU(64, dropout=0.3, return_sequences=True))\n",
    "rnn.add(GRU(32))\n",
    "rnn.add(Dense(32, activation=\"relu\"))\n",
    "rnn.add(Dense(16, activation=\"relu\"))\n",
    "rnn.add(Dense(1, activation=\"sigmoid\"))\n",
    "\n",
    "# rnn.build((1,))\n",
    "rnn.compile(optimizer=\"adam\", loss=\"binary_crossentropy\", metrics=[\"accuracy\"])\n",
    "rnn.summary()\n"
   ]
  },
  {
   "cell_type": "code",
   "execution_count": 24,
   "metadata": {},
   "outputs": [],
   "source": [
    "earlyStopping = tf.keras.callbacks.EarlyStopping(monitor='val_loss', patience=3)\n",
    "ckpt = tf.keras.callbacks.ModelCheckpoint(f'./output/model_nn/{FILE_NAME}_{id}_{size}_model.h5', monitor='val_loss', save_best_only=True, mode='auto')\n",
    "board = tf.keras.callbacks.TensorBoard(log_dir=f\"./output/model_nn/logs/{FILE_NAME}_{id}/\", histogram_freq=1, embeddings_freq=1)\n",
    "\n",
    "callbacks = [earlyStopping, ckpt, board]"
   ]
  },
  {
   "cell_type": "code",
   "execution_count": 25,
   "metadata": {},
   "outputs": [],
   "source": [
    "X_train_processed = process(X_train)\n",
    "X_test_processed = process(X_test)\n",
    "y_train_processed = np.where(y_train == 'true', 1, 0)\n",
    "y_test_processed = np.where(y_test == 'true', 1, 0)"
   ]
  },
  {
   "cell_type": "code",
   "execution_count": 26,
   "metadata": {},
   "outputs": [
    {
     "name": "stdout",
     "output_type": "stream",
     "text": [
      "Epoch 1/10000\n",
      "154/154 [==============================] - 17s 84ms/step - loss: 0.6906 - accuracy: 0.5270 - val_loss: 0.6897 - val_accuracy: 0.5401\n",
      "Epoch 2/10000\n",
      "154/154 [==============================] - 11s 73ms/step - loss: 0.6912 - accuracy: 0.5151 - val_loss: 0.6919 - val_accuracy: 0.5155\n",
      "Epoch 3/10000\n",
      "154/154 [==============================] - 12s 76ms/step - loss: 0.6848 - accuracy: 0.5435 - val_loss: 0.6818 - val_accuracy: 0.5490\n",
      "Epoch 4/10000\n",
      "154/154 [==============================] - 12s 81ms/step - loss: 0.6808 - accuracy: 0.5553 - val_loss: 0.6817 - val_accuracy: 0.5477\n",
      "Epoch 5/10000\n",
      "154/154 [==============================] - 14s 91ms/step - loss: 0.6807 - accuracy: 0.5542 - val_loss: 0.6819 - val_accuracy: 0.5477\n",
      "Epoch 6/10000\n",
      "154/154 [==============================] - 12s 76ms/step - loss: 0.6805 - accuracy: 0.5545 - val_loss: 0.6834 - val_accuracy: 0.5156\n",
      "Epoch 7/10000\n",
      "154/154 [==============================] - 13s 84ms/step - loss: 0.6777 - accuracy: 0.5631 - val_loss: 0.6779 - val_accuracy: 0.5579\n",
      "Epoch 8/10000\n",
      "154/154 [==============================] - 12s 78ms/step - loss: 0.6648 - accuracy: 0.5945 - val_loss: 0.6530 - val_accuracy: 0.6249\n",
      "Epoch 9/10000\n",
      "154/154 [==============================] - 12s 79ms/step - loss: 0.5894 - accuracy: 0.6893 - val_loss: 0.5297 - val_accuracy: 0.7431\n",
      "Epoch 10/10000\n",
      "154/154 [==============================] - 12s 81ms/step - loss: 0.4857 - accuracy: 0.7715 - val_loss: 0.4511 - val_accuracy: 0.7910\n",
      "Epoch 11/10000\n",
      "154/154 [==============================] - 11s 74ms/step - loss: 0.4137 - accuracy: 0.8156 - val_loss: 0.4222 - val_accuracy: 0.8101\n",
      "Epoch 12/10000\n",
      "154/154 [==============================] - 11s 75ms/step - loss: 0.3583 - accuracy: 0.8467 - val_loss: 0.3693 - val_accuracy: 0.8391\n",
      "Epoch 13/10000\n",
      "154/154 [==============================] - 13s 85ms/step - loss: 0.3094 - accuracy: 0.8722 - val_loss: 0.3510 - val_accuracy: 0.8538\n",
      "Epoch 14/10000\n",
      "154/154 [==============================] - 11s 72ms/step - loss: 0.2713 - accuracy: 0.8891 - val_loss: 0.3333 - val_accuracy: 0.8620\n",
      "Epoch 15/10000\n",
      "154/154 [==============================] - 12s 81ms/step - loss: 0.2374 - accuracy: 0.9052 - val_loss: 0.3340 - val_accuracy: 0.8654\n",
      "Epoch 16/10000\n",
      "154/154 [==============================] - 11s 72ms/step - loss: 0.2079 - accuracy: 0.9184 - val_loss: 0.3450 - val_accuracy: 0.8678\n",
      "Epoch 17/10000\n",
      "154/154 [==============================] - 11s 74ms/step - loss: 0.1814 - accuracy: 0.9304 - val_loss: 0.3313 - val_accuracy: 0.8753\n",
      "Epoch 18/10000\n",
      "154/154 [==============================] - 12s 77ms/step - loss: 0.1627 - accuracy: 0.9382 - val_loss: 0.3179 - val_accuracy: 0.8798\n",
      "Epoch 19/10000\n",
      "154/154 [==============================] - 11s 71ms/step - loss: 0.1448 - accuracy: 0.9459 - val_loss: 0.3540 - val_accuracy: 0.8794\n",
      "Epoch 20/10000\n",
      "154/154 [==============================] - 12s 75ms/step - loss: 0.1269 - accuracy: 0.9537 - val_loss: 0.3606 - val_accuracy: 0.8823\n",
      "Epoch 21/10000\n",
      "154/154 [==============================] - 12s 75ms/step - loss: 0.1156 - accuracy: 0.9572 - val_loss: 0.3803 - val_accuracy: 0.8819\n"
     ]
    }
   ],
   "source": [
    "result = rnn.fit(x=X_train_processed, y=y_train_processed, batch_size=500, epochs=10000, validation_split=0.4, callbacks=callbacks)\n"
   ]
  },
  {
   "cell_type": "code",
   "execution_count": 27,
   "metadata": {},
   "outputs": [
    {
     "name": "stdout",
     "output_type": "stream",
     "text": [
      "11/11 [==============================] - 1s 76ms/step - loss: 0.3774 - accuracy: 0.8849\n",
      "Testing {'loss': 0.3773917257785797, 'accuracy': 0.8848749995231628}\n"
     ]
    }
   ],
   "source": [
    "results = rnn.evaluate(X_test_processed, y_test_processed, batch_size=3000, return_dict=True)\n",
    "print(\"Testing\", results)"
   ]
  },
  {
   "cell_type": "code",
   "execution_count": 28,
   "metadata": {},
   "outputs": [
    {
     "name": "stdout",
     "output_type": "stream",
     "text": [
      "You must install pydot (`pip install pydot`) and install graphviz (see instructions at https://graphviz.gitlab.io/download/) for plot_model to work.\n"
     ]
    }
   ],
   "source": [
    "import keras.utils.vis_utils\n",
    "from importlib import reload\n",
    "reload(keras.utils.vis_utils)\n",
    "\n",
    "from keras.utils import plot_model\n",
    "\n",
    "plot_model(rnn, f\"./output/model_nn/{FILE_NAME}_{id}_{size}_rnn_model.png\", show_shapes=True)"
   ]
  },
  {
   "cell_type": "code",
   "execution_count": 29,
   "metadata": {},
   "outputs": [
    {
     "data": {
      "image/png": "[encoded data removed]",
      "text/plain": [
       "<Figure size 640x480 with 1 Axes>"
      ]
     },
     "metadata": {},
     "output_type": "display_data"
    }
   ],
   "source": [
    "# Plot loss graph\n",
    "import matplotlib.pyplot as plt\n",
    "\n",
    "plt.title('Training Loss')\n",
    "plt.plot(result.history['loss'])\n",
    "plt.plot(result.history['val_loss'])\n",
    "plt.legend(['train', 'validation'], loc='upper right')\n",
    "\n",
    "plt.savefig(f'./output/model_nn/{FILE_NAME}_{id}_{size}_rnn_model_loss.png')"
   ]
  },
  {
   "cell_type": "code",
   "execution_count": 30,
   "metadata": {},
   "outputs": [],
   "source": [
    "new_model = tf.keras.models.load_model(f'./output/model_nn/{FILE_NAME}_{id}_{size}_model.h5')"
   ]
  },
  {
   "cell_type": "code",
   "execution_count": 31,
   "metadata": {},
   "outputs": [],
   "source": [
    "def predict(text):\n",
    "    text_processed = process([text])\n",
    "    return new_model.predict(text_processed)"
   ]
  },
  {
   "cell_type": "code",
   "execution_count": 32,
   "metadata": {},
   "outputs": [
    {
     "name": "stdout",
     "output_type": "stream",
     "text": [
      "1/1 [==============================] - 1s 623ms/step\n"
     ]
    },
    {
     "data": {
      "text/plain": [
       "array([[0.9932515]], dtype=float32)"
      ]
     },
     "execution_count": 32,
     "metadata": {},
     "output_type": "execute_result"
    }
   ],
   "source": [
    "predict(\"Wow iot is the best requirement\")"
   ]
  },
  {
   "cell_type": "code",
   "execution_count": null,
   "metadata": {},
   "outputs": [],
   "source": []
  }
 ],
 "metadata": {
  "kernelspec": {
   "display_name": "env_model",
   "language": "python",
   "name": "python3"
  },
  "language_info": {
   "codemirror_mode": {
    "name": "ipython",
    "version": 3
   },
   "file_extension": ".py",
   "mimetype": "text/x-python",
   "name": "python",
   "nbconvert_exporter": "python",
   "pygments_lexer": "ipython3",
   "version": "3.8.10"
  },
  "orig_nbformat": 4
 },
 "nbformat": 4,
 "nbformat_minor": 2
}
