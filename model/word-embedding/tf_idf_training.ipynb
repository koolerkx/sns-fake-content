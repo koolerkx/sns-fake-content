{
 "cells": [
  {
   "attachments": {},
   "cell_type": "markdown",
   "metadata": {},
   "source": [
    "# TF-IDF Model Training"
   ]
  },
  {
   "cell_type": "code",
   "execution_count": 209,
   "metadata": {},
   "outputs": [],
   "source": [
    "import pandas as pd"
   ]
  },
  {
   "cell_type": "code",
   "execution_count": 210,
   "metadata": {},
   "outputs": [],
   "source": [
    "# Load data (LIAR Dataset)\n",
    "data_df_train_true_raw = pd.read_csv('../../dataset/LIAR/data/train_true.csv', sep=',', header=0)\n",
    "data_df_test_true_raw = pd.read_csv('../../dataset/LIAR/data/test_true.csv', sep=',', header=0)\n",
    "data_df_valid_true_raw = pd.read_csv('../../dataset/LIAR/data/valid_true.csv', sep=',', header=0)\n",
    "\n",
    "data_df_train_false_raw = pd.read_csv('../../dataset/LIAR/data/train_false.csv', sep=',', header=0)\n",
    "data_df_test_false_raw = pd.read_csv('../../dataset/LIAR/data/test_false.csv', sep=',', header=0)\n",
    "data_df_valid_false_raw = pd.read_csv('../../dataset/LIAR/data/valid_false.csv', sep=',', header=0)\n",
    "\n",
    "data_df_train_raw = pd.read_csv('../../dataset/LIAR/data/train.csv', sep=',', header=0)\n",
    "data_df_test_raw = pd.read_csv('../../dataset/LIAR/data/test.csv', sep=',', header=0)\n",
    "data_df_valid_raw = pd.read_csv('../../dataset/LIAR/data/valid.csv', sep=',', header=0)\n"
   ]
  },
  {
   "cell_type": "code",
   "execution_count": 211,
   "metadata": {},
   "outputs": [
    {
     "name": "stdout",
     "output_type": "stream",
     "text": [
      "(12791, 15)\n"
     ]
    },
    {
     "data": {
      "text/html": [
       "<div>\n",
       "<style scoped>\n",
       "    .dataframe tbody tr th:only-of-type {\n",
       "        vertical-align: middle;\n",
       "    }\n",
       "\n",
       "    .dataframe tbody tr th {\n",
       "        vertical-align: top;\n",
       "    }\n",
       "\n",
       "    .dataframe thead th {\n",
       "        text-align: right;\n",
       "    }\n",
       "</style>\n",
       "<table border=\"1\" class=\"dataframe\">\n",
       "  <thead>\n",
       "    <tr style=\"text-align: right;\">\n",
       "      <th></th>\n",
       "      <th>id</th>\n",
       "      <th>label</th>\n",
       "      <th>statement</th>\n",
       "      <th>subject</th>\n",
       "      <th>speaker</th>\n",
       "      <th>job_title</th>\n",
       "      <th>state_info</th>\n",
       "      <th>party_affiliation</th>\n",
       "      <th>barely_true_counts</th>\n",
       "      <th>false_counts</th>\n",
       "      <th>half_true_counts</th>\n",
       "      <th>mostly_true_counts</th>\n",
       "      <th>pants_on_fire_counts</th>\n",
       "      <th>context</th>\n",
       "      <th>statement_processed</th>\n",
       "    </tr>\n",
       "  </thead>\n",
       "  <tbody>\n",
       "    <tr>\n",
       "      <th>0</th>\n",
       "      <td>2635.json</td>\n",
       "      <td>False</td>\n",
       "      <td>Says the Annies List political group supports ...</td>\n",
       "      <td>abortion</td>\n",
       "      <td>dwayne-bohac</td>\n",
       "      <td>State representative</td>\n",
       "      <td>Texas</td>\n",
       "      <td>republican</td>\n",
       "      <td>0.0</td>\n",
       "      <td>1.0</td>\n",
       "      <td>0.0</td>\n",
       "      <td>0.0</td>\n",
       "      <td>0.0</td>\n",
       "      <td>a mailer</td>\n",
       "      <td>say Annies List political group support trimes...</td>\n",
       "    </tr>\n",
       "    <tr>\n",
       "      <th>1</th>\n",
       "      <td>10540.json</td>\n",
       "      <td>True</td>\n",
       "      <td>When did the decline of coal start? It started...</td>\n",
       "      <td>energy,history,job-accomplishments</td>\n",
       "      <td>scott-surovell</td>\n",
       "      <td>State delegate</td>\n",
       "      <td>Virginia</td>\n",
       "      <td>democrat</td>\n",
       "      <td>0.0</td>\n",
       "      <td>0.0</td>\n",
       "      <td>1.0</td>\n",
       "      <td>1.0</td>\n",
       "      <td>0.0</td>\n",
       "      <td>a floor speech.</td>\n",
       "      <td>decline coal start start natural gas take star...</td>\n",
       "    </tr>\n",
       "    <tr>\n",
       "      <th>2</th>\n",
       "      <td>324.json</td>\n",
       "      <td>True</td>\n",
       "      <td>Hillary Clinton agrees with John McCain \"by vo...</td>\n",
       "      <td>foreign-policy</td>\n",
       "      <td>barack-obama</td>\n",
       "      <td>President</td>\n",
       "      <td>Illinois</td>\n",
       "      <td>democrat</td>\n",
       "      <td>70.0</td>\n",
       "      <td>71.0</td>\n",
       "      <td>160.0</td>\n",
       "      <td>163.0</td>\n",
       "      <td>9.0</td>\n",
       "      <td>Denver</td>\n",
       "      <td>Hillary Clinton agree John McCain vote George ...</td>\n",
       "    </tr>\n",
       "    <tr>\n",
       "      <th>3</th>\n",
       "      <td>1123.json</td>\n",
       "      <td>False</td>\n",
       "      <td>Health care reform legislation is likely to ma...</td>\n",
       "      <td>health-care</td>\n",
       "      <td>blog-posting</td>\n",
       "      <td>NaN</td>\n",
       "      <td>NaN</td>\n",
       "      <td>none</td>\n",
       "      <td>7.0</td>\n",
       "      <td>19.0</td>\n",
       "      <td>3.0</td>\n",
       "      <td>5.0</td>\n",
       "      <td>44.0</td>\n",
       "      <td>a news release</td>\n",
       "      <td>health care reform legislation likely mandate ...</td>\n",
       "    </tr>\n",
       "    <tr>\n",
       "      <th>4</th>\n",
       "      <td>9028.json</td>\n",
       "      <td>True</td>\n",
       "      <td>The economic turnaround started at the end of ...</td>\n",
       "      <td>economy,jobs</td>\n",
       "      <td>charlie-crist</td>\n",
       "      <td>NaN</td>\n",
       "      <td>Florida</td>\n",
       "      <td>democrat</td>\n",
       "      <td>15.0</td>\n",
       "      <td>9.0</td>\n",
       "      <td>20.0</td>\n",
       "      <td>19.0</td>\n",
       "      <td>2.0</td>\n",
       "      <td>an interview on CNN</td>\n",
       "      <td>economic turnaround start end term</td>\n",
       "    </tr>\n",
       "  </tbody>\n",
       "</table>\n",
       "</div>"
      ],
      "text/plain": [
       "           id  label                                          statement  \\\n",
       "0   2635.json  False  Says the Annies List political group supports ...   \n",
       "1  10540.json   True  When did the decline of coal start? It started...   \n",
       "2    324.json   True  Hillary Clinton agrees with John McCain \"by vo...   \n",
       "3   1123.json  False  Health care reform legislation is likely to ma...   \n",
       "4   9028.json   True  The economic turnaround started at the end of ...   \n",
       "\n",
       "                              subject         speaker             job_title  \\\n",
       "0                            abortion    dwayne-bohac  State representative   \n",
       "1  energy,history,job-accomplishments  scott-surovell        State delegate   \n",
       "2                      foreign-policy    barack-obama             President   \n",
       "3                         health-care    blog-posting                   NaN   \n",
       "4                        economy,jobs   charlie-crist                   NaN   \n",
       "\n",
       "  state_info party_affiliation  barely_true_counts  false_counts  \\\n",
       "0      Texas        republican                 0.0           1.0   \n",
       "1   Virginia          democrat                 0.0           0.0   \n",
       "2   Illinois          democrat                70.0          71.0   \n",
       "3        NaN              none                 7.0          19.0   \n",
       "4    Florida          democrat                15.0           9.0   \n",
       "\n",
       "   half_true_counts  mostly_true_counts  pants_on_fire_counts  \\\n",
       "0               0.0                 0.0                   0.0   \n",
       "1               1.0                 1.0                   0.0   \n",
       "2             160.0               163.0                   9.0   \n",
       "3               3.0                 5.0                  44.0   \n",
       "4              20.0                19.0                   2.0   \n",
       "\n",
       "               context                                statement_processed  \n",
       "0             a mailer  say Annies List political group support trimes...  \n",
       "1      a floor speech.  decline coal start start natural gas take star...  \n",
       "2               Denver  Hillary Clinton agree John McCain vote George ...  \n",
       "3       a news release  health care reform legislation likely mandate ...  \n",
       "4  an interview on CNN                 economic turnaround start end term  "
      ]
     },
     "execution_count": 211,
     "metadata": {},
     "output_type": "execute_result"
    }
   ],
   "source": [
    "# Merge all data\n",
    "master_df = pd.concat([data_df_train_raw, data_df_test_raw, data_df_valid_raw], ignore_index=True)\n",
    "print(master_df.shape)\n",
    "master_df.head(5)"
   ]
  },
  {
   "cell_type": "code",
   "execution_count": 212,
   "metadata": {},
   "outputs": [],
   "source": [
    "from sklearn.feature_extraction.text import CountVectorizer\n",
    "from sklearn.feature_extraction.text import TfidfTransformer\n",
    "from sklearn.feature_extraction.text import TfidfVectorizer\n",
    "\n",
    "from sklearn.pipeline import Pipeline"
   ]
  },
  {
   "cell_type": "code",
   "execution_count": 213,
   "metadata": {},
   "outputs": [],
   "source": [
    "from sklearn.model_selection import train_test_split"
   ]
  },
  {
   "cell_type": "code",
   "execution_count": 214,
   "metadata": {},
   "outputs": [
    {
     "data": {
      "text/plain": [
       "((10232,), (10232,))"
      ]
     },
     "execution_count": 214,
     "metadata": {},
     "output_type": "execute_result"
    }
   ],
   "source": [
    "# X_train = data_df_train_raw['statement_processed']\n",
    "# y_train = data_df_train_raw['label']\n",
    "# X_test = data_df_test_raw['statement_processed']\n",
    "# y_test = data_df_test_raw['label']\n",
    "\n",
    "# vectorizer = TfidfVectorizer() \n",
    "# train_vectors = vectorizer.fit_transform(X_train)\n",
    "# test_vectors = vectorizer.transform(X_test)\n",
    "\n",
    "X = master_df['statement_processed']\n",
    "y = master_df['label']\n",
    "X_train, X_test, y_train, y_test = train_test_split(X, y, test_size=0.2)\n",
    "\n",
    "(X_train.shape, y_train.shape)"
   ]
  },
  {
   "attachments": {},
   "cell_type": "markdown",
   "metadata": {},
   "source": [
    "## Random Forest"
   ]
  },
  {
   "attachments": {},
   "cell_type": "markdown",
   "metadata": {},
   "source": [
    "#### Training"
   ]
  },
  {
   "cell_type": "code",
   "execution_count": 217,
   "metadata": {},
   "outputs": [],
   "source": [
    "from sklearn.model_selection import GridSearchCV\n",
    "from sklearn.ensemble import RandomForestClassifier"
   ]
  },
  {
   "cell_type": "code",
   "execution_count": 219,
   "metadata": {},
   "outputs": [],
   "source": [
    "pipeline_rf = Pipeline(\n",
    "    [\n",
    "        (\"vect\", TfidfVectorizer(use_idf=True)),\n",
    "        (\"clf\", RandomForestClassifier(n_jobs=-2)),\n",
    "    ]\n",
    ")\n",
    "\n",
    "parameters_rf = {\n",
    "    \"clf__n_estimators\": [50, 100, 200, 500],       # default=100\n",
    "}"
   ]
  },
  {
   "cell_type": "code",
   "execution_count": 220,
   "metadata": {},
   "outputs": [
    {
     "name": "stderr",
     "output_type": "stream",
     "text": [
      "63251.38s - pydevd: Sending message related to process being replaced timed-out after 5 seconds\n",
      "63251.59s - pydevd: Sending message related to process being replaced timed-out after 5 seconds\n",
      "63251.79s - pydevd: Sending message related to process being replaced timed-out after 5 seconds\n",
      "63251.99s - pydevd: Sending message related to process being replaced timed-out after 5 seconds\n",
      "63252.19s - pydevd: Sending message related to process being replaced timed-out after 5 seconds\n",
      "63252.40s - pydevd: Sending message related to process being replaced timed-out after 5 seconds\n",
      "63252.60s - pydevd: Sending message related to process being replaced timed-out after 5 seconds\n",
      "63252.80s - pydevd: Sending message related to process being replaced timed-out after 5 seconds\n",
      "63253.00s - pydevd: Sending message related to process being replaced timed-out after 5 seconds\n",
      "63253.21s - pydevd: Sending message related to process being replaced timed-out after 5 seconds\n",
      "63253.42s - pydevd: Sending message related to process being replaced timed-out after 5 seconds\n",
      "63253.62s - pydevd: Sending message related to process being replaced timed-out after 5 seconds\n",
      "63253.83s - pydevd: Sending message related to process being replaced timed-out after 5 seconds\n",
      "63254.05s - pydevd: Sending message related to process being replaced timed-out after 5 seconds\n",
      "63254.25s - pydevd: Sending message related to process being replaced timed-out after 5 seconds\n",
      "63254.45s - pydevd: Sending message related to process being replaced timed-out after 5 seconds\n",
      "63254.65s - pydevd: Sending message related to process being replaced timed-out after 5 seconds\n",
      "63254.85s - pydevd: Sending message related to process being replaced timed-out after 5 seconds\n",
      "63255.05s - pydevd: Sending message related to process being replaced timed-out after 5 seconds\n",
      "63255.26s - pydevd: Sending message related to process being replaced timed-out after 5 seconds\n",
      "63255.46s - pydevd: Sending message related to process being replaced timed-out after 5 seconds\n",
      "63255.66s - pydevd: Sending message related to process being replaced timed-out after 5 seconds\n",
      "63255.87s - pydevd: Sending message related to process being replaced timed-out after 5 seconds\n"
     ]
    }
   ],
   "source": [
    "clf_rf = GridSearchCV(pipeline_rf, parameters_rf)\n",
    "result_rf = clf_rf.fit(X_train, y_train)"
   ]
  },
  {
   "cell_type": "code",
   "execution_count": 221,
   "metadata": {},
   "outputs": [
    {
     "data": {
      "text/html": [
       "<style>#sk-container-id-16 {color: black;background-color: white;}#sk-container-id-16 pre{padding: 0;}#sk-container-id-16 div.sk-toggleable {background-color: white;}#sk-container-id-16 label.sk-toggleable__label {cursor: pointer;display: block;width: 100%;margin-bottom: 0;padding: 0.3em;box-sizing: border-box;text-align: center;}#sk-container-id-16 label.sk-toggleable__label-arrow:before {content: \"▸\";float: left;margin-right: 0.25em;color: #696969;}#sk-container-id-16 label.sk-toggleable__label-arrow:hover:before {color: black;}#sk-container-id-16 div.sk-estimator:hover label.sk-toggleable__label-arrow:before {color: black;}#sk-container-id-16 div.sk-toggleable__content {max-height: 0;max-width: 0;overflow: hidden;text-align: left;background-color: #f0f8ff;}#sk-container-id-16 div.sk-toggleable__content pre {margin: 0.2em;color: black;border-radius: 0.25em;background-color: #f0f8ff;}#sk-container-id-16 input.sk-toggleable__control:checked~div.sk-toggleable__content {max-height: 200px;max-width: 100%;overflow: auto;}#sk-container-id-16 input.sk-toggleable__control:checked~label.sk-toggleable__label-arrow:before {content: \"▾\";}#sk-container-id-16 div.sk-estimator input.sk-toggleable__control:checked~label.sk-toggleable__label {background-color: #d4ebff;}#sk-container-id-16 div.sk-label input.sk-toggleable__control:checked~label.sk-toggleable__label {background-color: #d4ebff;}#sk-container-id-16 input.sk-hidden--visually {border: 0;clip: rect(1px 1px 1px 1px);clip: rect(1px, 1px, 1px, 1px);height: 1px;margin: -1px;overflow: hidden;padding: 0;position: absolute;width: 1px;}#sk-container-id-16 div.sk-estimator {font-family: monospace;background-color: #f0f8ff;border: 1px dotted black;border-radius: 0.25em;box-sizing: border-box;margin-bottom: 0.5em;}#sk-container-id-16 div.sk-estimator:hover {background-color: #d4ebff;}#sk-container-id-16 div.sk-parallel-item::after {content: \"\";width: 100%;border-bottom: 1px solid gray;flex-grow: 1;}#sk-container-id-16 div.sk-label:hover label.sk-toggleable__label {background-color: #d4ebff;}#sk-container-id-16 div.sk-serial::before {content: \"\";position: absolute;border-left: 1px solid gray;box-sizing: border-box;top: 0;bottom: 0;left: 50%;z-index: 0;}#sk-container-id-16 div.sk-serial {display: flex;flex-direction: column;align-items: center;background-color: white;padding-right: 0.2em;padding-left: 0.2em;position: relative;}#sk-container-id-16 div.sk-item {position: relative;z-index: 1;}#sk-container-id-16 div.sk-parallel {display: flex;align-items: stretch;justify-content: center;background-color: white;position: relative;}#sk-container-id-16 div.sk-item::before, #sk-container-id-16 div.sk-parallel-item::before {content: \"\";position: absolute;border-left: 1px solid gray;box-sizing: border-box;top: 0;bottom: 0;left: 50%;z-index: -1;}#sk-container-id-16 div.sk-parallel-item {display: flex;flex-direction: column;z-index: 1;position: relative;background-color: white;}#sk-container-id-16 div.sk-parallel-item:first-child::after {align-self: flex-end;width: 50%;}#sk-container-id-16 div.sk-parallel-item:last-child::after {align-self: flex-start;width: 50%;}#sk-container-id-16 div.sk-parallel-item:only-child::after {width: 0;}#sk-container-id-16 div.sk-dashed-wrapped {border: 1px dashed gray;margin: 0 0.4em 0.5em 0.4em;box-sizing: border-box;padding-bottom: 0.4em;background-color: white;}#sk-container-id-16 div.sk-label label {font-family: monospace;font-weight: bold;display: inline-block;line-height: 1.2em;}#sk-container-id-16 div.sk-label-container {text-align: center;}#sk-container-id-16 div.sk-container {/* jupyter's `normalize.less` sets `[hidden] { display: none; }` but bootstrap.min.css set `[hidden] { display: none !important; }` so we also need the `!important` here to be able to override the default hidden behavior on the sphinx rendered scikit-learn.org. See: https://github.com/scikit-learn/scikit-learn/issues/21755 */display: inline-block !important;position: relative;}#sk-container-id-16 div.sk-text-repr-fallback {display: none;}</style><div id=\"sk-container-id-16\" class=\"sk-top-container\"><div class=\"sk-text-repr-fallback\"><pre>GridSearchCV(estimator=Pipeline(steps=[(&#x27;vect&#x27;, TfidfVectorizer()),\n",
       "                                       (&#x27;clf&#x27;,\n",
       "                                        RandomForestClassifier(n_jobs=-2))]),\n",
       "             param_grid={&#x27;clf__n_estimators&#x27;: [50, 100, 200, 500]})</pre><b>In a Jupyter environment, please rerun this cell to show the HTML representation or trust the notebook. <br />On GitHub, the HTML representation is unable to render, please try loading this page with nbviewer.org.</b></div><div class=\"sk-container\" hidden><div class=\"sk-item sk-dashed-wrapped\"><div class=\"sk-label-container\"><div class=\"sk-label sk-toggleable\"><input class=\"sk-toggleable__control sk-hidden--visually\" id=\"sk-estimator-id-40\" type=\"checkbox\" ><label for=\"sk-estimator-id-40\" class=\"sk-toggleable__label sk-toggleable__label-arrow\">GridSearchCV</label><div class=\"sk-toggleable__content\"><pre>GridSearchCV(estimator=Pipeline(steps=[(&#x27;vect&#x27;, TfidfVectorizer()),\n",
       "                                       (&#x27;clf&#x27;,\n",
       "                                        RandomForestClassifier(n_jobs=-2))]),\n",
       "             param_grid={&#x27;clf__n_estimators&#x27;: [50, 100, 200, 500]})</pre></div></div></div><div class=\"sk-parallel\"><div class=\"sk-parallel-item\"><div class=\"sk-item\"><div class=\"sk-label-container\"><div class=\"sk-label sk-toggleable\"><input class=\"sk-toggleable__control sk-hidden--visually\" id=\"sk-estimator-id-41\" type=\"checkbox\" ><label for=\"sk-estimator-id-41\" class=\"sk-toggleable__label sk-toggleable__label-arrow\">estimator: Pipeline</label><div class=\"sk-toggleable__content\"><pre>Pipeline(steps=[(&#x27;vect&#x27;, TfidfVectorizer()),\n",
       "                (&#x27;clf&#x27;, RandomForestClassifier(n_jobs=-2))])</pre></div></div></div><div class=\"sk-serial\"><div class=\"sk-item\"><div class=\"sk-serial\"><div class=\"sk-item\"><div class=\"sk-estimator sk-toggleable\"><input class=\"sk-toggleable__control sk-hidden--visually\" id=\"sk-estimator-id-42\" type=\"checkbox\" ><label for=\"sk-estimator-id-42\" class=\"sk-toggleable__label sk-toggleable__label-arrow\">TfidfVectorizer</label><div class=\"sk-toggleable__content\"><pre>TfidfVectorizer()</pre></div></div></div><div class=\"sk-item\"><div class=\"sk-estimator sk-toggleable\"><input class=\"sk-toggleable__control sk-hidden--visually\" id=\"sk-estimator-id-43\" type=\"checkbox\" ><label for=\"sk-estimator-id-43\" class=\"sk-toggleable__label sk-toggleable__label-arrow\">RandomForestClassifier</label><div class=\"sk-toggleable__content\"><pre>RandomForestClassifier(n_jobs=-2)</pre></div></div></div></div></div></div></div></div></div></div></div></div>"
      ],
      "text/plain": [
       "GridSearchCV(estimator=Pipeline(steps=[('vect', TfidfVectorizer()),\n",
       "                                       ('clf',\n",
       "                                        RandomForestClassifier(n_jobs=-2))]),\n",
       "             param_grid={'clf__n_estimators': [50, 100, 200, 500]})"
      ]
     },
     "execution_count": 221,
     "metadata": {},
     "output_type": "execute_result"
    }
   ],
   "source": [
    "result_rf"
   ]
  },
  {
   "cell_type": "code",
   "execution_count": 222,
   "metadata": {},
   "outputs": [
    {
     "data": {
      "text/plain": [
       "['clf_rf.joblib']"
      ]
     },
     "execution_count": 222,
     "metadata": {},
     "output_type": "execute_result"
    }
   ],
   "source": [
    "# save model\n",
    "from joblib import dump\n",
    "dump(result_rf, 'clf_rf.joblib')"
   ]
  },
  {
   "attachments": {},
   "cell_type": "markdown",
   "metadata": {},
   "source": [
    "#### Evaluation"
   ]
  },
  {
   "cell_type": "code",
   "execution_count": 223,
   "metadata": {},
   "outputs": [],
   "source": [
    "# laod model\n",
    "from joblib import load\n",
    "clf_rf = load('clf_rf.joblib') "
   ]
  },
  {
   "cell_type": "code",
   "execution_count": 224,
   "metadata": {},
   "outputs": [
    {
     "name": "stdout",
     "output_type": "stream",
     "text": [
      "              precision    recall  f1-score   support\n",
      "\n",
      "       False       0.60      0.43      0.50      1157\n",
      "        True       0.62      0.76      0.68      1402\n",
      "\n",
      "    accuracy                           0.61      2559\n",
      "   macro avg       0.61      0.59      0.59      2559\n",
      "weighted avg       0.61      0.61      0.60      2559\n",
      "\n"
     ]
    }
   ],
   "source": [
    "y_pred = clf_rf.predict(X_test)\n",
    "\n",
    "print(classification_report(y_test, y_pred))\n"
   ]
  },
  {
   "cell_type": "code",
   "execution_count": 225,
   "metadata": {},
   "outputs": [
    {
     "data": {
      "text/html": [
       "<div>\n",
       "<style scoped>\n",
       "    .dataframe tbody tr th:only-of-type {\n",
       "        vertical-align: middle;\n",
       "    }\n",
       "\n",
       "    .dataframe tbody tr th {\n",
       "        vertical-align: top;\n",
       "    }\n",
       "\n",
       "    .dataframe thead th {\n",
       "        text-align: right;\n",
       "    }\n",
       "</style>\n",
       "<table border=\"1\" class=\"dataframe\">\n",
       "  <thead>\n",
       "    <tr style=\"text-align: right;\">\n",
       "      <th></th>\n",
       "      <th>X_test</th>\n",
       "      <th>y_test</th>\n",
       "      <th>y_pred</th>\n",
       "    </tr>\n",
       "  </thead>\n",
       "  <tbody>\n",
       "    <tr>\n",
       "      <th>11250</th>\n",
       "      <td>instance people health care cost mortgage cost...</td>\n",
       "      <td>False</td>\n",
       "      <td>True</td>\n",
       "    </tr>\n",
       "    <tr>\n",
       "      <th>2711</th>\n",
       "      <td>say subject 60 book</td>\n",
       "      <td>True</td>\n",
       "      <td>False</td>\n",
       "    </tr>\n",
       "    <tr>\n",
       "      <th>7660</th>\n",
       "      <td>currently delay month processing dna evidence ...</td>\n",
       "      <td>True</td>\n",
       "      <td>True</td>\n",
       "    </tr>\n",
       "    <tr>\n",
       "      <th>2359</th>\n",
       "      <td>Gov. Rick Scott try waiver federal health care...</td>\n",
       "      <td>True</td>\n",
       "      <td>False</td>\n",
       "    </tr>\n",
       "    <tr>\n",
       "      <th>3122</th>\n",
       "      <td>Bernie Sanderss plan raise taxis 90 percent</td>\n",
       "      <td>False</td>\n",
       "      <td>False</td>\n",
       "    </tr>\n",
       "    <tr>\n",
       "      <th>...</th>\n",
       "      <td>...</td>\n",
       "      <td>...</td>\n",
       "      <td>...</td>\n",
       "    </tr>\n",
       "    <tr>\n",
       "      <th>6284</th>\n",
       "      <td>say state Texas permit juror ask question witn...</td>\n",
       "      <td>True</td>\n",
       "      <td>True</td>\n",
       "    </tr>\n",
       "    <tr>\n",
       "      <th>562</th>\n",
       "      <td>week governor Tim Kaine propose nearly $ 4 bil...</td>\n",
       "      <td>True</td>\n",
       "      <td>True</td>\n",
       "    </tr>\n",
       "    <tr>\n",
       "      <th>9651</th>\n",
       "      <td>assault Wisconsin law enforcement officer 224 ...</td>\n",
       "      <td>True</td>\n",
       "      <td>True</td>\n",
       "    </tr>\n",
       "    <tr>\n",
       "      <th>3354</th>\n",
       "      <td>odd fact odd draft 2 overall pick earn 1 pick ...</td>\n",
       "      <td>True</td>\n",
       "      <td>True</td>\n",
       "    </tr>\n",
       "    <tr>\n",
       "      <th>5204</th>\n",
       "      <td>33 pregnant woman walk Planned Parenthood clin...</td>\n",
       "      <td>False</td>\n",
       "      <td>True</td>\n",
       "    </tr>\n",
       "  </tbody>\n",
       "</table>\n",
       "<p>2559 rows × 3 columns</p>\n",
       "</div>"
      ],
      "text/plain": [
       "                                                  X_test  y_test  y_pred\n",
       "11250  instance people health care cost mortgage cost...   False    True\n",
       "2711                                 say subject 60 book    True   False\n",
       "7660   currently delay month processing dna evidence ...    True    True\n",
       "2359   Gov. Rick Scott try waiver federal health care...    True   False\n",
       "3122         Bernie Sanderss plan raise taxis 90 percent   False   False\n",
       "...                                                  ...     ...     ...\n",
       "6284   say state Texas permit juror ask question witn...    True    True\n",
       "562    week governor Tim Kaine propose nearly $ 4 bil...    True    True\n",
       "9651   assault Wisconsin law enforcement officer 224 ...    True    True\n",
       "3354   odd fact odd draft 2 overall pick earn 1 pick ...    True    True\n",
       "5204   33 pregnant woman walk Planned Parenthood clin...   False    True\n",
       "\n",
       "[2559 rows x 3 columns]"
      ]
     },
     "execution_count": 225,
     "metadata": {},
     "output_type": "execute_result"
    }
   ],
   "source": [
    "pd.DataFrame({\"X_test\": X_test, \"y_test\":y_test,\"y_pred\": y_pred})"
   ]
  },
  {
   "attachments": {},
   "cell_type": "markdown",
   "metadata": {},
   "source": [
    "## Support Vector Machine Classifier"
   ]
  },
  {
   "cell_type": "code",
   "execution_count": 226,
   "metadata": {},
   "outputs": [],
   "source": [
    "from sklearn.svm import SVC"
   ]
  },
  {
   "cell_type": "code",
   "execution_count": 227,
   "metadata": {},
   "outputs": [],
   "source": [
    "pipeline_svc = Pipeline(\n",
    "    [\n",
    "        (\"vect\", TfidfVectorizer(use_idf=True)),\n",
    "        (\"clf\", SVC()),\n",
    "    ]\n",
    ")\n",
    "\n",
    "parameters_svc = {\n",
    "    \"clf__C\": [0.1, 1, 10, 100],  # default=1.0\n",
    "    \"clf__kernel\": [\"linear\", \"poly\", \"rbf\", \"sigmoid\"],  # default=\"rbf\"\n",
    "    \"clf__degree\": [3, 4, 5],  # default=3\n",
    "}\n"
   ]
  },
  {
   "cell_type": "code",
   "execution_count": 228,
   "metadata": {},
   "outputs": [
    {
     "name": "stdout",
     "output_type": "stream",
     "text": [
      "{'clf__C': 1, 'clf__degree': 3, 'clf__kernel': 'rbf'}\n"
     ]
    }
   ],
   "source": [
    "clf_svc = GridSearchCV(pipeline_svc, parameters_svc, n_jobs=-2)\n",
    "result_svc = clf_svc.fit(X_train, y_train)\n",
    "\n",
    "print(result_svc.best_params_)"
   ]
  },
  {
   "cell_type": "code",
   "execution_count": 229,
   "metadata": {},
   "outputs": [
    {
     "data": {
      "text/plain": [
       "['clf_svc.joblib']"
      ]
     },
     "execution_count": 229,
     "metadata": {},
     "output_type": "execute_result"
    }
   ],
   "source": [
    "# save model\n",
    "from joblib import dump\n",
    "dump(result_svc, 'clf_svc.joblib')"
   ]
  },
  {
   "cell_type": "code",
   "execution_count": 230,
   "metadata": {},
   "outputs": [],
   "source": [
    "# laod model\n",
    "from joblib import load\n",
    "clf_svc = load('clf_svc.joblib') "
   ]
  },
  {
   "cell_type": "code",
   "execution_count": 231,
   "metadata": {},
   "outputs": [
    {
     "name": "stdout",
     "output_type": "stream",
     "text": [
      "              precision    recall  f1-score   support\n",
      "\n",
      "       False       0.60      0.40      0.48      1157\n",
      "        True       0.61      0.78      0.69      1402\n",
      "\n",
      "    accuracy                           0.61      2559\n",
      "   macro avg       0.61      0.59      0.58      2559\n",
      "weighted avg       0.61      0.61      0.59      2559\n",
      "\n"
     ]
    }
   ],
   "source": [
    "y_pred = clf_svc.predict(X_test)\n",
    "\n",
    "print(classification_report(y_test,y_pred))"
   ]
  },
  {
   "attachments": {},
   "cell_type": "markdown",
   "metadata": {},
   "source": [
    "## Gaussian Naive Bayes"
   ]
  },
  {
   "cell_type": "code",
   "execution_count": 232,
   "metadata": {},
   "outputs": [],
   "source": [
    "from sklearn.naive_bayes import BernoulliNB\n"
   ]
  },
  {
   "cell_type": "code",
   "execution_count": 233,
   "metadata": {},
   "outputs": [],
   "source": [
    "pipeline_nb = Pipeline(\n",
    "    [\n",
    "        (\"vect\", TfidfVectorizer(use_idf=True)),\n",
    "        (\"clf\", BernoulliNB()),\n",
    "    ]\n",
    ")\n"
   ]
  },
  {
   "cell_type": "code",
   "execution_count": 234,
   "metadata": {},
   "outputs": [
    {
     "name": "stdout",
     "output_type": "stream",
     "text": [
      "{'memory': None, 'steps': [('vect', TfidfVectorizer()), ('clf', BernoulliNB())], 'verbose': False, 'vect': TfidfVectorizer(), 'clf': BernoulliNB(), 'vect__analyzer': 'word', 'vect__binary': False, 'vect__decode_error': 'strict', 'vect__dtype': <class 'numpy.float64'>, 'vect__encoding': 'utf-8', 'vect__input': 'content', 'vect__lowercase': True, 'vect__max_df': 1.0, 'vect__max_features': None, 'vect__min_df': 1, 'vect__ngram_range': (1, 1), 'vect__norm': 'l2', 'vect__preprocessor': None, 'vect__smooth_idf': True, 'vect__stop_words': None, 'vect__strip_accents': None, 'vect__sublinear_tf': False, 'vect__token_pattern': '(?u)\\\\b\\\\w\\\\w+\\\\b', 'vect__tokenizer': None, 'vect__use_idf': True, 'vect__vocabulary': None, 'clf__alpha': 1.0, 'clf__binarize': 0.0, 'clf__class_prior': None, 'clf__fit_prior': True, 'clf__force_alpha': 'warn'}\n"
     ]
    }
   ],
   "source": [
    "result_nb = pipeline_nb.fit(X_train, y_train)\n",
    "\n",
    "print(result_nb.get_params())"
   ]
  },
  {
   "cell_type": "code",
   "execution_count": 235,
   "metadata": {},
   "outputs": [
    {
     "data": {
      "text/plain": [
       "['clf_nb.joblib']"
      ]
     },
     "execution_count": 235,
     "metadata": {},
     "output_type": "execute_result"
    }
   ],
   "source": [
    "# save model\n",
    "from joblib import dump\n",
    "dump(result_nb, 'clf_nb.joblib')"
   ]
  },
  {
   "cell_type": "code",
   "execution_count": 236,
   "metadata": {},
   "outputs": [],
   "source": [
    "from joblib import load\n",
    "clf_nb = load('clf_nb.joblib')"
   ]
  },
  {
   "cell_type": "code",
   "execution_count": 237,
   "metadata": {},
   "outputs": [
    {
     "name": "stdout",
     "output_type": "stream",
     "text": [
      "              precision    recall  f1-score   support\n",
      "\n",
      "       False       0.57      0.44      0.50      1157\n",
      "        True       0.61      0.73      0.67      1402\n",
      "\n",
      "    accuracy                           0.60      2559\n",
      "   macro avg       0.59      0.59      0.58      2559\n",
      "weighted avg       0.59      0.60      0.59      2559\n",
      "\n"
     ]
    }
   ],
   "source": [
    "y_pred = clf_nb.predict(X_test)\n",
    "\n",
    "print(classification_report(y_test,y_pred))"
   ]
  },
  {
   "attachments": {},
   "cell_type": "markdown",
   "metadata": {},
   "source": [
    "## Learning Curve"
   ]
  },
  {
   "cell_type": "code",
   "execution_count": 238,
   "metadata": {},
   "outputs": [],
   "source": [
    "from joblib import load\n",
    "clf_rf = load('clf_rf.joblib') \n",
    "clf_svc = load('clf_svc.joblib') \n",
    "clf_nb = load('clf_nb.joblib') "
   ]
  },
  {
   "cell_type": "code",
   "execution_count": 239,
   "metadata": {},
   "outputs": [
    {
     "name": "stdout",
     "output_type": "stream",
     "text": [
      "Random Forest\n",
      "              precision    recall  f1-score   support\n",
      "\n",
      "       False       0.60      0.43      0.50      1157\n",
      "        True       0.62      0.76      0.68      1402\n",
      "\n",
      "    accuracy                           0.61      2559\n",
      "   macro avg       0.61      0.59      0.59      2559\n",
      "weighted avg       0.61      0.61      0.60      2559\n",
      "\n",
      "SVM\n",
      "              precision    recall  f1-score   support\n",
      "\n",
      "       False       0.60      0.40      0.48      1157\n",
      "        True       0.61      0.78      0.69      1402\n",
      "\n",
      "    accuracy                           0.61      2559\n",
      "   macro avg       0.61      0.59      0.58      2559\n",
      "weighted avg       0.61      0.61      0.59      2559\n",
      "\n",
      "Naive Bayes\n",
      "              precision    recall  f1-score   support\n",
      "\n",
      "       False       0.57      0.44      0.50      1157\n",
      "        True       0.61      0.73      0.67      1402\n",
      "\n",
      "    accuracy                           0.60      2559\n",
      "   macro avg       0.59      0.59      0.58      2559\n",
      "weighted avg       0.59      0.60      0.59      2559\n",
      "\n"
     ]
    }
   ],
   "source": [
    "# Print classification report of each model\n",
    "print(\"Random Forest\")\n",
    "print(classification_report(y_test, clf_rf.predict(X_test)))\n",
    "print(\"SVM\")\n",
    "print(classification_report(y_test, clf_svc.predict(X_test)))\n",
    "print(\"Naive Bayes\")\n",
    "print(classification_report(y_test, clf_nb.predict(X_test)))"
   ]
  },
  {
   "cell_type": "code",
   "execution_count": 240,
   "metadata": {},
   "outputs": [],
   "source": [
    "estimators = {\n",
    "    \"Random Forest\": clf_rf.estimator,\n",
    "    \"SVM\": clf_svc.estimator,\n",
    "    \"Navie Bayes\": clf_nb,\n",
    "}"
   ]
  },
  {
   "cell_type": "code",
   "execution_count": 248,
   "metadata": {},
   "outputs": [
    {
     "name": "stderr",
     "output_type": "stream",
     "text": [
      "/home/kooler/dev/sw/sns-fake-content/model/env_model/lib/python3.8/site-packages/joblib/externals/loky/process_executor.py:700: UserWarning: A worker stopped while some jobs were given to the executor. This can be caused by a too short worker timeout or by a memory leak.\n",
      "  warnings.warn(\n",
      "63813.89s - pydevd: Sending message related to process being replaced timed-out after 5 seconds\n",
      "63826.12s - pydevd: Sending message related to process being replaced timed-out after 5 seconds\n",
      "63830.45s - pydevd: Sending message related to process being replaced timed-out after 5 seconds\n"
     ]
    },
    {
     "data": {
      "image/png": "[encoded data removed]",
      "text/plain": [
       "<Figure size 1000x600 with 3 Axes>"
      ]
     },
     "metadata": {},
     "output_type": "display_data"
    }
   ],
   "source": [
    "from sklearn.model_selection import learning_curve, LearningCurveDisplay, ShuffleSplit\n",
    "import matplotlib.pyplot as plt\n",
    "\n",
    "fig, ax = plt.subplots(nrows=1, ncols=len(estimators), figsize=(10, 6), sharey=True)\n",
    "\n",
    "\n",
    "common_params = {\n",
    "    \"X\": X,\n",
    "    \"y\": y,\n",
    "    \"train_sizes\": np.linspace(0.1, 1.0, 5),\n",
    "    \"cv\": ShuffleSplit(n_splits=25, test_size=0.15),\n",
    "    \"score_type\": \"both\",\n",
    "    \"line_kw\": {\"marker\": \"o\"},\n",
    "    \"std_display_style\": \"fill_between\",\n",
    "    \"score_name\": \"Accuracy\",\n",
    "    \"n_jobs\": -2,\n",
    "}\n",
    "\n",
    "for ax_idx, estimator_key in enumerate(estimators.keys()):\n",
    "\n",
    "    LearningCurveDisplay.from_estimator(\n",
    "        estimators[estimator_key], **common_params, ax=ax[ax_idx]\n",
    "    )\n",
    "    handles, label = ax[ax_idx].get_legend_handles_labels()\n",
    "    ax[ax_idx].legend(handles[: len(estimators)], [\"Training Score\", \"Test Score\"])\n",
    "    ax[ax_idx].set_title(f\"Learning Curve for {estimator_key}\")\n",
    "\n",
    "fig.savefig(\"learning_curve.png\", dpi=300, bbox_inches=\"tight\")\n"
   ]
  },
  {
   "cell_type": "code",
   "execution_count": 297,
   "metadata": {},
   "outputs": [
    {
     "data": {
      "image/png": "[encoded data removed]",
      "text/plain": [
       "<Figure size 1200x400 with 6 Axes>"
      ]
     },
     "metadata": {},
     "output_type": "display_data"
    }
   ],
   "source": [
    "import numpy as np\n",
    "from sklearn.metrics import confusion_matrix\n",
    "import seaborn as sns\n",
    "\n",
    "fig, ax = plt.subplots(nrows=1, ncols=len(estimators), figsize=(12, 4), sharey=True)\n",
    "fig.suptitle(\"Confusion Matrix\")\n",
    "group_names = [\"TN\", \"FP\", \"FN\", \"TP\"]\n",
    "\n",
    "models = [clf_rf, clf_svc, clf_nb]\n",
    "models_name = [\"Random Forest\", \"SVM\", \"Navie Bayes\"]\n",
    "\n",
    "# Plot Confusion matrix\n",
    "for idx, model in enumerate(models):\n",
    "    ax[idx].legend(handles[: len(estimators)], [\"Training Score\", \"Test Score\"])\n",
    "    ax[idx].set_title(f\"Confusion Matrix {models_name[idx]}\")\n",
    "    \n",
    "    cnf_matrix = confusion_matrix(y_test, model.predict(X_test))\n",
    "    group_counts = [\"{0:0.0f}\".format(value) for value in cnf_matrix.flatten()]\n",
    "    labels = [f\"{v1}\\n{v2}\" for v1, v2 in zip(group_names, group_counts)]\n",
    "    labels = np.asarray(labels).reshape(2, 2)\n",
    "\n",
    "    sns.heatmap(cnf_matrix, ax=ax[idx], annot=labels, fmt=\"\", cmap=\"Blues\")\n",
    "\n",
    "fig.savefig(\"confusion_matrix.png\", dpi=300, bbox_inches=\"tight\")"
   ]
  },
  {
   "cell_type": "code",
   "execution_count": null,
   "metadata": {},
   "outputs": [],
   "source": []
  }
 ],
 "metadata": {
  "kernelspec": {
   "display_name": "env_model",
   "language": "python",
   "name": "python3"
  },
  "language_info": {
   "codemirror_mode": {
    "name": "ipython",
    "version": 3
   },
   "file_extension": ".py",
   "mimetype": "text/x-python",
   "name": "python",
   "nbconvert_exporter": "python",
   "pygments_lexer": "ipython3",
   "version": "3.8.10"
  },
  "orig_nbformat": 4,
  "vscode": {
   "interpreter": {
    "hash": "d773fab12b01c3128a3fce0810a89821e4c01d5ece206bce91b763fe7cc879c9"
   }
  }
 },
 "nbformat": 4,
 "nbformat_minor": 2
}
