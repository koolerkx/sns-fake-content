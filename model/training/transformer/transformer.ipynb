{
 "cells": [
  {
   "attachments": {},
   "cell_type": "markdown",
   "metadata": {},
   "source": [
    "# Transformer model\n",
    "\n",
    "ref: https://huggingface.co/course/chapter2/2?fw=pt"
   ]
  },
  {
   "attachments": {},
   "cell_type": "markdown",
   "metadata": {},
   "source": [
    "## Make Dataset"
   ]
  },
  {
   "cell_type": "code",
   "execution_count": 20,
   "metadata": {},
   "outputs": [],
   "source": [
    "import pandas as pd\n",
    "import numpy as np\n",
    "import datasets\n",
    "from datasets import Dataset, DatasetDict"
   ]
  },
  {
   "cell_type": "code",
   "execution_count": 21,
   "metadata": {},
   "outputs": [
    {
     "data": {
      "text/html": [
       "<div>\n",
       "<style scoped>\n",
       "    .dataframe tbody tr th:only-of-type {\n",
       "        vertical-align: middle;\n",
       "    }\n",
       "\n",
       "    .dataframe tbody tr th {\n",
       "        vertical-align: top;\n",
       "    }\n",
       "\n",
       "    .dataframe thead th {\n",
       "        text-align: right;\n",
       "    }\n",
       "</style>\n",
       "<table border=\"1\" class=\"dataframe\">\n",
       "  <thead>\n",
       "    <tr style=\"text-align: right;\">\n",
       "      <th></th>\n",
       "      <th>text</th>\n",
       "      <th>processed_text</th>\n",
       "      <th>label</th>\n",
       "      <th>label_raw</th>\n",
       "    </tr>\n",
       "  </thead>\n",
       "  <tbody>\n",
       "    <tr>\n",
       "      <th>0</th>\n",
       "      <td>On Air with Ryan Seacrest is offering you a ch...</td>\n",
       "      <td>[air, ryan, seacrest, offer, chance, win, nigh...</td>\n",
       "      <td>0</td>\n",
       "      <td>false</td>\n",
       "    </tr>\n",
       "    <tr>\n",
       "      <th>1</th>\n",
       "      <td>‘American Idol’ final: How to vote for the sea...</td>\n",
       "      <td>[american, idol, final, vote, season, winner, ...</td>\n",
       "      <td>0</td>\n",
       "      <td>false</td>\n",
       "    </tr>\n",
       "    <tr>\n",
       "      <th>2</th>\n",
       "      <td>@ScottDisick @KrisJenner @khloekardashian — LA...</td>\n",
       "      <td>[latest, art, shame, revenge, prank, banksy, s...</td>\n",
       "      <td>0</td>\n",
       "      <td>false</td>\n",
       "    </tr>\n",
       "    <tr>\n",
       "      <th>3</th>\n",
       "      <td>@foquinha Youngblood - 5 Seconds of Summer \\nO...</td>\n",
       "      <td>[youngblood, seconds, summer, little, mix, del...</td>\n",
       "      <td>0</td>\n",
       "      <td>false</td>\n",
       "    </tr>\n",
       "    <tr>\n",
       "      <th>4</th>\n",
       "      <td>Kylie Jenner ‘Open’ To Reconciliation With Tyg...</td>\n",
       "      <td>[kylie, jenner, open, reconciliation, tyga, pr...</td>\n",
       "      <td>0</td>\n",
       "      <td>false</td>\n",
       "    </tr>\n",
       "    <tr>\n",
       "      <th>5</th>\n",
       "      <td>@Khalais1 @ibpqueen @IstantheBadGuy @_luluomar...</td>\n",
       "      <td>[yes, studio, album, album, consistent, let, k...</td>\n",
       "      <td>0</td>\n",
       "      <td>false</td>\n",
       "    </tr>\n",
       "    <tr>\n",
       "      <th>6</th>\n",
       "      <td>@realDonaldTrump Says the Jesuit of his brothe...</td>\n",
       "      <td>[say, jesuit, brother, entrench, rome, payday,...</td>\n",
       "      <td>0</td>\n",
       "      <td>false</td>\n",
       "    </tr>\n",
       "    <tr>\n",
       "      <th>7</th>\n",
       "      <td>Kim Kardashian Recalls “Tough Conversation” Wi...</td>\n",
       "      <td>[kim, kardashian, recalls, tough, conversation...</td>\n",
       "      <td>0</td>\n",
       "      <td>false</td>\n",
       "    </tr>\n",
       "    <tr>\n",
       "      <th>8</th>\n",
       "      <td>RT @rihanna: RT @RyanSeacrest: \"Nobody really ...</td>\n",
       "      <td>[rt, rt, care, miserable, happy, cynthia, nelm]</td>\n",
       "      <td>0</td>\n",
       "      <td>false</td>\n",
       "    </tr>\n",
       "    <tr>\n",
       "      <th>9</th>\n",
       "      <td>Portia de Rossi: Ellen Divorce Rumors Make Us ...</td>\n",
       "      <td>[portia, de, rossi, ellen, divorce, rumors, fe...</td>\n",
       "      <td>0</td>\n",
       "      <td>false</td>\n",
       "    </tr>\n",
       "  </tbody>\n",
       "</table>\n",
       "</div>"
      ],
      "text/plain": [
       "                                                text  \\\n",
       "0  On Air with Ryan Seacrest is offering you a ch...   \n",
       "1  ‘American Idol’ final: How to vote for the sea...   \n",
       "2  @ScottDisick @KrisJenner @khloekardashian — LA...   \n",
       "3  @foquinha Youngblood - 5 Seconds of Summer \\nO...   \n",
       "4  Kylie Jenner ‘Open’ To Reconciliation With Tyg...   \n",
       "5  @Khalais1 @ibpqueen @IstantheBadGuy @_luluomar...   \n",
       "6  @realDonaldTrump Says the Jesuit of his brothe...   \n",
       "7  Kim Kardashian Recalls “Tough Conversation” Wi...   \n",
       "8  RT @rihanna: RT @RyanSeacrest: \"Nobody really ...   \n",
       "9  Portia de Rossi: Ellen Divorce Rumors Make Us ...   \n",
       "\n",
       "                                      processed_text  label label_raw  \n",
       "0  [air, ryan, seacrest, offer, chance, win, nigh...      0     false  \n",
       "1  [american, idol, final, vote, season, winner, ...      0     false  \n",
       "2  [latest, art, shame, revenge, prank, banksy, s...      0     false  \n",
       "3  [youngblood, seconds, summer, little, mix, del...      0     false  \n",
       "4  [kylie, jenner, open, reconciliation, tyga, pr...      0     false  \n",
       "5  [yes, studio, album, album, consistent, let, k...      0     false  \n",
       "6  [say, jesuit, brother, entrench, rome, payday,...      0     false  \n",
       "7  [kim, kardashian, recalls, tough, conversation...      0     false  \n",
       "8    [rt, rt, care, miserable, happy, cynthia, nelm]      0     false  \n",
       "9  [portia, de, rossi, ellen, divorce, rumors, fe...      0     false  "
      ]
     },
     "execution_count": 21,
     "metadata": {},
     "output_type": "execute_result"
    }
   ],
   "source": [
    "data_df = pd.read_pickle('../../../dataset/FakeNewsNet/data/FakeNewsNet.pkl')\n",
    "data_df['label_raw'] = data_df['label']\n",
    "data_df['label'] = data_df['label'].map({'false': 0, 'true': 1})\n",
    "data_df.head(10)"
   ]
  },
  {
   "cell_type": "code",
   "execution_count": 22,
   "metadata": {},
   "outputs": [
    {
     "name": "stdout",
     "output_type": "stream",
     "text": [
      "train {'shape': (875639,), 'true': 596727, 'false': 278912}\n",
      "val {'shape': (218910,), 'true': 149047, 'false': 69863}\n",
      "test {'shape': (273638,), 'true': 186595, 'false': 87043}\n"
     ]
    }
   ],
   "source": [
    "# Train test split\n",
    "from sklearn.model_selection import train_test_split\n",
    "\n",
    "\n",
    "def get_shape(X, y):\n",
    "    return {\n",
    "        \"shape\": X.shape,\n",
    "        \"true\": np.count_nonzero(y),\n",
    "        \"false\": len(y) - np.count_nonzero(y),\n",
    "    }\n",
    "\n",
    "\n",
    "X_train, X_test, y_train, y_test = train_test_split(\n",
    "    data_df[\"text\"], data_df[\"label\"], test_size=0.2, random_state=2023\n",
    ")\n",
    "X_train, X_val, y_train, y_val = train_test_split(\n",
    "    X_train, y_train, test_size=0.2, random_state=2023\n",
    ")\n",
    "\n",
    "print(\"train\", get_shape(X_train, y_train))\n",
    "print(\"val\", get_shape(X_val, y_val))\n",
    "print(\"test\", get_shape(X_test, y_test))\n"
   ]
  },
  {
   "cell_type": "code",
   "execution_count": 23,
   "metadata": {},
   "outputs": [
    {
     "data": {
      "text/plain": [
       "DatasetDict({\n",
       "    train: Dataset({\n",
       "        features: ['text', 'label', '__index_level_0__'],\n",
       "        num_rows: 875639\n",
       "    })\n",
       "    validation: Dataset({\n",
       "        features: ['text', 'label', '__index_level_0__'],\n",
       "        num_rows: 218910\n",
       "    })\n",
       "    test: Dataset({\n",
       "        features: ['text', 'label', '__index_level_0__'],\n",
       "        num_rows: 273638\n",
       "    })\n",
       "})"
      ]
     },
     "execution_count": 23,
     "metadata": {},
     "output_type": "execute_result"
    }
   ],
   "source": [
    "data_ds = DatasetDict()\n",
    "\n",
    "data_ds['train'] = Dataset.from_pandas(pd.concat([X_train, y_train], axis=1))\n",
    "data_ds['validation'] = Dataset.from_pandas(pd.concat([X_val, y_val], axis=1))\n",
    "data_ds['test'] = Dataset.from_pandas(pd.concat([X_test, y_test], axis=1))\n",
    "\n",
    "data_ds"
   ]
  },
  {
   "cell_type": "code",
   "execution_count": 24,
   "metadata": {},
   "outputs": [
    {
     "data": {
      "application/vnd.jupyter.widget-view+json": {
       "model_id": "2e5809df8b434c66b3d5a43a8fcd0a27",
       "version_major": 2,
       "version_minor": 0
      },
      "text/plain": [
       "Saving the dataset (0/1 shards):   0%|          | 0/875639 [00:00<?, ? examples/s]"
      ]
     },
     "metadata": {},
     "output_type": "display_data"
    },
    {
     "data": {
      "application/vnd.jupyter.widget-view+json": {
       "model_id": "c9c3fbf516ad484a837c3c337f08dff9",
       "version_major": 2,
       "version_minor": 0
      },
      "text/plain": [
       "Saving the dataset (0/1 shards):   0%|          | 0/218910 [00:00<?, ? examples/s]"
      ]
     },
     "metadata": {},
     "output_type": "display_data"
    },
    {
     "data": {
      "application/vnd.jupyter.widget-view+json": {
       "model_id": "11b55382e6d443b38af1579720f7808d",
       "version_major": 2,
       "version_minor": 0
      },
      "text/plain": [
       "Saving the dataset (0/1 shards):   0%|          | 0/273638 [00:00<?, ? examples/s]"
      ]
     },
     "metadata": {},
     "output_type": "display_data"
    }
   ],
   "source": [
    "data_ds.save_to_disk('data_ds')"
   ]
  },
  {
   "cell_type": "code",
   "execution_count": 25,
   "metadata": {},
   "outputs": [
    {
     "name": "stdout",
     "output_type": "stream",
     "text": [
      "train {'shape': (8185,), 'true': 4560, 'false': 3625}\n",
      "val {'shape': (2047,), 'true': 1149, 'false': 898}\n",
      "test {'shape': (2559,), 'true': 1425, 'false': 1134}\n"
     ]
    }
   ],
   "source": [
    "liar_df = pd.read_pickle(\"../../../dataset/LIAR/data/master.pkl\")\n",
    "liar_df['text'] = liar_df['statement']\n",
    "liar_df['label_raw'] = liar_df['label']\n",
    "liar_df['label'] = liar_df['label_raw'].apply(lambda x: 1 if x else 0)\n",
    "\n",
    "# Train test split\n",
    "from sklearn.model_selection import train_test_split\n",
    "\n",
    "\n",
    "def get_shape(X, y):\n",
    "    return {\n",
    "        \"shape\": X.shape,\n",
    "        \"true\": np.count_nonzero(y),\n",
    "        \"false\": len(y) - np.count_nonzero(y),\n",
    "    }\n",
    "\n",
    "\n",
    "X_liar_train, X_liar_test, y_liar_train, y_liar_test = train_test_split(\n",
    "    liar_df[\"text\"], liar_df[\"label\"], test_size=0.2, random_state=2023\n",
    ")\n",
    "X_liar_train, X_liar_val, y_liar_train, y_liar_val = train_test_split(\n",
    "    X_liar_train, y_liar_train, test_size=0.2, random_state=2023\n",
    ")\n",
    "\n",
    "print(\"train\", get_shape(X_liar_train, y_liar_train))\n",
    "print(\"val\", get_shape(X_liar_val, y_liar_val))\n",
    "print(\"test\", get_shape(X_liar_test, y_liar_test))"
   ]
  },
  {
   "cell_type": "code",
   "execution_count": 26,
   "metadata": {},
   "outputs": [
    {
     "data": {
      "text/html": [
       "<div>\n",
       "<style scoped>\n",
       "    .dataframe tbody tr th:only-of-type {\n",
       "        vertical-align: middle;\n",
       "    }\n",
       "\n",
       "    .dataframe tbody tr th {\n",
       "        vertical-align: top;\n",
       "    }\n",
       "\n",
       "    .dataframe thead th {\n",
       "        text-align: right;\n",
       "    }\n",
       "</style>\n",
       "<table border=\"1\" class=\"dataframe\">\n",
       "  <thead>\n",
       "    <tr style=\"text-align: right;\">\n",
       "      <th></th>\n",
       "      <th>id</th>\n",
       "      <th>label</th>\n",
       "      <th>statement</th>\n",
       "      <th>subject</th>\n",
       "      <th>speaker</th>\n",
       "      <th>job_title</th>\n",
       "      <th>state_info</th>\n",
       "      <th>party_affiliation</th>\n",
       "      <th>barely_true_counts</th>\n",
       "      <th>false_counts</th>\n",
       "      <th>half_true_counts</th>\n",
       "      <th>mostly_true_counts</th>\n",
       "      <th>pants_on_fire_counts</th>\n",
       "      <th>context</th>\n",
       "      <th>statement_processed</th>\n",
       "      <th>text</th>\n",
       "      <th>label_raw</th>\n",
       "    </tr>\n",
       "  </thead>\n",
       "  <tbody>\n",
       "    <tr>\n",
       "      <th>0</th>\n",
       "      <td>2635.json</td>\n",
       "      <td>0</td>\n",
       "      <td>Says the Annies List political group supports ...</td>\n",
       "      <td>abortion</td>\n",
       "      <td>dwayne-bohac</td>\n",
       "      <td>State representative</td>\n",
       "      <td>Texas</td>\n",
       "      <td>republican</td>\n",
       "      <td>0.0</td>\n",
       "      <td>1.0</td>\n",
       "      <td>0.0</td>\n",
       "      <td>0.0</td>\n",
       "      <td>0.0</td>\n",
       "      <td>a mailer</td>\n",
       "      <td>say Annies List political group support trimes...</td>\n",
       "      <td>Says the Annies List political group supports ...</td>\n",
       "      <td>False</td>\n",
       "    </tr>\n",
       "    <tr>\n",
       "      <th>1</th>\n",
       "      <td>10540.json</td>\n",
       "      <td>1</td>\n",
       "      <td>When did the decline of coal start? It started...</td>\n",
       "      <td>energy,history,job-accomplishments</td>\n",
       "      <td>scott-surovell</td>\n",
       "      <td>State delegate</td>\n",
       "      <td>Virginia</td>\n",
       "      <td>democrat</td>\n",
       "      <td>0.0</td>\n",
       "      <td>0.0</td>\n",
       "      <td>1.0</td>\n",
       "      <td>1.0</td>\n",
       "      <td>0.0</td>\n",
       "      <td>a floor speech.</td>\n",
       "      <td>decline coal start start natural gas take star...</td>\n",
       "      <td>When did the decline of coal start? It started...</td>\n",
       "      <td>True</td>\n",
       "    </tr>\n",
       "    <tr>\n",
       "      <th>2</th>\n",
       "      <td>324.json</td>\n",
       "      <td>1</td>\n",
       "      <td>Hillary Clinton agrees with John McCain \"by vo...</td>\n",
       "      <td>foreign-policy</td>\n",
       "      <td>barack-obama</td>\n",
       "      <td>President</td>\n",
       "      <td>Illinois</td>\n",
       "      <td>democrat</td>\n",
       "      <td>70.0</td>\n",
       "      <td>71.0</td>\n",
       "      <td>160.0</td>\n",
       "      <td>163.0</td>\n",
       "      <td>9.0</td>\n",
       "      <td>Denver</td>\n",
       "      <td>Hillary Clinton agree John McCain vote George ...</td>\n",
       "      <td>Hillary Clinton agrees with John McCain \"by vo...</td>\n",
       "      <td>True</td>\n",
       "    </tr>\n",
       "    <tr>\n",
       "      <th>3</th>\n",
       "      <td>1123.json</td>\n",
       "      <td>0</td>\n",
       "      <td>Health care reform legislation is likely to ma...</td>\n",
       "      <td>health-care</td>\n",
       "      <td>blog-posting</td>\n",
       "      <td>NaN</td>\n",
       "      <td>NaN</td>\n",
       "      <td>none</td>\n",
       "      <td>7.0</td>\n",
       "      <td>19.0</td>\n",
       "      <td>3.0</td>\n",
       "      <td>5.0</td>\n",
       "      <td>44.0</td>\n",
       "      <td>a news release</td>\n",
       "      <td>health care reform legislation likely mandate ...</td>\n",
       "      <td>Health care reform legislation is likely to ma...</td>\n",
       "      <td>False</td>\n",
       "    </tr>\n",
       "    <tr>\n",
       "      <th>4</th>\n",
       "      <td>9028.json</td>\n",
       "      <td>1</td>\n",
       "      <td>The economic turnaround started at the end of ...</td>\n",
       "      <td>economy,jobs</td>\n",
       "      <td>charlie-crist</td>\n",
       "      <td>NaN</td>\n",
       "      <td>Florida</td>\n",
       "      <td>democrat</td>\n",
       "      <td>15.0</td>\n",
       "      <td>9.0</td>\n",
       "      <td>20.0</td>\n",
       "      <td>19.0</td>\n",
       "      <td>2.0</td>\n",
       "      <td>an interview on CNN</td>\n",
       "      <td>economic turnaround start end term</td>\n",
       "      <td>The economic turnaround started at the end of ...</td>\n",
       "      <td>True</td>\n",
       "    </tr>\n",
       "  </tbody>\n",
       "</table>\n",
       "</div>"
      ],
      "text/plain": [
       "           id  label                                          statement  \\\n",
       "0   2635.json      0  Says the Annies List political group supports ...   \n",
       "1  10540.json      1  When did the decline of coal start? It started...   \n",
       "2    324.json      1  Hillary Clinton agrees with John McCain \"by vo...   \n",
       "3   1123.json      0  Health care reform legislation is likely to ma...   \n",
       "4   9028.json      1  The economic turnaround started at the end of ...   \n",
       "\n",
       "                              subject         speaker             job_title  \\\n",
       "0                            abortion    dwayne-bohac  State representative   \n",
       "1  energy,history,job-accomplishments  scott-surovell        State delegate   \n",
       "2                      foreign-policy    barack-obama             President   \n",
       "3                         health-care    blog-posting                   NaN   \n",
       "4                        economy,jobs   charlie-crist                   NaN   \n",
       "\n",
       "  state_info party_affiliation  barely_true_counts  false_counts  \\\n",
       "0      Texas        republican                 0.0           1.0   \n",
       "1   Virginia          democrat                 0.0           0.0   \n",
       "2   Illinois          democrat                70.0          71.0   \n",
       "3        NaN              none                 7.0          19.0   \n",
       "4    Florida          democrat                15.0           9.0   \n",
       "\n",
       "   half_true_counts  mostly_true_counts  pants_on_fire_counts  \\\n",
       "0               0.0                 0.0                   0.0   \n",
       "1               1.0                 1.0                   0.0   \n",
       "2             160.0               163.0                   9.0   \n",
       "3               3.0                 5.0                  44.0   \n",
       "4              20.0                19.0                   2.0   \n",
       "\n",
       "               context                                statement_processed  \\\n",
       "0             a mailer  say Annies List political group support trimes...   \n",
       "1      a floor speech.  decline coal start start natural gas take star...   \n",
       "2               Denver  Hillary Clinton agree John McCain vote George ...   \n",
       "3       a news release  health care reform legislation likely mandate ...   \n",
       "4  an interview on CNN                 economic turnaround start end term   \n",
       "\n",
       "                                                text  label_raw  \n",
       "0  Says the Annies List political group supports ...      False  \n",
       "1  When did the decline of coal start? It started...       True  \n",
       "2  Hillary Clinton agrees with John McCain \"by vo...       True  \n",
       "3  Health care reform legislation is likely to ma...      False  \n",
       "4  The economic turnaround started at the end of ...       True  "
      ]
     },
     "execution_count": 26,
     "metadata": {},
     "output_type": "execute_result"
    }
   ],
   "source": [
    "liar_df.head()"
   ]
  },
  {
   "cell_type": "code",
   "execution_count": 27,
   "metadata": {},
   "outputs": [
    {
     "data": {
      "text/plain": [
       "DatasetDict({\n",
       "    train: Dataset({\n",
       "        features: ['text', 'label', '__index_level_0__'],\n",
       "        num_rows: 8185\n",
       "    })\n",
       "    validation: Dataset({\n",
       "        features: ['text', 'label', '__index_level_0__'],\n",
       "        num_rows: 2047\n",
       "    })\n",
       "    test: Dataset({\n",
       "        features: ['text', 'label', '__index_level_0__'],\n",
       "        num_rows: 2559\n",
       "    })\n",
       "})"
      ]
     },
     "execution_count": 27,
     "metadata": {},
     "output_type": "execute_result"
    }
   ],
   "source": [
    "liar_ds = DatasetDict()\n",
    "\n",
    "liar_ds['train'] = Dataset.from_pandas(pd.concat([X_liar_train, y_liar_train], axis=1))\n",
    "liar_ds['validation'] = Dataset.from_pandas(pd.concat([X_liar_val, y_liar_val], axis=1))\n",
    "liar_ds['test'] = Dataset.from_pandas(pd.concat([X_liar_test, y_liar_test], axis=1))\n",
    "\n",
    "liar_ds"
   ]
  },
  {
   "cell_type": "code",
   "execution_count": 28,
   "metadata": {},
   "outputs": [
    {
     "data": {
      "application/vnd.jupyter.widget-view+json": {
       "model_id": "dac1659654f4426fb5d419b9acda176e",
       "version_major": 2,
       "version_minor": 0
      },
      "text/plain": [
       "Saving the dataset (0/1 shards):   0%|          | 0/8185 [00:00<?, ? examples/s]"
      ]
     },
     "metadata": {},
     "output_type": "display_data"
    },
    {
     "data": {
      "application/vnd.jupyter.widget-view+json": {
       "model_id": "dd9418bcd3e34ea2aada23c29010165b",
       "version_major": 2,
       "version_minor": 0
      },
      "text/plain": [
       "Saving the dataset (0/1 shards):   0%|          | 0/2047 [00:00<?, ? examples/s]"
      ]
     },
     "metadata": {},
     "output_type": "display_data"
    },
    {
     "data": {
      "application/vnd.jupyter.widget-view+json": {
       "model_id": "5249204cd85a4e93a23dc4e7f4ff3096",
       "version_major": 2,
       "version_minor": 0
      },
      "text/plain": [
       "Saving the dataset (0/1 shards):   0%|          | 0/2559 [00:00<?, ? examples/s]"
      ]
     },
     "metadata": {},
     "output_type": "display_data"
    }
   ],
   "source": [
    "liar_ds.save_to_disk('liar_ds')"
   ]
  }
 ],
 "metadata": {
  "kernelspec": {
   "display_name": "env_model",
   "language": "python",
   "name": "python3"
  },
  "language_info": {
   "codemirror_mode": {
    "name": "ipython",
    "version": 3
   },
   "file_extension": ".py",
   "mimetype": "text/x-python",
   "name": "python",
   "nbconvert_exporter": "python",
   "pygments_lexer": "ipython3",
   "version": "3.8.10 (default, Nov 14 2022, 12:59:47) \n[GCC 9.4.0]"
  },
  "orig_nbformat": 4,
  "vscode": {
   "interpreter": {
    "hash": "d773fab12b01c3128a3fce0810a89821e4c01d5ece206bce91b763fe7cc879c9"
   }
  }
 },
 "nbformat": 4,
 "nbformat_minor": 2
}
