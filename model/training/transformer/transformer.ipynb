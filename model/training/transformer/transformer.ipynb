{
 "cells": [
  {
   "attachments": {},
   "cell_type": "markdown",
   "metadata": {},
   "source": [
    "# Transformer model\n",
    "\n",
    "ref: https://huggingface.co/course/chapter2/2?fw=pt"
   ]
  },
  {
   "attachments": {},
   "cell_type": "markdown",
   "metadata": {},
   "source": [
    "## Make Dataset"
   ]
  },
  {
   "cell_type": "code",
   "execution_count": 166,
   "metadata": {},
   "outputs": [],
   "source": [
    "import pandas as pd\n",
    "import numpy as np\n",
    "import datasets\n",
    "from datasets import Dataset, DatasetDict"
   ]
  },
  {
   "cell_type": "code",
   "execution_count": 168,
   "metadata": {},
   "outputs": [
    {
     "data": {
      "text/html": [
       "<div>\n",
       "<style scoped>\n",
       "    .dataframe tbody tr th:only-of-type {\n",
       "        vertical-align: middle;\n",
       "    }\n",
       "\n",
       "    .dataframe tbody tr th {\n",
       "        vertical-align: top;\n",
       "    }\n",
       "\n",
       "    .dataframe thead th {\n",
       "        text-align: right;\n",
       "    }\n",
       "</style>\n",
       "<table border=\"1\" class=\"dataframe\">\n",
       "  <thead>\n",
       "    <tr style=\"text-align: right;\">\n",
       "      <th></th>\n",
       "      <th>text</th>\n",
       "      <th>processed_text</th>\n",
       "      <th>label</th>\n",
       "    </tr>\n",
       "  </thead>\n",
       "  <tbody>\n",
       "    <tr>\n",
       "      <th>0</th>\n",
       "      <td>On Air with Ryan Seacrest is offering you a ch...</td>\n",
       "      <td>[air, ryan, seacrest, offer, chance, win, nigh...</td>\n",
       "      <td>False</td>\n",
       "    </tr>\n",
       "    <tr>\n",
       "      <th>1</th>\n",
       "      <td>‘American Idol’ final: How to vote for the sea...</td>\n",
       "      <td>[american, idol, final, vote, season, winner, ...</td>\n",
       "      <td>False</td>\n",
       "    </tr>\n",
       "    <tr>\n",
       "      <th>2</th>\n",
       "      <td>@ScottDisick @KrisJenner @khloekardashian — LA...</td>\n",
       "      <td>[latest, art, shame, revenge, prank, banksy, s...</td>\n",
       "      <td>False</td>\n",
       "    </tr>\n",
       "    <tr>\n",
       "      <th>3</th>\n",
       "      <td>@foquinha Youngblood - 5 Seconds of Summer \\nO...</td>\n",
       "      <td>[youngblood, seconds, summer, little, mix, del...</td>\n",
       "      <td>False</td>\n",
       "    </tr>\n",
       "    <tr>\n",
       "      <th>4</th>\n",
       "      <td>Kylie Jenner ‘Open’ To Reconciliation With Tyg...</td>\n",
       "      <td>[kylie, jenner, open, reconciliation, tyga, pr...</td>\n",
       "      <td>False</td>\n",
       "    </tr>\n",
       "    <tr>\n",
       "      <th>5</th>\n",
       "      <td>@Khalais1 @ibpqueen @IstantheBadGuy @_luluomar...</td>\n",
       "      <td>[yes, studio, album, album, consistent, let, k...</td>\n",
       "      <td>False</td>\n",
       "    </tr>\n",
       "    <tr>\n",
       "      <th>6</th>\n",
       "      <td>@realDonaldTrump Says the Jesuit of his brothe...</td>\n",
       "      <td>[say, jesuit, brother, entrench, rome, payday,...</td>\n",
       "      <td>False</td>\n",
       "    </tr>\n",
       "    <tr>\n",
       "      <th>7</th>\n",
       "      <td>Kim Kardashian Recalls “Tough Conversation” Wi...</td>\n",
       "      <td>[kim, kardashian, recalls, tough, conversation...</td>\n",
       "      <td>False</td>\n",
       "    </tr>\n",
       "    <tr>\n",
       "      <th>8</th>\n",
       "      <td>RT @rihanna: RT @RyanSeacrest: \"Nobody really ...</td>\n",
       "      <td>[rt, rt, care, miserable, happy, cynthia, nelm]</td>\n",
       "      <td>False</td>\n",
       "    </tr>\n",
       "    <tr>\n",
       "      <th>9</th>\n",
       "      <td>Portia de Rossi: Ellen Divorce Rumors Make Us ...</td>\n",
       "      <td>[portia, de, rossi, ellen, divorce, rumors, fe...</td>\n",
       "      <td>False</td>\n",
       "    </tr>\n",
       "  </tbody>\n",
       "</table>\n",
       "</div>"
      ],
      "text/plain": [
       "                                                text  \\\n",
       "0  On Air with Ryan Seacrest is offering you a ch...   \n",
       "1  ‘American Idol’ final: How to vote for the sea...   \n",
       "2  @ScottDisick @KrisJenner @khloekardashian — LA...   \n",
       "3  @foquinha Youngblood - 5 Seconds of Summer \\nO...   \n",
       "4  Kylie Jenner ‘Open’ To Reconciliation With Tyg...   \n",
       "5  @Khalais1 @ibpqueen @IstantheBadGuy @_luluomar...   \n",
       "6  @realDonaldTrump Says the Jesuit of his brothe...   \n",
       "7  Kim Kardashian Recalls “Tough Conversation” Wi...   \n",
       "8  RT @rihanna: RT @RyanSeacrest: \"Nobody really ...   \n",
       "9  Portia de Rossi: Ellen Divorce Rumors Make Us ...   \n",
       "\n",
       "                                      processed_text  label  \n",
       "0  [air, ryan, seacrest, offer, chance, win, nigh...  False  \n",
       "1  [american, idol, final, vote, season, winner, ...  False  \n",
       "2  [latest, art, shame, revenge, prank, banksy, s...  False  \n",
       "3  [youngblood, seconds, summer, little, mix, del...  False  \n",
       "4  [kylie, jenner, open, reconciliation, tyga, pr...  False  \n",
       "5  [yes, studio, album, album, consistent, let, k...  False  \n",
       "6  [say, jesuit, brother, entrench, rome, payday,...  False  \n",
       "7  [kim, kardashian, recalls, tough, conversation...  False  \n",
       "8    [rt, rt, care, miserable, happy, cynthia, nelm]  False  \n",
       "9  [portia, de, rossi, ellen, divorce, rumors, fe...  False  "
      ]
     },
     "execution_count": 168,
     "metadata": {},
     "output_type": "execute_result"
    }
   ],
   "source": [
    "data_df = pd.read_pickle('../../../dataset/FakeNewsNet/data/FakeNewsNet.pkl')\n",
    "# data_df['label_raw'] = data_df['label']\n",
    "# data_df['label_num'] = data_df['label'].map({'false': 0, 'true': 1})\n",
    "data_df['label'] = data_df['label'].map({'false': False, 'true': True})\n",
    "data_df.head(10)"
   ]
  },
  {
   "cell_type": "code",
   "execution_count": 169,
   "metadata": {},
   "outputs": [
    {
     "data": {
      "text/html": [
       "<div>\n",
       "<style scoped>\n",
       "    .dataframe tbody tr th:only-of-type {\n",
       "        vertical-align: middle;\n",
       "    }\n",
       "\n",
       "    .dataframe tbody tr th {\n",
       "        vertical-align: top;\n",
       "    }\n",
       "\n",
       "    .dataframe thead th {\n",
       "        text-align: right;\n",
       "    }\n",
       "</style>\n",
       "<table border=\"1\" class=\"dataframe\">\n",
       "  <thead>\n",
       "    <tr style=\"text-align: right;\">\n",
       "      <th></th>\n",
       "      <th>text</th>\n",
       "      <th>processed_text</th>\n",
       "      <th>label</th>\n",
       "    </tr>\n",
       "  </thead>\n",
       "  <tbody>\n",
       "    <tr>\n",
       "      <th>0</th>\n",
       "      <td>When the Royal Family Really Has a Scandal, Th...</td>\n",
       "      <td>[royal, family, scandal, mess]</td>\n",
       "      <td>True</td>\n",
       "    </tr>\n",
       "    <tr>\n",
       "      <th>1</th>\n",
       "      <td>on the last episode of that 70s show idk if i ...</td>\n",
       "      <td>[episode, idk, go, to, miss]</td>\n",
       "      <td>False</td>\n",
       "    </tr>\n",
       "    <tr>\n",
       "      <th>2</th>\n",
       "      <td>You're Doing It Wrong: Kim Kardashian's Clear ...</td>\n",
       "      <td>[wrong, kim, kardashian, clear, skin, met, gala]</td>\n",
       "      <td>True</td>\n",
       "    </tr>\n",
       "    <tr>\n",
       "      <th>3</th>\n",
       "      <td>A Shot at Love With Tila Tequila Star Ashley M...</td>\n",
       "      <td>[shot, love, tila, tequila, star, ashley, mcne...</td>\n",
       "      <td>True</td>\n",
       "    </tr>\n",
       "    <tr>\n",
       "      <th>4</th>\n",
       "      <td>5 Decor Tricks Inspired by Ellen DeGeneres and...</td>\n",
       "      <td>[decor, tricks, inspire, ellen, degeneres, por...</td>\n",
       "      <td>True</td>\n",
       "    </tr>\n",
       "    <tr>\n",
       "      <th>...</th>\n",
       "      <td>...</td>\n",
       "      <td>...</td>\n",
       "      <td>...</td>\n",
       "    </tr>\n",
       "    <tr>\n",
       "      <th>1368182</th>\n",
       "      <td>The NEVER TRUMP ARMY is waging war against our...</td>\n",
       "      <td>[trump, army, wage, war, campaign, mitch, mcco...</td>\n",
       "      <td>True</td>\n",
       "    </tr>\n",
       "    <tr>\n",
       "      <th>1368183</th>\n",
       "      <td>Eddie Redmayne and Wife Hannah Make First Publ...</td>\n",
       "      <td>[eddie, redmayne, wife, hannah, public, appear...</td>\n",
       "      <td>True</td>\n",
       "    </tr>\n",
       "    <tr>\n",
       "      <th>1368184</th>\n",
       "      <td>.@anniekarni Lavergne vs US House of Represent...</td>\n",
       "      <td>[lavergne, vs, house, representatives, demand,...</td>\n",
       "      <td>False</td>\n",
       "    </tr>\n",
       "    <tr>\n",
       "      <th>1368185</th>\n",
       "      <td>TODAY 20TH NOVEMBER, 2018\\n10:00am\\n#MeetThePr...</td>\n",
       "      <td>[today, november, meetthepress, napospeaks]</td>\n",
       "      <td>True</td>\n",
       "    </tr>\n",
       "    <tr>\n",
       "      <th>1368186</th>\n",
       "      <td>My Build Your Voice Team is ready to go. Get T...</td>\n",
       "      <td>[build, voice, team, ready, voice, official, a...</td>\n",
       "      <td>False</td>\n",
       "    </tr>\n",
       "  </tbody>\n",
       "</table>\n",
       "<p>1368187 rows × 3 columns</p>\n",
       "</div>"
      ],
      "text/plain": [
       "                                                      text  \\\n",
       "0        When the Royal Family Really Has a Scandal, Th...   \n",
       "1        on the last episode of that 70s show idk if i ...   \n",
       "2        You're Doing It Wrong: Kim Kardashian's Clear ...   \n",
       "3        A Shot at Love With Tila Tequila Star Ashley M...   \n",
       "4        5 Decor Tricks Inspired by Ellen DeGeneres and...   \n",
       "...                                                    ...   \n",
       "1368182  The NEVER TRUMP ARMY is waging war against our...   \n",
       "1368183  Eddie Redmayne and Wife Hannah Make First Publ...   \n",
       "1368184  .@anniekarni Lavergne vs US House of Represent...   \n",
       "1368185  TODAY 20TH NOVEMBER, 2018\\n10:00am\\n#MeetThePr...   \n",
       "1368186  My Build Your Voice Team is ready to go. Get T...   \n",
       "\n",
       "                                            processed_text  label  \n",
       "0                           [royal, family, scandal, mess]   True  \n",
       "1                             [episode, idk, go, to, miss]  False  \n",
       "2         [wrong, kim, kardashian, clear, skin, met, gala]   True  \n",
       "3        [shot, love, tila, tequila, star, ashley, mcne...   True  \n",
       "4        [decor, tricks, inspire, ellen, degeneres, por...   True  \n",
       "...                                                    ...    ...  \n",
       "1368182  [trump, army, wage, war, campaign, mitch, mcco...   True  \n",
       "1368183  [eddie, redmayne, wife, hannah, public, appear...   True  \n",
       "1368184  [lavergne, vs, house, representatives, demand,...  False  \n",
       "1368185        [today, november, meetthepress, napospeaks]   True  \n",
       "1368186  [build, voice, team, ready, voice, official, a...  False  \n",
       "\n",
       "[1368187 rows x 3 columns]"
      ]
     },
     "execution_count": 169,
     "metadata": {},
     "output_type": "execute_result"
    }
   ],
   "source": [
    "# Shuffle and random pick 10000 each label\n",
    "data_df_smaller = pd.concat(\n",
    "    [\n",
    "        # data_df[data_df[\"label\"] == True].sample(80000),\n",
    "        # data_df[data_df[\"label\"] == False].sample(80000),\n",
    "        data_df[data_df[\"label\"] == True],\n",
    "        data_df[data_df[\"label\"] == False],\n",
    "    ]\n",
    ")\n",
    "\n",
    "# Shuffle the order of the dataset\n",
    "data_df = data_df_smaller.sample(frac=1).reset_index(drop=True)\n",
    "data_df"
   ]
  },
  {
   "cell_type": "code",
   "execution_count": 158,
   "metadata": {},
   "outputs": [],
   "source": [
    "# f = open('jfnn-xs', 'w')\n",
    "# print(data_df.to_json(orient='records', lines=True),file=f, flush=False)\n",
    "# f.close()"
   ]
  },
  {
   "cell_type": "code",
   "execution_count": 170,
   "metadata": {},
   "outputs": [
    {
     "name": "stdout",
     "output_type": "stream",
     "text": [
      "train {'shape': (875639,), 'true': 597033, 'false': 278606}\n",
      "val {'shape': (218910,), 'true': 148976, 'false': 69934}\n",
      "test {'shape': (273638,), 'true': 186360, 'false': 87278}\n"
     ]
    }
   ],
   "source": [
    "# Train test split\n",
    "from sklearn.model_selection import train_test_split\n",
    "\n",
    "\n",
    "def get_shape(X, y):\n",
    "    return {\n",
    "        \"shape\": X.shape,\n",
    "        \"true\": np.count_nonzero(y),\n",
    "        \"false\": len(y) - np.count_nonzero(y),\n",
    "    }\n",
    "\n",
    "\n",
    "X_train, X_test, y_train, y_test = train_test_split(\n",
    "    data_df['text'], data_df[\"label\"], test_size=0.2, random_state=2023\n",
    ")\n",
    "X_train, X_val, y_train, y_val = train_test_split(\n",
    "    X_train, y_train, test_size=0.2, random_state=2023\n",
    ")\n",
    "\n",
    "print(\"train\", get_shape(X_train, y_train))\n",
    "print(\"val\", get_shape(X_val, y_val))\n",
    "print(\"test\", get_shape(X_test, y_test))\n"
   ]
  },
  {
   "cell_type": "code",
   "execution_count": 171,
   "metadata": {},
   "outputs": [
    {
     "data": {
      "text/html": [
       "<div>\n",
       "<style scoped>\n",
       "    .dataframe tbody tr th:only-of-type {\n",
       "        vertical-align: middle;\n",
       "    }\n",
       "\n",
       "    .dataframe tbody tr th {\n",
       "        vertical-align: top;\n",
       "    }\n",
       "\n",
       "    .dataframe thead th {\n",
       "        text-align: right;\n",
       "    }\n",
       "</style>\n",
       "<table border=\"1\" class=\"dataframe\">\n",
       "  <thead>\n",
       "    <tr style=\"text-align: right;\">\n",
       "      <th></th>\n",
       "      <th>text</th>\n",
       "      <th>label</th>\n",
       "    </tr>\n",
       "  </thead>\n",
       "  <tbody>\n",
       "    <tr>\n",
       "      <th>4294</th>\n",
       "      <td>What's Really Going on Between Scott Disick an...</td>\n",
       "      <td>True</td>\n",
       "    </tr>\n",
       "    <tr>\n",
       "      <th>189163</th>\n",
       "      <td>@IanBouillion ya but you're way more interesti...</td>\n",
       "      <td>False</td>\n",
       "    </tr>\n",
       "    <tr>\n",
       "      <th>49350</th>\n",
       "      <td>*kourtney kardashian voice* literally mom you’...</td>\n",
       "      <td>False</td>\n",
       "    </tr>\n",
       "    <tr>\n",
       "      <th>98271</th>\n",
       "      <td>Tonight we are awarding Sustainable Nation Ire...</td>\n",
       "      <td>False</td>\n",
       "    </tr>\n",
       "    <tr>\n",
       "      <th>1227617</th>\n",
       "      <td>7/23/18: White House Press Briefing -  The Tim...</td>\n",
       "      <td>True</td>\n",
       "    </tr>\n",
       "    <tr>\n",
       "      <th>...</th>\n",
       "      <td>...</td>\n",
       "      <td>...</td>\n",
       "    </tr>\n",
       "    <tr>\n",
       "      <th>902720</th>\n",
       "      <td>CNN: Trump asking Congress, not Mexico, to pay...</td>\n",
       "      <td>True</td>\n",
       "    </tr>\n",
       "    <tr>\n",
       "      <th>1187158</th>\n",
       "      <td>New post (Sorry, The Office Fans! Splitting Up...</td>\n",
       "      <td>True</td>\n",
       "    </tr>\n",
       "    <tr>\n",
       "      <th>47495</th>\n",
       "      <td>Demi Lovato and Ex Wilmer Valderrama Reunite A...</td>\n",
       "      <td>True</td>\n",
       "    </tr>\n",
       "    <tr>\n",
       "      <th>619958</th>\n",
       "      <td>@HouseGOP as over 680 different group marched ...</td>\n",
       "      <td>True</td>\n",
       "    </tr>\n",
       "    <tr>\n",
       "      <th>403263</th>\n",
       "      <td>@shawna_bray @kairyssdal agreed but if they're...</td>\n",
       "      <td>True</td>\n",
       "    </tr>\n",
       "  </tbody>\n",
       "</table>\n",
       "<p>875639 rows × 2 columns</p>\n",
       "</div>"
      ],
      "text/plain": [
       "                                                      text  label\n",
       "4294     What's Really Going on Between Scott Disick an...   True\n",
       "189163   @IanBouillion ya but you're way more interesti...  False\n",
       "49350    *kourtney kardashian voice* literally mom you’...  False\n",
       "98271    Tonight we are awarding Sustainable Nation Ire...  False\n",
       "1227617  7/23/18: White House Press Briefing -  The Tim...   True\n",
       "...                                                    ...    ...\n",
       "902720   CNN: Trump asking Congress, not Mexico, to pay...   True\n",
       "1187158  New post (Sorry, The Office Fans! Splitting Up...   True\n",
       "47495    Demi Lovato and Ex Wilmer Valderrama Reunite A...   True\n",
       "619958   @HouseGOP as over 680 different group marched ...   True\n",
       "403263   @shawna_bray @kairyssdal agreed but if they're...   True\n",
       "\n",
       "[875639 rows x 2 columns]"
      ]
     },
     "execution_count": 171,
     "metadata": {},
     "output_type": "execute_result"
    }
   ],
   "source": [
    "pd.concat([X_train, y_train], axis=1)"
   ]
  },
  {
   "cell_type": "code",
   "execution_count": 172,
   "metadata": {},
   "outputs": [
    {
     "data": {
      "application/vnd.jupyter.widget-view+json": {
       "model_id": "74ac694c42bc4afcb61cb144c8a87286",
       "version_major": 2,
       "version_minor": 0
      },
      "text/plain": [
       "Stringifying the column:   0%|          | 0/876 [00:00<?, ?ba/s]"
      ]
     },
     "metadata": {},
     "output_type": "display_data"
    },
    {
     "data": {
      "application/vnd.jupyter.widget-view+json": {
       "model_id": "2d0fe89c461a435e8327a9666234371a",
       "version_major": 2,
       "version_minor": 0
      },
      "text/plain": [
       "Casting to class labels:   0%|          | 0/876 [00:00<?, ?ba/s]"
      ]
     },
     "metadata": {},
     "output_type": "display_data"
    },
    {
     "data": {
      "application/vnd.jupyter.widget-view+json": {
       "model_id": "0765aa238da04ae5b310f3262f8554f8",
       "version_major": 2,
       "version_minor": 0
      },
      "text/plain": [
       "Stringifying the column:   0%|          | 0/219 [00:00<?, ?ba/s]"
      ]
     },
     "metadata": {},
     "output_type": "display_data"
    },
    {
     "data": {
      "application/vnd.jupyter.widget-view+json": {
       "model_id": "a099c1755a754b4b938c56606ba4a1bc",
       "version_major": 2,
       "version_minor": 0
      },
      "text/plain": [
       "Casting to class labels:   0%|          | 0/219 [00:00<?, ?ba/s]"
      ]
     },
     "metadata": {},
     "output_type": "display_data"
    },
    {
     "data": {
      "application/vnd.jupyter.widget-view+json": {
       "model_id": "519ea70f05544ddc86506cddf0aa2ea4",
       "version_major": 2,
       "version_minor": 0
      },
      "text/plain": [
       "Stringifying the column:   0%|          | 0/274 [00:00<?, ?ba/s]"
      ]
     },
     "metadata": {},
     "output_type": "display_data"
    },
    {
     "data": {
      "application/vnd.jupyter.widget-view+json": {
       "model_id": "bffd00b865ea4bae8b55e6390bc0355d",
       "version_major": 2,
       "version_minor": 0
      },
      "text/plain": [
       "Casting to class labels:   0%|          | 0/274 [00:00<?, ?ba/s]"
      ]
     },
     "metadata": {},
     "output_type": "display_data"
    },
    {
     "data": {
      "text/plain": [
       "DatasetDict({\n",
       "    train: Dataset({\n",
       "        features: ['text', 'label', '__index_level_0__'],\n",
       "        num_rows: 875639\n",
       "    })\n",
       "    validation: Dataset({\n",
       "        features: ['text', 'label', '__index_level_0__'],\n",
       "        num_rows: 218910\n",
       "    })\n",
       "    test: Dataset({\n",
       "        features: ['text', 'label', '__index_level_0__'],\n",
       "        num_rows: 273638\n",
       "    })\n",
       "})"
      ]
     },
     "execution_count": 172,
     "metadata": {},
     "output_type": "execute_result"
    }
   ],
   "source": [
    "data_ds = DatasetDict()\n",
    "\n",
    "data_ds['train'] = Dataset.from_pandas(pd.concat([X_train, y_train], axis=1)).class_encode_column(\"label\")\n",
    "data_ds['validation'] = Dataset.from_pandas(pd.concat([X_val, y_val], axis=1)).class_encode_column(\"label\")\n",
    "data_ds['test'] = Dataset.from_pandas(pd.concat([X_test, y_test], axis=1)).class_encode_column(\"label\")\n",
    "\n",
    "data_ds"
   ]
  },
  {
   "cell_type": "code",
   "execution_count": 173,
   "metadata": {},
   "outputs": [
    {
     "data": {
      "text/plain": [
       "{'text': Value(dtype='string', id=None),\n",
       " 'label': ClassLabel(names=['False', 'True'], id=None),\n",
       " '__index_level_0__': Value(dtype='int64', id=None)}"
      ]
     },
     "execution_count": 173,
     "metadata": {},
     "output_type": "execute_result"
    }
   ],
   "source": [
    "data_ds['train'].features"
   ]
  },
  {
   "cell_type": "code",
   "execution_count": 174,
   "metadata": {},
   "outputs": [
    {
     "data": {
      "application/vnd.jupyter.widget-view+json": {
       "model_id": "6375583eb70249c7abe7d3fc56f8b94c",
       "version_major": 2,
       "version_minor": 0
      },
      "text/plain": [
       "Saving the dataset (0/1 shards):   0%|          | 0/875639 [00:00<?, ? examples/s]"
      ]
     },
     "metadata": {},
     "output_type": "display_data"
    },
    {
     "data": {
      "application/vnd.jupyter.widget-view+json": {
       "model_id": "985e45ea4a894d46a313f67feb2ae85b",
       "version_major": 2,
       "version_minor": 0
      },
      "text/plain": [
       "Saving the dataset (0/1 shards):   0%|          | 0/218910 [00:00<?, ? examples/s]"
      ]
     },
     "metadata": {},
     "output_type": "display_data"
    },
    {
     "data": {
      "application/vnd.jupyter.widget-view+json": {
       "model_id": "e08354f6880e43b99dbc0fd65a7c612e",
       "version_major": 2,
       "version_minor": 0
      },
      "text/plain": [
       "Saving the dataset (0/1 shards):   0%|          | 0/273638 [00:00<?, ? examples/s]"
      ]
     },
     "metadata": {},
     "output_type": "display_data"
    }
   ],
   "source": [
    "# 3xs: 3000\n",
    "# 2xs: 20000\n",
    "# xs: 40000\n",
    "# s: 80000\n",
    "# m: 160000\n",
    "# l: ~500000\n",
    "# xl: all ~1300000\n",
    "\n",
    "\n",
    "# output_name = \"/sample\"\n",
    "output_name = \"/fnn_xl\"\n",
    "\n",
    "data_ds.save_to_disk('data/' + output_name)"
   ]
  },
  {
   "cell_type": "code",
   "execution_count": null,
   "metadata": {},
   "outputs": [],
   "source": [
    "assert(True)"
   ]
  },
  {
   "cell_type": "code",
   "execution_count": null,
   "metadata": {},
   "outputs": [
    {
     "name": "stdout",
     "output_type": "stream",
     "text": [
      "train {'shape': (8185,), 'true': 4560, 'false': 3625}\n",
      "val {'shape': (2047,), 'true': 1149, 'false': 898}\n",
      "test {'shape': (2559,), 'true': 1425, 'false': 1134}\n"
     ]
    }
   ],
   "source": [
    "liar_df = pd.read_pickle(\"../../../dataset/LIAR/data/master.pkl\")\n",
    "liar_df['text'] = liar_df['statement']\n",
    "liar_df['label_raw'] = liar_df['label']\n",
    "liar_df['label'] = liar_df['label_raw'].apply(lambda x: 1 if x else 0)\n",
    "\n",
    "# Train test split\n",
    "from sklearn.model_selection import train_test_split\n",
    "\n",
    "\n",
    "def get_shape(X, y):\n",
    "    return {\n",
    "        \"shape\": X.shape,\n",
    "        \"true\": np.count_nonzero(y),\n",
    "        \"false\": len(y) - np.count_nonzero(y),\n",
    "    }\n",
    "\n",
    "\n",
    "X_liar_train, X_liar_test, y_liar_train, y_liar_test = train_test_split(\n",
    "    liar_df[\"text\"], liar_df[\"label\"], test_size=0.2, random_state=2023\n",
    ")\n",
    "X_liar_train, X_liar_val, y_liar_train, y_liar_val = train_test_split(\n",
    "    X_liar_train, y_liar_train, test_size=0.2, random_state=2023\n",
    ")\n",
    "\n",
    "print(\"train\", get_shape(X_liar_train, y_liar_train))\n",
    "print(\"val\", get_shape(X_liar_val, y_liar_val))\n",
    "print(\"test\", get_shape(X_liar_test, y_liar_test))"
   ]
  },
  {
   "cell_type": "code",
   "execution_count": null,
   "metadata": {},
   "outputs": [
    {
     "data": {
      "text/html": [
       "<div>\n",
       "<style scoped>\n",
       "    .dataframe tbody tr th:only-of-type {\n",
       "        vertical-align: middle;\n",
       "    }\n",
       "\n",
       "    .dataframe tbody tr th {\n",
       "        vertical-align: top;\n",
       "    }\n",
       "\n",
       "    .dataframe thead th {\n",
       "        text-align: right;\n",
       "    }\n",
       "</style>\n",
       "<table border=\"1\" class=\"dataframe\">\n",
       "  <thead>\n",
       "    <tr style=\"text-align: right;\">\n",
       "      <th></th>\n",
       "      <th>id</th>\n",
       "      <th>label</th>\n",
       "      <th>statement</th>\n",
       "      <th>subject</th>\n",
       "      <th>speaker</th>\n",
       "      <th>job_title</th>\n",
       "      <th>state_info</th>\n",
       "      <th>party_affiliation</th>\n",
       "      <th>barely_true_counts</th>\n",
       "      <th>false_counts</th>\n",
       "      <th>half_true_counts</th>\n",
       "      <th>mostly_true_counts</th>\n",
       "      <th>pants_on_fire_counts</th>\n",
       "      <th>context</th>\n",
       "      <th>statement_processed</th>\n",
       "      <th>text</th>\n",
       "      <th>label_raw</th>\n",
       "    </tr>\n",
       "  </thead>\n",
       "  <tbody>\n",
       "    <tr>\n",
       "      <th>0</th>\n",
       "      <td>2635.json</td>\n",
       "      <td>0</td>\n",
       "      <td>Says the Annies List political group supports ...</td>\n",
       "      <td>abortion</td>\n",
       "      <td>dwayne-bohac</td>\n",
       "      <td>State representative</td>\n",
       "      <td>Texas</td>\n",
       "      <td>republican</td>\n",
       "      <td>0.0</td>\n",
       "      <td>1.0</td>\n",
       "      <td>0.0</td>\n",
       "      <td>0.0</td>\n",
       "      <td>0.0</td>\n",
       "      <td>a mailer</td>\n",
       "      <td>say Annies List political group support trimes...</td>\n",
       "      <td>Says the Annies List political group supports ...</td>\n",
       "      <td>False</td>\n",
       "    </tr>\n",
       "    <tr>\n",
       "      <th>1</th>\n",
       "      <td>10540.json</td>\n",
       "      <td>1</td>\n",
       "      <td>When did the decline of coal start? It started...</td>\n",
       "      <td>energy,history,job-accomplishments</td>\n",
       "      <td>scott-surovell</td>\n",
       "      <td>State delegate</td>\n",
       "      <td>Virginia</td>\n",
       "      <td>democrat</td>\n",
       "      <td>0.0</td>\n",
       "      <td>0.0</td>\n",
       "      <td>1.0</td>\n",
       "      <td>1.0</td>\n",
       "      <td>0.0</td>\n",
       "      <td>a floor speech.</td>\n",
       "      <td>decline coal start start natural gas take star...</td>\n",
       "      <td>When did the decline of coal start? It started...</td>\n",
       "      <td>True</td>\n",
       "    </tr>\n",
       "    <tr>\n",
       "      <th>2</th>\n",
       "      <td>324.json</td>\n",
       "      <td>1</td>\n",
       "      <td>Hillary Clinton agrees with John McCain \"by vo...</td>\n",
       "      <td>foreign-policy</td>\n",
       "      <td>barack-obama</td>\n",
       "      <td>President</td>\n",
       "      <td>Illinois</td>\n",
       "      <td>democrat</td>\n",
       "      <td>70.0</td>\n",
       "      <td>71.0</td>\n",
       "      <td>160.0</td>\n",
       "      <td>163.0</td>\n",
       "      <td>9.0</td>\n",
       "      <td>Denver</td>\n",
       "      <td>Hillary Clinton agree John McCain vote George ...</td>\n",
       "      <td>Hillary Clinton agrees with John McCain \"by vo...</td>\n",
       "      <td>True</td>\n",
       "    </tr>\n",
       "    <tr>\n",
       "      <th>3</th>\n",
       "      <td>1123.json</td>\n",
       "      <td>0</td>\n",
       "      <td>Health care reform legislation is likely to ma...</td>\n",
       "      <td>health-care</td>\n",
       "      <td>blog-posting</td>\n",
       "      <td>NaN</td>\n",
       "      <td>NaN</td>\n",
       "      <td>none</td>\n",
       "      <td>7.0</td>\n",
       "      <td>19.0</td>\n",
       "      <td>3.0</td>\n",
       "      <td>5.0</td>\n",
       "      <td>44.0</td>\n",
       "      <td>a news release</td>\n",
       "      <td>health care reform legislation likely mandate ...</td>\n",
       "      <td>Health care reform legislation is likely to ma...</td>\n",
       "      <td>False</td>\n",
       "    </tr>\n",
       "    <tr>\n",
       "      <th>4</th>\n",
       "      <td>9028.json</td>\n",
       "      <td>1</td>\n",
       "      <td>The economic turnaround started at the end of ...</td>\n",
       "      <td>economy,jobs</td>\n",
       "      <td>charlie-crist</td>\n",
       "      <td>NaN</td>\n",
       "      <td>Florida</td>\n",
       "      <td>democrat</td>\n",
       "      <td>15.0</td>\n",
       "      <td>9.0</td>\n",
       "      <td>20.0</td>\n",
       "      <td>19.0</td>\n",
       "      <td>2.0</td>\n",
       "      <td>an interview on CNN</td>\n",
       "      <td>economic turnaround start end term</td>\n",
       "      <td>The economic turnaround started at the end of ...</td>\n",
       "      <td>True</td>\n",
       "    </tr>\n",
       "  </tbody>\n",
       "</table>\n",
       "</div>"
      ],
      "text/plain": [
       "           id  label                                          statement  \\\n",
       "0   2635.json      0  Says the Annies List political group supports ...   \n",
       "1  10540.json      1  When did the decline of coal start? It started...   \n",
       "2    324.json      1  Hillary Clinton agrees with John McCain \"by vo...   \n",
       "3   1123.json      0  Health care reform legislation is likely to ma...   \n",
       "4   9028.json      1  The economic turnaround started at the end of ...   \n",
       "\n",
       "                              subject         speaker             job_title  \\\n",
       "0                            abortion    dwayne-bohac  State representative   \n",
       "1  energy,history,job-accomplishments  scott-surovell        State delegate   \n",
       "2                      foreign-policy    barack-obama             President   \n",
       "3                         health-care    blog-posting                   NaN   \n",
       "4                        economy,jobs   charlie-crist                   NaN   \n",
       "\n",
       "  state_info party_affiliation  barely_true_counts  false_counts  \\\n",
       "0      Texas        republican                 0.0           1.0   \n",
       "1   Virginia          democrat                 0.0           0.0   \n",
       "2   Illinois          democrat                70.0          71.0   \n",
       "3        NaN              none                 7.0          19.0   \n",
       "4    Florida          democrat                15.0           9.0   \n",
       "\n",
       "   half_true_counts  mostly_true_counts  pants_on_fire_counts  \\\n",
       "0               0.0                 0.0                   0.0   \n",
       "1               1.0                 1.0                   0.0   \n",
       "2             160.0               163.0                   9.0   \n",
       "3               3.0                 5.0                  44.0   \n",
       "4              20.0                19.0                   2.0   \n",
       "\n",
       "               context                                statement_processed  \\\n",
       "0             a mailer  say Annies List political group support trimes...   \n",
       "1      a floor speech.  decline coal start start natural gas take star...   \n",
       "2               Denver  Hillary Clinton agree John McCain vote George ...   \n",
       "3       a news release  health care reform legislation likely mandate ...   \n",
       "4  an interview on CNN                 economic turnaround start end term   \n",
       "\n",
       "                                                text  label_raw  \n",
       "0  Says the Annies List political group supports ...      False  \n",
       "1  When did the decline of coal start? It started...       True  \n",
       "2  Hillary Clinton agrees with John McCain \"by vo...       True  \n",
       "3  Health care reform legislation is likely to ma...      False  \n",
       "4  The economic turnaround started at the end of ...       True  "
      ]
     },
     "execution_count": 101,
     "metadata": {},
     "output_type": "execute_result"
    }
   ],
   "source": [
    "liar_df.head()"
   ]
  },
  {
   "cell_type": "code",
   "execution_count": null,
   "metadata": {},
   "outputs": [
    {
     "data": {
      "text/plain": [
       "DatasetDict({\n",
       "    train: Dataset({\n",
       "        features: ['text', 'label', '__index_level_0__'],\n",
       "        num_rows: 8185\n",
       "    })\n",
       "    validation: Dataset({\n",
       "        features: ['text', 'label', '__index_level_0__'],\n",
       "        num_rows: 2047\n",
       "    })\n",
       "    test: Dataset({\n",
       "        features: ['text', 'label', '__index_level_0__'],\n",
       "        num_rows: 2559\n",
       "    })\n",
       "})"
      ]
     },
     "execution_count": 102,
     "metadata": {},
     "output_type": "execute_result"
    }
   ],
   "source": [
    "liar_ds = DatasetDict()\n",
    "\n",
    "liar_ds['train'] = Dataset.from_pandas(pd.concat([X_liar_train, y_liar_train], axis=1))\n",
    "liar_ds['validation'] = Dataset.from_pandas(pd.concat([X_liar_val, y_liar_val], axis=1))\n",
    "liar_ds['test'] = Dataset.from_pandas(pd.concat([X_liar_test, y_liar_test], axis=1))\n",
    "\n",
    "liar_ds"
   ]
  },
  {
   "cell_type": "code",
   "execution_count": null,
   "metadata": {},
   "outputs": [
    {
     "data": {
      "application/vnd.jupyter.widget-view+json": {
       "model_id": "d517c432ec444298aa157f247345ddde",
       "version_major": 2,
       "version_minor": 0
      },
      "text/plain": [
       "Saving the dataset (0/1 shards):   0%|          | 0/8185 [00:00<?, ? examples/s]"
      ]
     },
     "metadata": {},
     "output_type": "display_data"
    },
    {
     "data": {
      "application/vnd.jupyter.widget-view+json": {
       "model_id": "5fdffe3b917f45beb1adb13f19a30877",
       "version_major": 2,
       "version_minor": 0
      },
      "text/plain": [
       "Saving the dataset (0/1 shards):   0%|          | 0/2047 [00:00<?, ? examples/s]"
      ]
     },
     "metadata": {},
     "output_type": "display_data"
    },
    {
     "data": {
      "application/vnd.jupyter.widget-view+json": {
       "model_id": "d549faa5964a4ec5b4a8ae26c6b50263",
       "version_major": 2,
       "version_minor": 0
      },
      "text/plain": [
       "Saving the dataset (0/1 shards):   0%|          | 0/2559 [00:00<?, ? examples/s]"
      ]
     },
     "metadata": {},
     "output_type": "display_data"
    }
   ],
   "source": [
    "liar_ds.save_to_disk('liar_ds')"
   ]
  },
  {
   "attachments": {},
   "cell_type": "markdown",
   "metadata": {},
   "source": [
    "---"
   ]
  },
  {
   "attachments": {},
   "cell_type": "markdown",
   "metadata": {},
   "source": [
    "\n"
   ]
  }
 ],
 "metadata": {
  "kernelspec": {
   "display_name": "env_model",
   "language": "python",
   "name": "python3"
  },
  "language_info": {
   "codemirror_mode": {
    "name": "ipython",
    "version": 3
   },
   "file_extension": ".py",
   "mimetype": "text/x-python",
   "name": "python",
   "nbconvert_exporter": "python",
   "pygments_lexer": "ipython3",
   "version": "3.8.10"
  },
  "orig_nbformat": 4,
  "vscode": {
   "interpreter": {
    "hash": "d773fab12b01c3128a3fce0810a89821e4c01d5ece206bce91b763fe7cc879c9"
   }
  }
 },
 "nbformat": 4,
 "nbformat_minor": 2
}
