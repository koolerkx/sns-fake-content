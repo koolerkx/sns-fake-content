{
 "cells": [
  {
   "attachments": {},
   "cell_type": "markdown",
   "metadata": {},
   "source": [
    "# FakeNewsNet Transformation\n",
    "\n",
    "Transform data into target shape"
   ]
  },
  {
   "cell_type": "code",
   "execution_count": 6,
   "metadata": {},
   "outputs": [],
   "source": [
    "import pandas as pd"
   ]
  },
  {
   "cell_type": "code",
   "execution_count": 7,
   "metadata": {},
   "outputs": [],
   "source": [
    "gossipcop_fake_df_raw = pd.read_json('./data/gossipcop_fake.json')\n",
    "gossipcop_real_df_raw = pd.read_json('./data/gossipcop_real.json')\n",
    "politifact_fake_df_raw = pd.read_json('./data/politifact_fake.json')\n",
    "politifact_real_df_raw = pd.read_json('./data/politifact_real.json')"
   ]
  },
  {
   "cell_type": "code",
   "execution_count": 8,
   "metadata": {},
   "outputs": [
    {
     "name": "stdout",
     "output_type": "stream",
     "text": [
      "(1434575, 17)\n"
     ]
    }
   ],
   "source": [
    "# Concat dataframe and add label\n",
    "false_df_raw = pd.concat([gossipcop_fake_df_raw, politifact_fake_df_raw])\n",
    "false_df_raw['label'] = 'false'\n",
    "true_df_raw = pd.concat([gossipcop_real_df_raw, politifact_real_df_raw])\n",
    "true_df_raw['label'] = 'true'\n",
    "\n",
    "master_df_raw = pd.concat([false_df_raw, true_df_raw])\n",
    "print(master_df_raw.shape)"
   ]
  },
  {
   "cell_type": "code",
   "execution_count": 9,
   "metadata": {},
   "outputs": [
    {
     "name": "stdout",
     "output_type": "stream",
     "text": [
      "['en']\n"
     ]
    },
    {
     "data": {
      "text/html": [
       "<div>\n",
       "<style scoped>\n",
       "    .dataframe tbody tr th:only-of-type {\n",
       "        vertical-align: middle;\n",
       "    }\n",
       "\n",
       "    .dataframe tbody tr th {\n",
       "        vertical-align: top;\n",
       "    }\n",
       "\n",
       "    .dataframe thead th {\n",
       "        text-align: right;\n",
       "    }\n",
       "</style>\n",
       "<table border=\"1\" class=\"dataframe\">\n",
       "  <thead>\n",
       "    <tr style=\"text-align: right;\">\n",
       "      <th></th>\n",
       "      <th>lang</th>\n",
       "      <th>id</th>\n",
       "      <th>entities</th>\n",
       "      <th>public_metrics</th>\n",
       "      <th>context_annotations</th>\n",
       "      <th>possibly_sensitive</th>\n",
       "      <th>created_at</th>\n",
       "      <th>author_id</th>\n",
       "      <th>text</th>\n",
       "      <th>conversation_id</th>\n",
       "      <th>edit_history_tweet_ids</th>\n",
       "      <th>reply_settings</th>\n",
       "      <th>in_reply_to_user_id</th>\n",
       "      <th>referenced_tweets</th>\n",
       "      <th>geo</th>\n",
       "      <th>withheld</th>\n",
       "      <th>label</th>\n",
       "    </tr>\n",
       "  </thead>\n",
       "  <tbody>\n",
       "    <tr>\n",
       "      <th>0</th>\n",
       "      <td>en</td>\n",
       "      <td>1029123395739414528</td>\n",
       "      <td>{'annotations': [{'start': 12, 'end': 24, 'pro...</td>\n",
       "      <td>{'retweet_count': 0, 'reply_count': 0, 'like_c...</td>\n",
       "      <td>[{'domain': {'id': '10', 'name': 'Person', 'de...</td>\n",
       "      <td>False</td>\n",
       "      <td>2018-08-13 21:51:52</td>\n",
       "      <td>1012203358512443392</td>\n",
       "      <td>On Air with Ryan Seacrest is offering you a ch...</td>\n",
       "      <td>1029123395739414528</td>\n",
       "      <td>[1029123395739414529]</td>\n",
       "      <td>everyone</td>\n",
       "      <td>NaN</td>\n",
       "      <td>None</td>\n",
       "      <td>None</td>\n",
       "      <td>None</td>\n",
       "      <td>false</td>\n",
       "    </tr>\n",
       "    <tr>\n",
       "      <th>1</th>\n",
       "      <td>en</td>\n",
       "      <td>998353516434518016</td>\n",
       "      <td>{'hashtags': [{'start': 110, 'end': 116, 'tag'...</td>\n",
       "      <td>{'retweet_count': 1, 'reply_count': 1, 'like_c...</td>\n",
       "      <td>[{'domain': {'id': '3', 'name': 'TV Shows', 'd...</td>\n",
       "      <td>False</td>\n",
       "      <td>2018-05-21 00:03:21</td>\n",
       "      <td>829904857305927680</td>\n",
       "      <td>‘American Idol’ final: How to vote for the sea...</td>\n",
       "      <td>998353516434518016</td>\n",
       "      <td>[998353516434518016]</td>\n",
       "      <td>everyone</td>\n",
       "      <td>NaN</td>\n",
       "      <td>None</td>\n",
       "      <td>None</td>\n",
       "      <td>None</td>\n",
       "      <td>false</td>\n",
       "    </tr>\n",
       "    <tr>\n",
       "      <th>2</th>\n",
       "      <td>en</td>\n",
       "      <td>1051158211208736768</td>\n",
       "      <td>{'annotations': [{'start': 82, 'end': 87, 'pro...</td>\n",
       "      <td>{'retweet_count': 0, 'reply_count': 0, 'like_c...</td>\n",
       "      <td>[{'domain': {'id': '3', 'name': 'TV Shows', 'd...</td>\n",
       "      <td>False</td>\n",
       "      <td>2018-10-13 17:10:21</td>\n",
       "      <td>31259532</td>\n",
       "      <td>@ScottDisick @KrisJenner @khloekardashian — LA...</td>\n",
       "      <td>1051158211208736768</td>\n",
       "      <td>[1051158211208736768]</td>\n",
       "      <td>everyone</td>\n",
       "      <td>101928415.0</td>\n",
       "      <td>[{'type': 'quoted', 'id': '1050443040668770304'}]</td>\n",
       "      <td>None</td>\n",
       "      <td>None</td>\n",
       "      <td>false</td>\n",
       "    </tr>\n",
       "    <tr>\n",
       "      <th>3</th>\n",
       "      <td>en</td>\n",
       "      <td>1011368336804937728</td>\n",
       "      <td>{'annotations': [{'start': 10, 'end': 19, 'pro...</td>\n",
       "      <td>{'retweet_count': 0, 'reply_count': 0, 'like_c...</td>\n",
       "      <td>[{'domain': {'id': '10', 'name': 'Person', 'de...</td>\n",
       "      <td>False</td>\n",
       "      <td>2018-06-25 21:59:36</td>\n",
       "      <td>194346085</td>\n",
       "      <td>@foquinha Youngblood - 5 Seconds of Summer \\nO...</td>\n",
       "      <td>1011289623119716352</td>\n",
       "      <td>[1011368336804937728]</td>\n",
       "      <td>everyone</td>\n",
       "      <td>18141369.0</td>\n",
       "      <td>[{'type': 'replied_to', 'id': '101128962311971...</td>\n",
       "      <td>None</td>\n",
       "      <td>None</td>\n",
       "      <td>false</td>\n",
       "    </tr>\n",
       "    <tr>\n",
       "      <th>4</th>\n",
       "      <td>en</td>\n",
       "      <td>954584822474838016</td>\n",
       "      <td>{'annotations': [{'start': 0, 'end': 11, 'prob...</td>\n",
       "      <td>{'retweet_count': 0, 'reply_count': 0, 'like_c...</td>\n",
       "      <td>[{'domain': {'id': '10', 'name': 'Person', 'de...</td>\n",
       "      <td>True</td>\n",
       "      <td>2018-01-20 05:22:11</td>\n",
       "      <td>31469390</td>\n",
       "      <td>Kylie Jenner ‘Open’ To Reconciliation With Tyg...</td>\n",
       "      <td>954584822474838016</td>\n",
       "      <td>[954584822474838016]</td>\n",
       "      <td>everyone</td>\n",
       "      <td>NaN</td>\n",
       "      <td>None</td>\n",
       "      <td>None</td>\n",
       "      <td>None</td>\n",
       "      <td>false</td>\n",
       "    </tr>\n",
       "  </tbody>\n",
       "</table>\n",
       "</div>"
      ],
      "text/plain": [
       "  lang                   id  \\\n",
       "0   en  1029123395739414528   \n",
       "1   en   998353516434518016   \n",
       "2   en  1051158211208736768   \n",
       "3   en  1011368336804937728   \n",
       "4   en   954584822474838016   \n",
       "\n",
       "                                            entities  \\\n",
       "0  {'annotations': [{'start': 12, 'end': 24, 'pro...   \n",
       "1  {'hashtags': [{'start': 110, 'end': 116, 'tag'...   \n",
       "2  {'annotations': [{'start': 82, 'end': 87, 'pro...   \n",
       "3  {'annotations': [{'start': 10, 'end': 19, 'pro...   \n",
       "4  {'annotations': [{'start': 0, 'end': 11, 'prob...   \n",
       "\n",
       "                                      public_metrics  \\\n",
       "0  {'retweet_count': 0, 'reply_count': 0, 'like_c...   \n",
       "1  {'retweet_count': 1, 'reply_count': 1, 'like_c...   \n",
       "2  {'retweet_count': 0, 'reply_count': 0, 'like_c...   \n",
       "3  {'retweet_count': 0, 'reply_count': 0, 'like_c...   \n",
       "4  {'retweet_count': 0, 'reply_count': 0, 'like_c...   \n",
       "\n",
       "                                 context_annotations  possibly_sensitive  \\\n",
       "0  [{'domain': {'id': '10', 'name': 'Person', 'de...               False   \n",
       "1  [{'domain': {'id': '3', 'name': 'TV Shows', 'd...               False   \n",
       "2  [{'domain': {'id': '3', 'name': 'TV Shows', 'd...               False   \n",
       "3  [{'domain': {'id': '10', 'name': 'Person', 'de...               False   \n",
       "4  [{'domain': {'id': '10', 'name': 'Person', 'de...                True   \n",
       "\n",
       "           created_at            author_id  \\\n",
       "0 2018-08-13 21:51:52  1012203358512443392   \n",
       "1 2018-05-21 00:03:21   829904857305927680   \n",
       "2 2018-10-13 17:10:21             31259532   \n",
       "3 2018-06-25 21:59:36            194346085   \n",
       "4 2018-01-20 05:22:11             31469390   \n",
       "\n",
       "                                                text      conversation_id  \\\n",
       "0  On Air with Ryan Seacrest is offering you a ch...  1029123395739414528   \n",
       "1  ‘American Idol’ final: How to vote for the sea...   998353516434518016   \n",
       "2  @ScottDisick @KrisJenner @khloekardashian — LA...  1051158211208736768   \n",
       "3  @foquinha Youngblood - 5 Seconds of Summer \\nO...  1011289623119716352   \n",
       "4  Kylie Jenner ‘Open’ To Reconciliation With Tyg...   954584822474838016   \n",
       "\n",
       "  edit_history_tweet_ids reply_settings  in_reply_to_user_id  \\\n",
       "0  [1029123395739414529]       everyone                  NaN   \n",
       "1   [998353516434518016]       everyone                  NaN   \n",
       "2  [1051158211208736768]       everyone          101928415.0   \n",
       "3  [1011368336804937728]       everyone           18141369.0   \n",
       "4   [954584822474838016]       everyone                  NaN   \n",
       "\n",
       "                                   referenced_tweets   geo withheld  label  \n",
       "0                                               None  None     None  false  \n",
       "1                                               None  None     None  false  \n",
       "2  [{'type': 'quoted', 'id': '1050443040668770304'}]  None     None  false  \n",
       "3  [{'type': 'replied_to', 'id': '101128962311971...  None     None  false  \n",
       "4                                               None  None     None  false  "
      ]
     },
     "execution_count": 9,
     "metadata": {},
     "output_type": "execute_result"
    }
   ],
   "source": [
    "# Filter non-en language\n",
    "master_df_raw = master_df_raw[master_df_raw['lang'] == 'en']\n",
    "\n",
    "print(master_df_raw.lang.unique())\n",
    "\n",
    "master_df_raw.head()"
   ]
  },
  {
   "attachments": {},
   "cell_type": "markdown",
   "metadata": {},
   "source": [
    "## Preprocessing\n",
    "\n",
    "https://www.kaggle.com/code/sudalairajkumar/getting-started-with-text-preprocessing"
   ]
  },
  {
   "cell_type": "code",
   "execution_count": 10,
   "metadata": {},
   "outputs": [],
   "source": [
    "# rmeove url\n",
    "import re\n",
    "url_pattern = re.compile(r'https?://\\S+|www\\.\\S+')\n",
    "\n",
    "master_df_raw['text'] = master_df_raw['text'].apply(lambda x: url_pattern.sub(r'', x))"
   ]
  },
  {
   "cell_type": "code",
   "execution_count": 11,
   "metadata": {},
   "outputs": [],
   "source": [
    "# remove emoji\n",
    "# Reference : https://gist.github.com/slowkow/7a7f61f495e3dbb7e3d767f97bd7304b\n",
    "\n",
    "emoji_pattern = re.compile(\n",
    "    \"[\"\n",
    "    \"\\U0001F600-\\U0001F64F\"  # emoticons\n",
    "    \"\\U0001F300-\\U0001F5FF\"  # symbols & pictographs\n",
    "    \"\\U0001F680-\\U0001F6FF\"  # transport & map symbols\n",
    "    \"\\U0001F1E0-\\U0001F1FF\"  # flags (iOS)\n",
    "    \"\\U00002702-\\U000027B0\"\n",
    "    \"\\U000024C2-\\U0001F251\"\n",
    "    \"]+\",\n",
    "    flags=re.UNICODE,\n",
    ")\n",
    "\n",
    "master_df_raw[\"text\"] = master_df_raw[\"text\"].apply(lambda x: emoji_pattern.sub(r\"\", x))\n"
   ]
  },
  {
   "cell_type": "code",
   "execution_count": 12,
   "metadata": {},
   "outputs": [],
   "source": [
    "import spacy\n",
    "\n",
    "nlp = spacy.load(\"en_core_web_sm\", disable=['parser', 'ner'])"
   ]
  },
  {
   "cell_type": "code",
   "execution_count": 13,
   "metadata": {},
   "outputs": [],
   "source": [
    "# Tokenization\n",
    "def get_tokenized_text(doc):\n",
    "    return list(\n",
    "        filter(\n",
    "            lambda x: str(x) != \"\",\n",
    "            [\n",
    "                token.lemma_.lower() if not token.is_stop and token.is_alpha else \"\"\n",
    "                for token in doc\n",
    "            ],\n",
    "        )\n",
    "    )"
   ]
  },
  {
   "cell_type": "code",
   "execution_count": 14,
   "metadata": {},
   "outputs": [
    {
     "name": "stderr",
     "output_type": "stream",
     "text": [
      "100%|██████████| 1368187/1368187 [07:11<00:00, 3171.98it/s]\n"
     ]
    }
   ],
   "source": [
    "from tqdm import tqdm\n",
    "\n",
    "texts = []\n",
    "for doc in tqdm(nlp.pipe(master_df_raw[\"text\"], n_process=-1), total=master_df_raw[\"text\"].shape[0]):\n",
    "    texts.append(get_tokenized_text(doc))\n"
   ]
  },
  {
   "cell_type": "code",
   "execution_count": 15,
   "metadata": {},
   "outputs": [],
   "source": [
    "master_df_raw[\"processed_text\"] = pd.Series(texts)\n"
   ]
  },
  {
   "cell_type": "code",
   "execution_count": 16,
   "metadata": {},
   "outputs": [
    {
     "data": {
      "text/html": [
       "<div>\n",
       "<style scoped>\n",
       "    .dataframe tbody tr th:only-of-type {\n",
       "        vertical-align: middle;\n",
       "    }\n",
       "\n",
       "    .dataframe tbody tr th {\n",
       "        vertical-align: top;\n",
       "    }\n",
       "\n",
       "    .dataframe thead th {\n",
       "        text-align: right;\n",
       "    }\n",
       "</style>\n",
       "<table border=\"1\" class=\"dataframe\">\n",
       "  <thead>\n",
       "    <tr style=\"text-align: right;\">\n",
       "      <th></th>\n",
       "      <th>text</th>\n",
       "      <th>processed_text</th>\n",
       "      <th>label</th>\n",
       "    </tr>\n",
       "  </thead>\n",
       "  <tbody>\n",
       "    <tr>\n",
       "      <th>0</th>\n",
       "      <td>On Air with Ryan Seacrest is offering you a ch...</td>\n",
       "      <td>[air, ryan, seacrest, offer, chance, win, nigh...</td>\n",
       "      <td>false</td>\n",
       "    </tr>\n",
       "    <tr>\n",
       "      <th>1</th>\n",
       "      <td>‘American Idol’ final: How to vote for the sea...</td>\n",
       "      <td>[american, idol, final, vote, season, winner, ...</td>\n",
       "      <td>false</td>\n",
       "    </tr>\n",
       "    <tr>\n",
       "      <th>2</th>\n",
       "      <td>@ScottDisick @KrisJenner @khloekardashian — LA...</td>\n",
       "      <td>[latest, art, shame, revenge, prank, banksy, s...</td>\n",
       "      <td>false</td>\n",
       "    </tr>\n",
       "    <tr>\n",
       "      <th>3</th>\n",
       "      <td>@foquinha Youngblood - 5 Seconds of Summer \\nO...</td>\n",
       "      <td>[youngblood, seconds, summer, little, mix, del...</td>\n",
       "      <td>false</td>\n",
       "    </tr>\n",
       "    <tr>\n",
       "      <th>4</th>\n",
       "      <td>Kylie Jenner ‘Open’ To Reconciliation With Tyg...</td>\n",
       "      <td>[kylie, jenner, open, reconciliation, tyga, pr...</td>\n",
       "      <td>false</td>\n",
       "    </tr>\n",
       "  </tbody>\n",
       "</table>\n",
       "</div>"
      ],
      "text/plain": [
       "                                                text  \\\n",
       "0  On Air with Ryan Seacrest is offering you a ch...   \n",
       "1  ‘American Idol’ final: How to vote for the sea...   \n",
       "2  @ScottDisick @KrisJenner @khloekardashian — LA...   \n",
       "3  @foquinha Youngblood - 5 Seconds of Summer \\nO...   \n",
       "4  Kylie Jenner ‘Open’ To Reconciliation With Tyg...   \n",
       "\n",
       "                                      processed_text  label  \n",
       "0  [air, ryan, seacrest, offer, chance, win, nigh...  false  \n",
       "1  [american, idol, final, vote, season, winner, ...  false  \n",
       "2  [latest, art, shame, revenge, prank, banksy, s...  false  \n",
       "3  [youngblood, seconds, summer, little, mix, del...  false  \n",
       "4  [kylie, jenner, open, reconciliation, tyga, pr...  false  "
      ]
     },
     "execution_count": 16,
     "metadata": {},
     "output_type": "execute_result"
    }
   ],
   "source": [
    "master_df = master_df_raw[['text', 'processed_text', 'label']]\n",
    "master_df.head()"
   ]
  },
  {
   "cell_type": "code",
   "execution_count": 17,
   "metadata": {},
   "outputs": [],
   "source": [
    "master_df.to_pickle('./data/FakeNewsNet.pkl')"
   ]
  }
 ],
 "metadata": {
  "kernelspec": {
   "display_name": "env_dataset",
   "language": "python",
   "name": "python3"
  },
  "language_info": {
   "codemirror_mode": {
    "name": "ipython",
    "version": 3
   },
   "file_extension": ".py",
   "mimetype": "text/x-python",
   "name": "python",
   "nbconvert_exporter": "python",
   "pygments_lexer": "ipython3",
   "version": "3.8.10"
  },
  "orig_nbformat": 4,
  "vscode": {
   "interpreter": {
    "hash": "866206d3ce38356be375f950e8c92408cdea91776d08b03ca687df0e81d3a33c"
   }
  }
 },
 "nbformat": 4,
 "nbformat_minor": 2
}
