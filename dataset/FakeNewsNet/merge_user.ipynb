{
 "cells": [
  {
   "cell_type": "code",
   "execution_count": 130,
   "metadata": {},
   "outputs": [],
   "source": [
    "import json\n",
    "import os\n",
    "from functools import reduce\n",
    "\n",
    "import pandas as pd\n",
    "from tqdm import tqdm"
   ]
  },
  {
   "cell_type": "code",
   "execution_count": 131,
   "metadata": {},
   "outputs": [],
   "source": [
    "BASE_PATH = './data/'\n",
    "PATH = ['gossipcop_fake', 'politifact_fake', 'politifact_real', 'gossipcop_real']\n",
    "# PATH = ['gossipcop_real']\n",
    "ITEM_PATH = 'users'"
   ]
  },
  {
   "cell_type": "code",
   "execution_count": 132,
   "metadata": {},
   "outputs": [
    {
     "name": "stdout",
     "output_type": "stream",
     "text": [
      "gossipcop_fake 231087\n",
      "politifact_fake 76733\n",
      "politifact_real 231756\n",
      "gossipcop_real 68009\n"
     ]
    }
   ],
   "source": [
    "for path in PATH: \n",
    "    json_path = os.path.join(BASE_PATH, path, ITEM_PATH)\n",
    "    files = [f for f in os.listdir(json_path) if f.endswith('.json')]\n",
    "    print(path, len(files))"
   ]
  },
  {
   "cell_type": "code",
   "execution_count": 133,
   "metadata": {},
   "outputs": [
    {
     "name": "stderr",
     "output_type": "stream",
     "text": [
      "100%|██████████| 231087/231087 [02:30<00:00, 1539.93it/s]\n",
      "100%|██████████| 76733/76733 [00:51<00:00, 1499.70it/s]\n",
      "100%|██████████| 231756/231756 [02:42<00:00, 1429.29it/s]\n",
      "100%|██████████| 68009/68009 [00:28<00:00, 2395.00it/s]\n"
     ]
    }
   ],
   "source": [
    "users_df = {\n",
    "    'gossipcop_fake': pd.DataFrame(),\n",
    "    'politifact_fake': pd.DataFrame(),\n",
    "    'politifact_real': pd.DataFrame(),\n",
    "    'gossipcop_real': pd.DataFrame(),\n",
    "}\n",
    "\n",
    "for path in PATH: \n",
    "    json_path = os.path.join(BASE_PATH, path, ITEM_PATH)\n",
    "    files = [f for f in os.listdir(json_path) if f.endswith('.json')]\n",
    "    \n",
    "    df_list = []\n",
    "    for target_file in tqdm(files):\n",
    "        # user_df = None\n",
    "        with open(os.path.join(json_path, target_file)) as f:\n",
    "            file_content = json.load(f)\n",
    "            user_df = pd.json_normalize(file_content)\n",
    "            df_list.append(user_df)\n",
    "    users_df[path] = pd.concat(df_list)"
   ]
  },
  {
   "cell_type": "code",
   "execution_count": 134,
   "metadata": {},
   "outputs": [],
   "source": [
    "master_df = pd.DataFrame()\n",
    "\n",
    "for source, df in users_df.items():\n",
    "    df.reset_index(drop=True, inplace=True)\n",
    "    df['source'] = source\n",
    "    df.to_pickle(f'./data/users/{source}_users.pkl')\n",
    "    \n",
    "    master_df = pd.concat([master_df, df])\n",
    "    \n",
    "master_df.to_pickle(f'./data/users/master_users.pkl')"
   ]
  },
  {
   "cell_type": "code",
   "execution_count": 137,
   "metadata": {},
   "outputs": [
    {
     "name": "stdout",
     "output_type": "stream",
     "text": [
      "gossipcop_fake (231087, 23)\n",
      "politifact_fake (76733, 22)\n",
      "politifact_real (231756, 22)\n",
      "gossipcop_real (68009, 22)\n"
     ]
    }
   ],
   "source": [
    "for source, df in users_df.items():\n",
    "    print(source, df.shape)\n",
    "    df.to_csv(f'./data/users/{source}_users.csv')\n",
    "    \n",
    "master_df.to_csv(f'./data/users/master_users.csv')"
   ]
  },
  {
   "cell_type": "code",
   "execution_count": 138,
   "metadata": {},
   "outputs": [
    {
     "data": {
      "text/plain": [
       "(607585, 23)"
      ]
     },
     "execution_count": 138,
     "metadata": {},
     "output_type": "execute_result"
    }
   ],
   "source": [
    "master_df.shape"
   ]
  }
 ],
 "metadata": {
  "kernelspec": {
   "display_name": "env_dataset",
   "language": "python",
   "name": "python3"
  },
  "language_info": {
   "codemirror_mode": {
    "name": "ipython",
    "version": 3
   },
   "file_extension": ".py",
   "mimetype": "text/x-python",
   "name": "python",
   "nbconvert_exporter": "python",
   "pygments_lexer": "ipython3",
   "version": "3.8.10"
  },
  "orig_nbformat": 4
 },
 "nbformat": 4,
 "nbformat_minor": 2
}
