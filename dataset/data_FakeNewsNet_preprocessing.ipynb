{
 "cells": [
  {
   "cell_type": "code",
   "execution_count": 56,
   "metadata": {},
   "outputs": [
    {
     "name": "stdout",
     "output_type": "stream",
     "text": [
      "Requirement already satisfied: pandas in ./env_dateset/lib/python3.11/site-packages (1.5.2)\n",
      "Requirement already satisfied: python-dateutil>=2.8.1 in ./env_dateset/lib/python3.11/site-packages (from pandas) (2.8.2)\n",
      "Requirement already satisfied: pytz>=2020.1 in ./env_dateset/lib/python3.11/site-packages (from pandas) (2022.7.1)\n",
      "Requirement already satisfied: numpy>=1.21.0 in ./env_dateset/lib/python3.11/site-packages (from pandas) (1.24.1)\n",
      "Requirement already satisfied: six>=1.5 in ./env_dateset/lib/python3.11/site-packages (from python-dateutil>=2.8.1->pandas) (1.16.0)\n",
      "Note: you may need to restart the kernel to use updated packages.\n"
     ]
    }
   ],
   "source": [
    "%pip install pandas\n",
    "import pandas as pd\n",
    "\n",
    "import os\n",
    "import json\n",
    "from tqdm import tqdm"
   ]
  },
  {
   "cell_type": "code",
   "execution_count": 10,
   "metadata": {},
   "outputs": [],
   "source": [
    "base_path = 'FakeNewsNet/'\n",
    "folders = ['gossipcop_fake', 'gossipcop_real', 'politifact_fake', 'politifact_real']"
   ]
  },
  {
   "cell_type": "code",
   "execution_count": 12,
   "metadata": {},
   "outputs": [
    {
     "data": {
      "text/html": [
       "<div>\n",
       "<style scoped>\n",
       "    .dataframe tbody tr th:only-of-type {\n",
       "        vertical-align: middle;\n",
       "    }\n",
       "\n",
       "    .dataframe tbody tr th {\n",
       "        vertical-align: top;\n",
       "    }\n",
       "\n",
       "    .dataframe thead th {\n",
       "        text-align: right;\n",
       "    }\n",
       "</style>\n",
       "<table border=\"1\" class=\"dataframe\">\n",
       "  <thead>\n",
       "    <tr style=\"text-align: right;\">\n",
       "      <th></th>\n",
       "      <th>index</th>\n",
       "      <th>id</th>\n",
       "      <th>news_url</th>\n",
       "      <th>title</th>\n",
       "      <th>tweet_ids</th>\n",
       "    </tr>\n",
       "  </thead>\n",
       "  <tbody>\n",
       "    <tr>\n",
       "      <th>0</th>\n",
       "      <td>0</td>\n",
       "      <td>gossipcop-2493749932</td>\n",
       "      <td>www.dailymail.co.uk/tvshowbiz/article-5874213/...</td>\n",
       "      <td>Did Miley Cyrus and Liam Hemsworth secretly ge...</td>\n",
       "      <td>284329075902926848</td>\n",
       "    </tr>\n",
       "    <tr>\n",
       "      <th>1</th>\n",
       "      <td>0</td>\n",
       "      <td>gossipcop-2493749932</td>\n",
       "      <td>www.dailymail.co.uk/tvshowbiz/article-5874213/...</td>\n",
       "      <td>Did Miley Cyrus and Liam Hemsworth secretly ge...</td>\n",
       "      <td>284332744559968256</td>\n",
       "    </tr>\n",
       "    <tr>\n",
       "      <th>2</th>\n",
       "      <td>0</td>\n",
       "      <td>gossipcop-2493749932</td>\n",
       "      <td>www.dailymail.co.uk/tvshowbiz/article-5874213/...</td>\n",
       "      <td>Did Miley Cyrus and Liam Hemsworth secretly ge...</td>\n",
       "      <td>284335412590297089</td>\n",
       "    </tr>\n",
       "    <tr>\n",
       "      <th>3</th>\n",
       "      <td>0</td>\n",
       "      <td>gossipcop-2493749932</td>\n",
       "      <td>www.dailymail.co.uk/tvshowbiz/article-5874213/...</td>\n",
       "      <td>Did Miley Cyrus and Liam Hemsworth secretly ge...</td>\n",
       "      <td>284359918792880128</td>\n",
       "    </tr>\n",
       "    <tr>\n",
       "      <th>4</th>\n",
       "      <td>0</td>\n",
       "      <td>gossipcop-2493749932</td>\n",
       "      <td>www.dailymail.co.uk/tvshowbiz/article-5874213/...</td>\n",
       "      <td>Did Miley Cyrus and Liam Hemsworth secretly ge...</td>\n",
       "      <td>284385385151332353</td>\n",
       "    </tr>\n",
       "  </tbody>\n",
       "</table>\n",
       "</div>"
      ],
      "text/plain": [
       "   index                    id  \\\n",
       "0      0  gossipcop-2493749932   \n",
       "1      0  gossipcop-2493749932   \n",
       "2      0  gossipcop-2493749932   \n",
       "3      0  gossipcop-2493749932   \n",
       "4      0  gossipcop-2493749932   \n",
       "\n",
       "                                            news_url  \\\n",
       "0  www.dailymail.co.uk/tvshowbiz/article-5874213/...   \n",
       "1  www.dailymail.co.uk/tvshowbiz/article-5874213/...   \n",
       "2  www.dailymail.co.uk/tvshowbiz/article-5874213/...   \n",
       "3  www.dailymail.co.uk/tvshowbiz/article-5874213/...   \n",
       "4  www.dailymail.co.uk/tvshowbiz/article-5874213/...   \n",
       "\n",
       "                                               title           tweet_ids  \n",
       "0  Did Miley Cyrus and Liam Hemsworth secretly ge...  284329075902926848  \n",
       "1  Did Miley Cyrus and Liam Hemsworth secretly ge...  284332744559968256  \n",
       "2  Did Miley Cyrus and Liam Hemsworth secretly ge...  284335412590297089  \n",
       "3  Did Miley Cyrus and Liam Hemsworth secretly ge...  284359918792880128  \n",
       "4  Did Miley Cyrus and Liam Hemsworth secretly ge...  284385385151332353  "
      ]
     },
     "execution_count": 12,
     "metadata": {},
     "output_type": "execute_result"
    }
   ],
   "source": [
    "path = base_path + folders[0] + '.csv'\n",
    "dataset_raw_df = pd.read_csv(path)\n",
    "\n",
    "dataset_df = dataset_raw_df\n",
    "dataset_df = dataset_df[dataset_df['tweet_ids'].notna()]\n",
    "\n",
    "# https://stackoverflow.com/a/57122617\n",
    "dataset_df = dataset_df.assign(tweet_ids=dataset_df['tweet_ids'].str.split('\\t')).explode('tweet_ids').reset_index()\n",
    "\n",
    "dataset_df.head()"
   ]
  },
  {
   "attachments": {},
   "cell_type": "markdown",
   "metadata": {},
   "source": [
    "## Tweets"
   ]
  },
  {
   "cell_type": "code",
   "execution_count": 51,
   "metadata": {},
   "outputs": [],
   "source": [
    "tweets_df = pd.DataFrame()"
   ]
  },
  {
   "cell_type": "code",
   "execution_count": 64,
   "metadata": {},
   "outputs": [
    {
     "name": "stderr",
     "output_type": "stream",
     "text": [
      " 15%|█▍        | 54451/371662 [07:31<43:48, 120.67it/s] \n"
     ]
    },
    {
     "ename": "KeyboardInterrupt",
     "evalue": "",
     "output_type": "error",
     "traceback": [
      "\u001b[0;31m---------------------------------------------------------------------------\u001b[0m",
      "\u001b[0;31mKeyboardInterrupt\u001b[0m                         Traceback (most recent call last)",
      "Cell \u001b[0;32mIn[64], line 9\u001b[0m\n\u001b[1;32m      7\u001b[0m \u001b[39mfor\u001b[39;00m file \u001b[39min\u001b[39;00m tqdm(files):\n\u001b[1;32m      8\u001b[0m     df \u001b[39m=\u001b[39m pd\u001b[39m.\u001b[39mread_json(folder_path \u001b[39m+\u001b[39m \u001b[39m\"\u001b[39m\u001b[39m/\u001b[39m\u001b[39m\"\u001b[39m \u001b[39m+\u001b[39m file, lines\u001b[39m=\u001b[39m\u001b[39mTrue\u001b[39;00m)\n\u001b[0;32m----> 9\u001b[0m     acc_df \u001b[39m=\u001b[39m pd\u001b[39m.\u001b[39mconcat([acc_df, df], axis\u001b[39m=\u001b[39m\u001b[39m0\u001b[39m)\n\u001b[1;32m     11\u001b[0m acc_df\u001b[39m.\u001b[39mto_json(folder \u001b[39m+\u001b[39m \u001b[39m\"\u001b[39m\u001b[39m.json\u001b[39m\u001b[39m\"\u001b[39m, orient\u001b[39m=\u001b[39m\u001b[39m\"\u001b[39m\u001b[39mrecords\u001b[39m\u001b[39m\"\u001b[39m)\n",
      "\u001b[0;31mKeyboardInterrupt\u001b[0m: "
     ]
    }
   ],
   "source": [
    "for folder in folders:\n",
    "    folder_path = base_path + folder + \"/tweets\"\n",
    "    files = os.listdir(folder_path)\n",
    "\n",
    "    acc_df = pd.DataFrame()\n",
    "\n",
    "    for file in tqdm(files):\n",
    "        df = pd.read_json(folder_path + \"/\" + file, lines=True)\n",
    "        acc_df = pd.concat([acc_df, df], axis=0)\n",
    "\n",
    "    acc_df.to_json(folder + \".json\", orient=\"records\")\n"
   ]
  }
 ],
 "metadata": {
  "kernelspec": {
   "display_name": "env_dateset",
   "language": "python",
   "name": "python3"
  },
  "language_info": {
   "codemirror_mode": {
    "name": "ipython",
    "version": 3
   },
   "file_extension": ".py",
   "mimetype": "text/x-python",
   "name": "python",
   "nbconvert_exporter": "python",
   "pygments_lexer": "ipython3",
   "version": "3.11.1"
  },
  "orig_nbformat": 4,
  "vscode": {
   "interpreter": {
    "hash": "d6f6542511a843e29dff554690543c04c05927cbb079e9dbb8a298894dc20422"
   }
  }
 },
 "nbformat": 4,
 "nbformat_minor": 2
}
