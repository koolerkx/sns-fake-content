{
 "cells": [
  {
   "cell_type": "code",
   "execution_count": 69,
   "metadata": {},
   "outputs": [],
   "source": [
    "import polars as pl\n",
    "import pandas as pd"
   ]
  },
  {
   "cell_type": "code",
   "execution_count": 70,
   "metadata": {},
   "outputs": [],
   "source": [
    "test_raw = pl.read_csv('../LIAR/data/test_raw.csv')\n",
    "train_raw = pl.read_csv('../LIAR/data/train_raw.csv')\n",
    "valid_raw = pl.read_csv('../LIAR/data/valid_raw.csv')"
   ]
  },
  {
   "cell_type": "code",
   "execution_count": 71,
   "metadata": {},
   "outputs": [],
   "source": [
    "test_raw = test_raw.with_columns(pl.col('barely_true_counts').cast(pl.Int64))\n",
    "train_raw = train_raw.with_columns(pl.col('barely_true_counts').cast(pl.Int64))\n",
    "valid_raw = valid_raw.with_columns(pl.col('barely_true_counts').cast(pl.Int64))\n",
    "\n",
    "test_raw = test_raw.with_columns(pl.col('false_counts').cast(pl.Int64))\n",
    "train_raw = train_raw.with_columns(pl.col('false_counts').cast(pl.Int64))\n",
    "valid_raw = valid_raw.with_columns(pl.col('false_counts').cast(pl.Int64))\n",
    "\n",
    "test_raw = test_raw.with_columns(pl.col('half_true_counts').cast(pl.Int64))\n",
    "train_raw = train_raw.with_columns(pl.col('half_true_counts').cast(pl.Int64))\n",
    "valid_raw = valid_raw.with_columns(pl.col('half_true_counts').cast(pl.Int64))\n",
    "\n",
    "test_raw = test_raw.with_columns(pl.col('mostly_true_counts').cast(pl.Int64))\n",
    "train_raw = train_raw.with_columns(pl.col('mostly_true_counts').cast(pl.Int64))\n",
    "valid_raw = valid_raw.with_columns(pl.col('mostly_true_counts').cast(pl.Int64))\n",
    "\n",
    "test_raw = test_raw.with_columns(pl.col('pants_on_fire_counts').cast(pl.Int64))\n",
    "train_raw = train_raw.with_columns(pl.col('pants_on_fire_counts').cast(pl.Int64))\n",
    "valid_raw = valid_raw.with_columns(pl.col('pants_on_fire_counts').cast(pl.Int64))"
   ]
  },
  {
   "cell_type": "code",
   "execution_count": 72,
   "metadata": {},
   "outputs": [],
   "source": [
    "data = pl.concat([test_raw, train_raw, valid_raw])\n",
    "data = data.with_columns(pl.col('label').apply(lambda x: 'true' if x == \"true\" or x == \"mostly-true\" else 'false').alias('label'))"
   ]
  },
  {
   "cell_type": "code",
   "execution_count": 73,
   "metadata": {},
   "outputs": [
    {
     "data": {
      "text/html": [
       "<div><style>\n",
       ".dataframe > thead > tr > th,\n",
       ".dataframe > tbody > tr > td {\n",
       "  text-align: right;\n",
       "}\n",
       "</style>\n",
       "<small>shape: (2, 1)</small><table border=\"1\" class=\"dataframe\"><thead><tr><th>label</th></tr><tr><td>str</td></tr></thead><tbody><tr><td>&quot;true&quot;</td></tr><tr><td>&quot;false&quot;</td></tr></tbody></table></div>"
      ],
      "text/plain": [
       "shape: (2, 1)\n",
       "┌───────┐\n",
       "│ label │\n",
       "│ ---   │\n",
       "│ str   │\n",
       "╞═══════╡\n",
       "│ true  │\n",
       "│ false │\n",
       "└───────┘"
      ]
     },
     "execution_count": 73,
     "metadata": {},
     "output_type": "execute_result"
    }
   ],
   "source": [
    "data.select(pl.col('label').unique())"
   ]
  },
  {
   "cell_type": "code",
   "execution_count": 74,
   "metadata": {},
   "outputs": [
    {
     "data": {
      "text/html": [
       "<div><style>\n",
       ".dataframe > thead > tr > th,\n",
       ".dataframe > tbody > tr > td {\n",
       "  text-align: right;\n",
       "}\n",
       "</style>\n",
       "<small>shape: (5, 14)</small><table border=\"1\" class=\"dataframe\"><thead><tr><th>id</th><th>label</th><th>statement</th><th>subject</th><th>speaker</th><th>job_title</th><th>state_info</th><th>party_affiliation</th><th>barely_true_counts</th><th>false_counts</th><th>half_true_counts</th><th>mostly_true_counts</th><th>pants_on_fire_counts</th><th>context</th></tr><tr><td>str</td><td>str</td><td>str</td><td>str</td><td>str</td><td>str</td><td>str</td><td>str</td><td>i64</td><td>i64</td><td>i64</td><td>i64</td><td>i64</td><td>str</td></tr></thead><tbody><tr><td>&quot;11972.json&quot;</td><td>&quot;true&quot;</td><td>&quot;Building a wal...</td><td>&quot;immigration&quot;</td><td>&quot;rick-perry&quot;</td><td>&quot;Governor&quot;</td><td>&quot;Texas&quot;</td><td>&quot;republican&quot;</td><td>30</td><td>30</td><td>42</td><td>23</td><td>18</td><td>&quot;Radio intervie...</td></tr><tr><td>&quot;11685.json&quot;</td><td>&quot;false&quot;</td><td>&quot;Wisconsin is o...</td><td>&quot;jobs&quot;</td><td>&quot;katrina-shankl...</td><td>&quot;State represen...</td><td>&quot;Wisconsin&quot;</td><td>&quot;democrat&quot;</td><td>2</td><td>1</td><td>0</td><td>0</td><td>0</td><td>&quot;a news confere...</td></tr><tr><td>&quot;11096.json&quot;</td><td>&quot;false&quot;</td><td>&quot;Says John McCa...</td><td>&quot;military,veter...</td><td>&quot;donald-trump&quot;</td><td>&quot;President-Elec...</td><td>&quot;New York&quot;</td><td>&quot;republican&quot;</td><td>63</td><td>114</td><td>51</td><td>37</td><td>61</td><td>&quot;comments on AB...</td></tr><tr><td>&quot;5209.json&quot;</td><td>&quot;false&quot;</td><td>&quot;Suzanne Bonami...</td><td>&quot;medicare,messa...</td><td>&quot;rob-cornilles&quot;</td><td>&quot;consultant&quot;</td><td>&quot;Oregon&quot;</td><td>&quot;republican&quot;</td><td>1</td><td>1</td><td>3</td><td>1</td><td>1</td><td>&quot;a radio show&quot;</td></tr><tr><td>&quot;9524.json&quot;</td><td>&quot;false&quot;</td><td>&quot;When asked by ...</td><td>&quot;campaign-finan...</td><td>&quot;state-democrat...</td><td>null</td><td>&quot;Wisconsin&quot;</td><td>&quot;democrat&quot;</td><td>5</td><td>7</td><td>2</td><td>2</td><td>7</td><td>&quot;a web video&quot;</td></tr></tbody></table></div>"
      ],
      "text/plain": [
       "shape: (5, 14)\n",
       "┌───────────┬───────┬───────────┬──────────┬─────┬────────────┬────────────┬────────────┬──────────┐\n",
       "│ id        ┆ label ┆ statement ┆ subject  ┆ ... ┆ half_true_ ┆ mostly_tru ┆ pants_on_f ┆ context  │\n",
       "│ ---       ┆ ---   ┆ ---       ┆ ---      ┆     ┆ counts     ┆ e_counts   ┆ ire_counts ┆ ---      │\n",
       "│ str       ┆ str   ┆ str       ┆ str      ┆     ┆ ---        ┆ ---        ┆ ---        ┆ str      │\n",
       "│           ┆       ┆           ┆          ┆     ┆ i64        ┆ i64        ┆ i64        ┆          │\n",
       "╞═══════════╪═══════╪═══════════╪══════════╪═════╪════════════╪════════════╪════════════╪══════════╡\n",
       "│ 11972.jso ┆ true  ┆ Building  ┆ immigrat ┆ ... ┆ 42         ┆ 23         ┆ 18         ┆ Radio    │\n",
       "│ n         ┆       ┆ a wall on ┆ ion      ┆     ┆            ┆            ┆            ┆ intervie │\n",
       "│           ┆       ┆ the U.S.- ┆          ┆     ┆            ┆            ┆            ┆ w        │\n",
       "│           ┆       ┆ Mexi...   ┆          ┆     ┆            ┆            ┆            ┆          │\n",
       "│ 11685.jso ┆ false ┆ Wisconsin ┆ jobs     ┆ ... ┆ 0          ┆ 0          ┆ 0          ┆ a news   │\n",
       "│ n         ┆       ┆ is on     ┆          ┆     ┆            ┆            ┆            ┆ conferen │\n",
       "│           ┆       ┆ pace to   ┆          ┆     ┆            ┆            ┆            ┆ ce       │\n",
       "│           ┆       ┆ double    ┆          ┆     ┆            ┆            ┆            ┆          │\n",
       "│           ┆       ┆ t...      ┆          ┆     ┆            ┆            ┆            ┆          │\n",
       "│ 11096.jso ┆ false ┆ Says John ┆ military ┆ ... ┆ 51         ┆ 37         ┆ 61         ┆ comments │\n",
       "│ n         ┆       ┆ McCain    ┆ ,veteran ┆     ┆            ┆            ┆            ┆ on ABC's │\n",
       "│           ┆       ┆ has done  ┆ s,voting ┆     ┆            ┆            ┆            ┆ This     │\n",
       "│           ┆       ┆ nothin... ┆ -record  ┆     ┆            ┆            ┆            ┆ Week.    │\n",
       "│ 5209.json ┆ false ┆ Suzanne   ┆ medicare ┆ ... ┆ 3          ┆ 1          ┆ 1          ┆ a radio  │\n",
       "│           ┆       ┆ Bonamici  ┆ ,message ┆     ┆            ┆            ┆            ┆ show     │\n",
       "│           ┆       ┆ supports  ┆ -machine ┆     ┆            ┆            ┆            ┆          │\n",
       "│           ┆       ┆ a plan... ┆ -2012,ca ┆     ┆            ┆            ┆            ┆          │\n",
       "│           ┆       ┆           ┆ ...      ┆     ┆            ┆            ┆            ┆          │\n",
       "│ 9524.json ┆ false ┆ When      ┆ campaign ┆ ... ┆ 2          ┆ 2          ┆ 7          ┆ a web    │\n",
       "│           ┆       ┆ asked by  ┆ -finance ┆     ┆            ┆            ┆            ┆ video    │\n",
       "│           ┆       ┆ a         ┆ ,legal-i ┆     ┆            ┆            ┆            ┆          │\n",
       "│           ┆       ┆ reporter  ┆ ssues,ca ┆     ┆            ┆            ┆            ┆          │\n",
       "│           ┆       ┆ whether.. ┆ ...      ┆     ┆            ┆            ┆            ┆          │\n",
       "│           ┆       ┆ .         ┆          ┆     ┆            ┆            ┆            ┆          │\n",
       "└───────────┴───────┴───────────┴──────────┴─────┴────────────┴────────────┴────────────┴──────────┘"
      ]
     },
     "execution_count": 74,
     "metadata": {},
     "output_type": "execute_result"
    }
   ],
   "source": [
    "data.head()"
   ]
  },
  {
   "cell_type": "code",
   "execution_count": 75,
   "metadata": {},
   "outputs": [
    {
     "data": {
      "text/html": [
       "<div><style>\n",
       ".dataframe > thead > tr > th,\n",
       ".dataframe > tbody > tr > td {\n",
       "  text-align: right;\n",
       "}\n",
       "</style>\n",
       "<small>shape: (5, 2)</small><table border=\"1\" class=\"dataframe\"><thead><tr><th>label</th><th>statement</th></tr><tr><td>str</td><td>str</td></tr></thead><tbody><tr><td>&quot;true&quot;</td><td>&quot;Building a wal...</td></tr><tr><td>&quot;false&quot;</td><td>&quot;Wisconsin is o...</td></tr><tr><td>&quot;false&quot;</td><td>&quot;Says John McCa...</td></tr><tr><td>&quot;false&quot;</td><td>&quot;Suzanne Bonami...</td></tr><tr><td>&quot;false&quot;</td><td>&quot;When asked by ...</td></tr></tbody></table></div>"
      ],
      "text/plain": [
       "shape: (5, 2)\n",
       "┌───────┬─────────────────────────────────────┐\n",
       "│ label ┆ statement                           │\n",
       "│ ---   ┆ ---                                 │\n",
       "│ str   ┆ str                                 │\n",
       "╞═══════╪═════════════════════════════════════╡\n",
       "│ true  ┆ Building a wall on the U.S.-Mexi... │\n",
       "│ false ┆ Wisconsin is on pace to double t... │\n",
       "│ false ┆ Says John McCain has done nothin... │\n",
       "│ false ┆ Suzanne Bonamici supports a plan... │\n",
       "│ false ┆ When asked by a reporter whether... │\n",
       "└───────┴─────────────────────────────────────┘"
      ]
     },
     "execution_count": 75,
     "metadata": {},
     "output_type": "execute_result"
    }
   ],
   "source": [
    "selected_data = data.select([\n",
    "    pl.col('label'),\n",
    "    pl.col('statement'),\n",
    "])\n",
    "selected_data.head()"
   ]
  },
  {
   "cell_type": "code",
   "execution_count": 76,
   "metadata": {},
   "outputs": [],
   "source": [
    "from preprocess import text_preprocess"
   ]
  },
  {
   "cell_type": "code",
   "execution_count": 77,
   "metadata": {},
   "outputs": [
    {
     "name": "stderr",
     "output_type": "stream",
     "text": [
      "100%|██████████| 12791/12791 [00:04<00:00, 2833.37it/s]\n"
     ]
    }
   ],
   "source": [
    "processed_text = text_preprocess(selected_data['statement'])"
   ]
  },
  {
   "cell_type": "code",
   "execution_count": 78,
   "metadata": {},
   "outputs": [],
   "source": [
    "processed_selected_data = selected_data.with_columns(pl.Series(processed_text)).rename({'statement': 'text', '': 'processed_text'})"
   ]
  },
  {
   "cell_type": "code",
   "execution_count": 79,
   "metadata": {},
   "outputs": [
    {
     "data": {
      "text/html": [
       "<div><style>\n",
       ".dataframe > thead > tr > th,\n",
       ".dataframe > tbody > tr > td {\n",
       "  text-align: right;\n",
       "}\n",
       "</style>\n",
       "<small>shape: (12791, 3)</small><table border=\"1\" class=\"dataframe\"><thead><tr><th>label</th><th>text</th><th>processed_text</th></tr><tr><td>str</td><td>str</td><td>list[str]</td></tr></thead><tbody><tr><td>&quot;true&quot;</td><td>&quot;Building a wal...</td><td>[&quot;build&quot;, &quot;wall&quot;, ... &quot;year&quot;]</td></tr><tr><td>&quot;false&quot;</td><td>&quot;Wisconsin is o...</td><td>[&quot;wisconsin&quot;, &quot;pace&quot;, ... &quot;year&quot;]</td></tr><tr><td>&quot;false&quot;</td><td>&quot;Says John McCa...</td><td>[&quot;say&quot;, &quot;john&quot;, ... &quot;vet&quot;]</td></tr><tr><td>&quot;false&quot;</td><td>&quot;Suzanne Bonami...</td><td>[&quot;suzanne&quot;, &quot;bonamici&quot;, ... &quot;senior&quot;]</td></tr><tr><td>&quot;false&quot;</td><td>&quot;When asked by ...</td><td>[&quot;ask&quot;, &quot;reporter&quot;, ... &quot;yes&quot;]</td></tr><tr><td>&quot;true&quot;</td><td>&quot;Over the past ...</td><td>[&quot;past&quot;, &quot;year&quot;, ... &quot;employee&quot;]</td></tr><tr><td>&quot;true&quot;</td><td>&quot;Says that Tenn...</td><td>[&quot;say&quot;, &quot;tennessee&quot;, ... &quot;tax&quot;]</td></tr><tr><td>&quot;false&quot;</td><td>&quot;Says Vice Pres...</td><td>[&quot;say&quot;, &quot;vice&quot;, ... &quot;package&quot;]</td></tr><tr><td>&quot;true&quot;</td><td>&quot;Donald Trump i...</td><td>[&quot;donald&quot;, &quot;trump&quot;, ... &quot;want&quot;]</td></tr><tr><td>&quot;false&quot;</td><td>&quot;We know that m...</td><td>[&quot;know&quot;, &quot;half&quot;, ... &quot;foundation&quot;]</td></tr><tr><td>&quot;false&quot;</td><td>&quot;We know there ...</td><td>[&quot;know&quot;, &quot;democrats&quot;, ... &quot;fact&quot;]</td></tr><tr><td>&quot;false&quot;</td><td>&quot;PolitiFact Tex...</td><td>[&quot;politifact&quot;, &quot;texas&quot;, ... &quot;false&quot;]</td></tr><tr><td>...</td><td>...</td><td>...</td></tr><tr><td>&quot;false&quot;</td><td>&quot;Social Securit...</td><td>[&quot;social&quot;, &quot;security&quot;, ... &quot;increase&quot;]</td></tr><tr><td>&quot;false&quot;</td><td>&quot;TSA started of...</td><td>[&quot;tsa&quot;, &quot;start&quot;, ... &quot;average&quot;]</td></tr><tr><td>&quot;true&quot;</td><td>&quot;The proposed e...</td><td>[&quot;propose&quot;, &quot;excise&quot;, ... &quot;hard&quot;]</td></tr><tr><td>&quot;false&quot;</td><td>&quot;I supported (t...</td><td>[&quot;support&quot;, &quot;surge&quot;, ... &quot;stage&quot;]</td></tr><tr><td>&quot;false&quot;</td><td>&quot;Says U.S. Rep....</td><td>[&quot;say&quot;, &quot;charles&quot;, ... &quot;security&quot;]</td></tr><tr><td>&quot;false&quot;</td><td>&quot;More Americans...</td><td>[&quot;americans&quot;, &quot;believe&quot;, ... &quot;affordable&quot;]</td></tr><tr><td>&quot;false&quot;</td><td>&quot;In the past tw...</td><td>[&quot;past&quot;, &quot;year&quot;, ... &quot;combine&quot;]</td></tr><tr><td>&quot;false&quot;</td><td>&quot;For the first ...</td><td>[&quot;time&quot;, &quot;decade&quot;, ... &quot;consume&quot;]</td></tr><tr><td>&quot;true&quot;</td><td>&quot;Says Donald Tr...</td><td>[&quot;say&quot;, &quot;donald&quot;, ... &quot;time&quot;]</td></tr><tr><td>&quot;true&quot;</td><td>&quot;John McCain an...</td><td>[&quot;john&quot;, &quot;mccain&quot;, ... &quot;care&quot;]</td></tr><tr><td>&quot;false&quot;</td><td>&quot;A new poll sho...</td><td>[&quot;new&quot;, &quot;poll&quot;, ... &quot;plan&quot;]</td></tr><tr><td>&quot;false&quot;</td><td>&quot;No one claims ...</td><td>[&quot;claim&quot;, &quot;report&quot;, ... &quot;conclusive&quot;]</td></tr></tbody></table></div>"
      ],
      "text/plain": [
       "shape: (12791, 3)\n",
       "┌───────┬─────────────────────────────────────┬─────────────────────────────────────┐\n",
       "│ label ┆ text                                ┆ processed_text                      │\n",
       "│ ---   ┆ ---                                 ┆ ---                                 │\n",
       "│ str   ┆ str                                 ┆ list[str]                           │\n",
       "╞═══════╪═════════════════════════════════════╪═════════════════════════════════════╡\n",
       "│ true  ┆ Building a wall on the U.S.-Mexi... ┆ [\"build\", \"wall\", ... \"year\"]       │\n",
       "│ false ┆ Wisconsin is on pace to double t... ┆ [\"wisconsin\", \"pace\", ... \"year\"... │\n",
       "│ false ┆ Says John McCain has done nothin... ┆ [\"say\", \"john\", ... \"vet\"]          │\n",
       "│ false ┆ Suzanne Bonamici supports a plan... ┆ [\"suzanne\", \"bonamici\", ... \"sen... │\n",
       "│ ...   ┆ ...                                 ┆ ...                                 │\n",
       "│ true  ┆ Says Donald Trump has bankrupted... ┆ [\"say\", \"donald\", ... \"time\"]       │\n",
       "│ true  ┆ John McCain and George Bush have... ┆ [\"john\", \"mccain\", ... \"care\"]      │\n",
       "│ false ┆ A new poll shows 62 percent supp... ┆ [\"new\", \"poll\", ... \"plan\"]         │\n",
       "│ false ┆ No one claims the report vindica... ┆ [\"claim\", \"report\", ... \"conclus... │\n",
       "└───────┴─────────────────────────────────────┴─────────────────────────────────────┘"
      ]
     },
     "execution_count": 79,
     "metadata": {},
     "output_type": "execute_result"
    }
   ],
   "source": [
    "processed_selected_data"
   ]
  },
  {
   "cell_type": "code",
   "execution_count": 80,
   "metadata": {},
   "outputs": [
    {
     "name": "stdout",
     "output_type": "stream",
     "text": [
      "File created ./datasets/liar.csv\n",
      "File created ./datasets/liar.parquet.gzip\n",
      "File created ./datasets/liar.pkl\n",
      "{'shape': (12791, 3)}\n",
      "=================================\n"
     ]
    }
   ],
   "source": [
    "name = \"liar\"\n",
    "\n",
    "text_df = processed_selected_data.to_pandas()\n",
    "\n",
    "text_df.to_csv(f\"./datasets/{name}.csv\", index=False)\n",
    "print(\"File created\", f\"./datasets/{name}.csv\")\n",
    "\n",
    "text_df.to_parquet(f\"./datasets/{name}.parquet.gzip\", index=False)\n",
    "print(\"File created\", f\"./datasets/{name}.parquet.gzip\")\n",
    "\n",
    "text_df.to_pickle(f\"./datasets/{name}.pkl\")\n",
    "print(\"File created\", f\"./datasets/{name}.pkl\")\n",
    "\n",
    "print({\"shape\": text_df.shape})\n",
    "print(\"=================================\")\n"
   ]
  },
  {
   "cell_type": "code",
   "execution_count": 81,
   "metadata": {},
   "outputs": [
    {
     "data": {
      "text/html": [
       "<div><style>\n",
       ".dataframe > thead > tr > th,\n",
       ".dataframe > tbody > tr > td {\n",
       "  text-align: right;\n",
       "}\n",
       "</style>\n",
       "<small>shape: (7, 2)</small><table border=\"1\" class=\"dataframe\"><thead><tr><th>describe</th><th>processed_text</th></tr><tr><td>str</td><td>f64</td></tr></thead><tbody><tr><td>&quot;count&quot;</td><td>12791.0</td></tr><tr><td>&quot;null_count&quot;</td><td>0.0</td></tr><tr><td>&quot;mean&quot;</td><td>9.710109</td></tr><tr><td>&quot;std&quot;</td><td>5.841837</td></tr><tr><td>&quot;min&quot;</td><td>1.0</td></tr><tr><td>&quot;max&quot;</td><td>301.0</td></tr><tr><td>&quot;median&quot;</td><td>9.0</td></tr></tbody></table></div>"
      ],
      "text/plain": [
       "shape: (7, 2)\n",
       "┌────────────┬────────────────┐\n",
       "│ describe   ┆ processed_text │\n",
       "│ ---        ┆ ---            │\n",
       "│ str        ┆ f64            │\n",
       "╞════════════╪════════════════╡\n",
       "│ count      ┆ 12791.0        │\n",
       "│ null_count ┆ 0.0            │\n",
       "│ mean       ┆ 9.710109       │\n",
       "│ std        ┆ 5.841837       │\n",
       "│ min        ┆ 1.0            │\n",
       "│ max        ┆ 301.0          │\n",
       "│ median     ┆ 9.0            │\n",
       "└────────────┴────────────────┘"
      ]
     },
     "execution_count": 81,
     "metadata": {},
     "output_type": "execute_result"
    }
   ],
   "source": [
    "processed_selected_data.select(pl.col('processed_text').arr.lengths()).describe()"
   ]
  },
  {
   "cell_type": "code",
   "execution_count": 82,
   "metadata": {},
   "outputs": [
    {
     "data": {
      "text/html": [
       "<div><style>\n",
       ".dataframe > thead > tr > th,\n",
       ".dataframe > tbody > tr > td {\n",
       "  text-align: right;\n",
       "}\n",
       "</style>\n",
       "<small>shape: (12791, 3)</small><table border=\"1\" class=\"dataframe\"><thead><tr><th>label</th><th>text</th><th>processed_text</th></tr><tr><td>str</td><td>str</td><td>list[str]</td></tr></thead><tbody><tr><td>&quot;true&quot;</td><td>&quot;Building a wal...</td><td>[&quot;build&quot;, &quot;wall&quot;, ... &quot;year&quot;]</td></tr><tr><td>&quot;false&quot;</td><td>&quot;Wisconsin is o...</td><td>[&quot;wisconsin&quot;, &quot;pace&quot;, ... &quot;year&quot;]</td></tr><tr><td>&quot;false&quot;</td><td>&quot;Says John McCa...</td><td>[&quot;say&quot;, &quot;john&quot;, ... &quot;vet&quot;]</td></tr><tr><td>&quot;false&quot;</td><td>&quot;Suzanne Bonami...</td><td>[&quot;suzanne&quot;, &quot;bonamici&quot;, ... &quot;senior&quot;]</td></tr><tr><td>&quot;false&quot;</td><td>&quot;When asked by ...</td><td>[&quot;ask&quot;, &quot;reporter&quot;, ... &quot;yes&quot;]</td></tr><tr><td>&quot;true&quot;</td><td>&quot;Over the past ...</td><td>[&quot;past&quot;, &quot;year&quot;, ... &quot;employee&quot;]</td></tr><tr><td>&quot;true&quot;</td><td>&quot;Says that Tenn...</td><td>[&quot;say&quot;, &quot;tennessee&quot;, ... &quot;tax&quot;]</td></tr><tr><td>&quot;false&quot;</td><td>&quot;Says Vice Pres...</td><td>[&quot;say&quot;, &quot;vice&quot;, ... &quot;package&quot;]</td></tr><tr><td>&quot;true&quot;</td><td>&quot;Donald Trump i...</td><td>[&quot;donald&quot;, &quot;trump&quot;, ... &quot;want&quot;]</td></tr><tr><td>&quot;false&quot;</td><td>&quot;We know that m...</td><td>[&quot;know&quot;, &quot;half&quot;, ... &quot;foundation&quot;]</td></tr><tr><td>&quot;false&quot;</td><td>&quot;We know there ...</td><td>[&quot;know&quot;, &quot;democrats&quot;, ... &quot;fact&quot;]</td></tr><tr><td>&quot;false&quot;</td><td>&quot;PolitiFact Tex...</td><td>[&quot;politifact&quot;, &quot;texas&quot;, ... &quot;false&quot;]</td></tr><tr><td>...</td><td>...</td><td>...</td></tr><tr><td>&quot;false&quot;</td><td>&quot;Social Securit...</td><td>[&quot;social&quot;, &quot;security&quot;, ... &quot;increase&quot;]</td></tr><tr><td>&quot;false&quot;</td><td>&quot;TSA started of...</td><td>[&quot;tsa&quot;, &quot;start&quot;, ... &quot;average&quot;]</td></tr><tr><td>&quot;true&quot;</td><td>&quot;The proposed e...</td><td>[&quot;propose&quot;, &quot;excise&quot;, ... &quot;hard&quot;]</td></tr><tr><td>&quot;false&quot;</td><td>&quot;I supported (t...</td><td>[&quot;support&quot;, &quot;surge&quot;, ... &quot;stage&quot;]</td></tr><tr><td>&quot;false&quot;</td><td>&quot;Says U.S. Rep....</td><td>[&quot;say&quot;, &quot;charles&quot;, ... &quot;security&quot;]</td></tr><tr><td>&quot;false&quot;</td><td>&quot;More Americans...</td><td>[&quot;americans&quot;, &quot;believe&quot;, ... &quot;affordable&quot;]</td></tr><tr><td>&quot;false&quot;</td><td>&quot;In the past tw...</td><td>[&quot;past&quot;, &quot;year&quot;, ... &quot;combine&quot;]</td></tr><tr><td>&quot;false&quot;</td><td>&quot;For the first ...</td><td>[&quot;time&quot;, &quot;decade&quot;, ... &quot;consume&quot;]</td></tr><tr><td>&quot;true&quot;</td><td>&quot;Says Donald Tr...</td><td>[&quot;say&quot;, &quot;donald&quot;, ... &quot;time&quot;]</td></tr><tr><td>&quot;true&quot;</td><td>&quot;John McCain an...</td><td>[&quot;john&quot;, &quot;mccain&quot;, ... &quot;care&quot;]</td></tr><tr><td>&quot;false&quot;</td><td>&quot;A new poll sho...</td><td>[&quot;new&quot;, &quot;poll&quot;, ... &quot;plan&quot;]</td></tr><tr><td>&quot;false&quot;</td><td>&quot;No one claims ...</td><td>[&quot;claim&quot;, &quot;report&quot;, ... &quot;conclusive&quot;]</td></tr></tbody></table></div>"
      ],
      "text/plain": [
       "shape: (12791, 3)\n",
       "┌───────┬─────────────────────────────────────┬─────────────────────────────────────┐\n",
       "│ label ┆ text                                ┆ processed_text                      │\n",
       "│ ---   ┆ ---                                 ┆ ---                                 │\n",
       "│ str   ┆ str                                 ┆ list[str]                           │\n",
       "╞═══════╪═════════════════════════════════════╪═════════════════════════════════════╡\n",
       "│ true  ┆ Building a wall on the U.S.-Mexi... ┆ [\"build\", \"wall\", ... \"year\"]       │\n",
       "│ false ┆ Wisconsin is on pace to double t... ┆ [\"wisconsin\", \"pace\", ... \"year\"... │\n",
       "│ false ┆ Says John McCain has done nothin... ┆ [\"say\", \"john\", ... \"vet\"]          │\n",
       "│ false ┆ Suzanne Bonamici supports a plan... ┆ [\"suzanne\", \"bonamici\", ... \"sen... │\n",
       "│ ...   ┆ ...                                 ┆ ...                                 │\n",
       "│ true  ┆ Says Donald Trump has bankrupted... ┆ [\"say\", \"donald\", ... \"time\"]       │\n",
       "│ true  ┆ John McCain and George Bush have... ┆ [\"john\", \"mccain\", ... \"care\"]      │\n",
       "│ false ┆ A new poll shows 62 percent supp... ┆ [\"new\", \"poll\", ... \"plan\"]         │\n",
       "│ false ┆ No one claims the report vindica... ┆ [\"claim\", \"report\", ... \"conclus... │\n",
       "└───────┴─────────────────────────────────────┴─────────────────────────────────────┘"
      ]
     },
     "execution_count": 82,
     "metadata": {},
     "output_type": "execute_result"
    }
   ],
   "source": [
    "processed_selected_data"
   ]
  },
  {
   "cell_type": "code",
   "execution_count": null,
   "metadata": {},
   "outputs": [],
   "source": []
  }
 ],
 "metadata": {
  "kernelspec": {
   "display_name": "env_dataset",
   "language": "python",
   "name": "python3"
  },
  "language_info": {
   "codemirror_mode": {
    "name": "ipython",
    "version": 3
   },
   "file_extension": ".py",
   "mimetype": "text/x-python",
   "name": "python",
   "nbconvert_exporter": "python",
   "pygments_lexer": "ipython3",
   "version": "3.8.10"
  },
  "orig_nbformat": 4
 },
 "nbformat": 4,
 "nbformat_minor": 2
}
