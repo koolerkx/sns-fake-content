{
 "cells": [
  {
   "cell_type": "code",
   "execution_count": 129,
   "metadata": {},
   "outputs": [],
   "source": [
    "import numpy as np\n",
    "import pandas as pd\n",
    "from sklearn.model_selection import train_test_split\n",
    "from datasets import Dataset, DatasetDict\n",
    "import shutil \n",
    "import os.path"
   ]
  },
  {
   "cell_type": "code",
   "execution_count": 4,
   "metadata": {},
   "outputs": [],
   "source": [
    "df_gossipcop_fake = pd.read_json('../FakeNewsNet/data/gossipcop_fake.json')\n",
    "df_gossipcop_real = pd.read_json('../FakeNewsNet/data/gossipcop_real.json')\n",
    "df_politifact_fake = pd.read_json('../FakeNewsNet/data/politifact_fake.json')\n",
    "df_politifact_real = pd.read_json('../FakeNewsNet/data/politifact_real.json')"
   ]
  },
  {
   "attachments": {},
   "cell_type": "markdown",
   "metadata": {},
   "source": [
    "## Master DF"
   ]
  },
  {
   "cell_type": "code",
   "execution_count": 24,
   "metadata": {},
   "outputs": [],
   "source": [
    "# Merge Dataset\n",
    "fake_df = pd.concat([df_gossipcop_fake, df_politifact_fake], ignore_index=True)\n",
    "real_df = pd.concat([df_gossipcop_real, df_politifact_real], ignore_index=True)"
   ]
  },
  {
   "cell_type": "code",
   "execution_count": 35,
   "metadata": {},
   "outputs": [],
   "source": [
    "fake_df['label'] = 'false'\n",
    "real_df['label'] = 'true'"
   ]
  },
  {
   "cell_type": "code",
   "execution_count": 36,
   "metadata": {},
   "outputs": [],
   "source": [
    "master_df = pd.concat([fake_df, real_df], ignore_index=True)"
   ]
  },
  {
   "cell_type": "code",
   "execution_count": 38,
   "metadata": {},
   "outputs": [],
   "source": [
    "master_df.to_pickle('./master_fnn.pkl')"
   ]
  },
  {
   "attachments": {},
   "cell_type": "markdown",
   "metadata": {},
   "source": [
    "## Text Only"
   ]
  },
  {
   "cell_type": "code",
   "execution_count": 39,
   "metadata": {},
   "outputs": [
    {
     "data": {
      "text/html": [
       "<div>\n",
       "<style scoped>\n",
       "    .dataframe tbody tr th:only-of-type {\n",
       "        vertical-align: middle;\n",
       "    }\n",
       "\n",
       "    .dataframe tbody tr th {\n",
       "        vertical-align: top;\n",
       "    }\n",
       "\n",
       "    .dataframe thead th {\n",
       "        text-align: right;\n",
       "    }\n",
       "</style>\n",
       "<table border=\"1\" class=\"dataframe\">\n",
       "  <thead>\n",
       "    <tr style=\"text-align: right;\">\n",
       "      <th></th>\n",
       "      <th>text</th>\n",
       "      <th>label</th>\n",
       "    </tr>\n",
       "  </thead>\n",
       "  <tbody>\n",
       "    <tr>\n",
       "      <th>0</th>\n",
       "      <td>On Air with Ryan Seacrest is offering you a ch...</td>\n",
       "      <td>false</td>\n",
       "    </tr>\n",
       "    <tr>\n",
       "      <th>1</th>\n",
       "      <td>‘American Idol’ final: How to vote for the sea...</td>\n",
       "      <td>false</td>\n",
       "    </tr>\n",
       "    <tr>\n",
       "      <th>2</th>\n",
       "      <td>@ScottDisick @KrisJenner @khloekardashian — LA...</td>\n",
       "      <td>false</td>\n",
       "    </tr>\n",
       "    <tr>\n",
       "      <th>3</th>\n",
       "      <td>@foquinha Youngblood - 5 Seconds of Summer \\nO...</td>\n",
       "      <td>false</td>\n",
       "    </tr>\n",
       "    <tr>\n",
       "      <th>4</th>\n",
       "      <td>Kylie Jenner ‘Open’ To Reconciliation With Tyg...</td>\n",
       "      <td>false</td>\n",
       "    </tr>\n",
       "    <tr>\n",
       "      <th>...</th>\n",
       "      <td>...</td>\n",
       "      <td>...</td>\n",
       "    </tr>\n",
       "    <tr>\n",
       "      <th>1434570</th>\n",
       "      <td>@NBCNewsPR @MeetThePress @chucktodd @RepAdamSc...</td>\n",
       "      <td>true</td>\n",
       "    </tr>\n",
       "    <tr>\n",
       "      <th>1434571</th>\n",
       "      <td>Have you seen our Spotlight report on Initial ...</td>\n",
       "      <td>true</td>\n",
       "    </tr>\n",
       "    <tr>\n",
       "      <th>1434572</th>\n",
       "      <td>President Trump’s First Address to a Joint Ses...</td>\n",
       "      <td>true</td>\n",
       "    </tr>\n",
       "    <tr>\n",
       "      <th>1434573</th>\n",
       "      <td>@GianMarcoMelosu @SkySportF1 @LewisHamilton @M...</td>\n",
       "      <td>true</td>\n",
       "    </tr>\n",
       "    <tr>\n",
       "      <th>1434574</th>\n",
       "      <td>@Pendrake1 @CntroversyINCdA @tomborelli It is ...</td>\n",
       "      <td>true</td>\n",
       "    </tr>\n",
       "  </tbody>\n",
       "</table>\n",
       "<p>1434575 rows × 2 columns</p>\n",
       "</div>"
      ],
      "text/plain": [
       "                                                      text  label\n",
       "0        On Air with Ryan Seacrest is offering you a ch...  false\n",
       "1        ‘American Idol’ final: How to vote for the sea...  false\n",
       "2        @ScottDisick @KrisJenner @khloekardashian — LA...  false\n",
       "3        @foquinha Youngblood - 5 Seconds of Summer \\nO...  false\n",
       "4        Kylie Jenner ‘Open’ To Reconciliation With Tyg...  false\n",
       "...                                                    ...    ...\n",
       "1434570  @NBCNewsPR @MeetThePress @chucktodd @RepAdamSc...   true\n",
       "1434571  Have you seen our Spotlight report on Initial ...   true\n",
       "1434572  President Trump’s First Address to a Joint Ses...   true\n",
       "1434573  @GianMarcoMelosu @SkySportF1 @LewisHamilton @M...   true\n",
       "1434574  @Pendrake1 @CntroversyINCdA @tomborelli It is ...   true\n",
       "\n",
       "[1434575 rows x 2 columns]"
      ]
     },
     "execution_count": 39,
     "metadata": {},
     "output_type": "execute_result"
    }
   ],
   "source": [
    "text_df = master_df[['text', 'label']]\n",
    "text_df"
   ]
  },
  {
   "cell_type": "code",
   "execution_count": 41,
   "metadata": {},
   "outputs": [],
   "source": [
    "text_df.to_pickle('./text_fnn.pkl')"
   ]
  },
  {
   "attachments": {},
   "cell_type": "markdown",
   "metadata": {},
   "source": [
    "# Slice Dataset\n",
    "\n",
    "| Size | Amount |\n",
    "| ---- | ------ | \n",
    "| 3xs | 3000 |\n",
    "| 2xs | 10000 |\n",
    "| xs | 2000 |\n",
    "| s | 80000 |\n",
    "| m | 160000 |\n",
    "| l | ~500000 |\n",
    "| xl | all ~1300000 |"
   ]
  },
  {
   "cell_type": "code",
   "execution_count": 47,
   "metadata": {},
   "outputs": [
    {
     "data": {
      "text/plain": [
       "{'3xs': 3000,\n",
       " '2xs': 20000,\n",
       " 'xs': 40000,\n",
       " 's': 80000,\n",
       " 'm': 160000,\n",
       " 'l': 500000,\n",
       " 'xl': 1434575}"
      ]
     },
     "execution_count": 47,
     "metadata": {},
     "output_type": "execute_result"
    }
   ],
   "source": [
    "size = [3000, 10000, 20000, 80000, 160000, 500000, text_df.shape[0]]\n",
    "name = ['3xs', '2xs', 'xs', 's', 'm', 'l', 'xl']\n",
    "output_sizes = dict(zip(name, size))\n",
    "output_sizes"
   ]
  },
  {
   "cell_type": "code",
   "execution_count": 137,
   "metadata": {},
   "outputs": [],
   "source": [
    "def get_shape(X, y):\n",
    "    return {\n",
    "        \"shape\": X.shape,\n",
    "        \"true\": np.count_nonzero(y == \"true\"),\n",
    "        \"false\": len(y) - np.count_nonzero(y == 'true'),\n",
    "    }"
   ]
  },
  {
   "cell_type": "code",
   "execution_count": 145,
   "metadata": {},
   "outputs": [
    {
     "data": {
      "text/plain": [
       "956506"
      ]
     },
     "execution_count": 145,
     "metadata": {},
     "output_type": "execute_result"
    }
   ],
   "source": [
    "len(text_df[text_df[\"label\"] == 'true'])"
   ]
  },
  {
   "cell_type": "code",
   "execution_count": 150,
   "metadata": {},
   "outputs": [],
   "source": [
    "def split_data(df, size):\n",
    "    true_size = min(len(df[df[\"label\"] == 'true']), size)\n",
    "    false_size = min(len(df[df[\"label\"] == 'false']), size)\n",
    "    \n",
    "    df_split = pd.concat(\n",
    "        [\n",
    "            df[df[\"label\"] == 'true'].sample(true_size),\n",
    "            df[df[\"label\"] == 'false'].sample(false_size),\n",
    "        ]\n",
    "    )\n",
    "    return df_split.sample(frac=1).reset_index(drop=True)"
   ]
  },
  {
   "cell_type": "code",
   "execution_count": 157,
   "metadata": {},
   "outputs": [
    {
     "name": "stderr",
     "output_type": "stream",
     "text": [
      "                                                                                                \r"
     ]
    },
    {
     "name": "stdout",
     "output_type": "stream",
     "text": [
      "File created /home/kooler/dev/sw/sns-fake-content/dataset/processed_data/transformer_datasets/fnn_3xs.zip\n",
      "{'train': {'shape': (3840,), 'true': 1917, 'false': 1923}, 'val': {'shape': (960,), 'true': 462, 'false': 498}, 'test': {'shape': (1200,), 'true': 621, 'false': 579}}\n",
      "=================================\n"
     ]
    },
    {
     "name": "stderr",
     "output_type": "stream",
     "text": [
      "                                                                                                  \r"
     ]
    },
    {
     "name": "stdout",
     "output_type": "stream",
     "text": [
      "File created /home/kooler/dev/sw/sns-fake-content/dataset/processed_data/transformer_datasets/fnn_2xs.zip\n",
      "{'train': {'shape': (25600,), 'true': 12834, 'false': 12766}, 'val': {'shape': (6400,), 'true': 3194, 'false': 3206}, 'test': {'shape': (8000,), 'true': 3972, 'false': 4028}}\n",
      "=================================\n"
     ]
    },
    {
     "name": "stderr",
     "output_type": "stream",
     "text": [
      "                                                                                                  \r"
     ]
    },
    {
     "name": "stdout",
     "output_type": "stream",
     "text": [
      "File created /home/kooler/dev/sw/sns-fake-content/dataset/processed_data/transformer_datasets/fnn_xs.zip\n",
      "{'train': {'shape': (51200,), 'true': 25635, 'false': 25565}, 'val': {'shape': (12800,), 'true': 6366, 'false': 6434}, 'test': {'shape': (16000,), 'true': 7999, 'false': 8001}}\n",
      "=================================\n"
     ]
    },
    {
     "name": "stderr",
     "output_type": "stream",
     "text": [
      "                                                                                                    \r"
     ]
    },
    {
     "name": "stdout",
     "output_type": "stream",
     "text": [
      "File created /home/kooler/dev/sw/sns-fake-content/dataset/processed_data/transformer_datasets/fnn_s.zip\n",
      "{'train': {'shape': (102400,), 'true': 51168, 'false': 51232}, 'val': {'shape': (25600,), 'true': 12784, 'false': 12816}, 'test': {'shape': (32000,), 'true': 16048, 'false': 15952}}\n",
      "=================================\n"
     ]
    },
    {
     "name": "stderr",
     "output_type": "stream",
     "text": [
      "                                                                                                    \r"
     ]
    },
    {
     "name": "stdout",
     "output_type": "stream",
     "text": [
      "File created /home/kooler/dev/sw/sns-fake-content/dataset/processed_data/transformer_datasets/fnn_m.zip\n",
      "{'train': {'shape': (204800,), 'true': 102120, 'false': 102680}, 'val': {'shape': (51200,), 'true': 25815, 'false': 25385}, 'test': {'shape': (64000,), 'true': 32065, 'false': 31935}}\n",
      "=================================\n"
     ]
    },
    {
     "name": "stderr",
     "output_type": "stream",
     "text": [
      "                                                                                                    \r"
     ]
    },
    {
     "name": "stdout",
     "output_type": "stream",
     "text": [
      "File created /home/kooler/dev/sw/sns-fake-content/dataset/processed_data/transformer_datasets/fnn_l.zip\n",
      "{'train': {'shape': (625964,), 'true': 320125, 'false': 305839}, 'val': {'shape': (156491,), 'true': 80097, 'false': 76394}, 'test': {'shape': (195614,), 'true': 99778, 'false': 95836}}\n",
      "=================================\n"
     ]
    },
    {
     "name": "stderr",
     "output_type": "stream",
     "text": [
      "                                                                                                    \r"
     ]
    },
    {
     "name": "stdout",
     "output_type": "stream",
     "text": [
      "File created /home/kooler/dev/sw/sns-fake-content/dataset/processed_data/transformer_datasets/fnn_xl.zip\n",
      "{'train': {'shape': (918128,), 'true': 612025, 'false': 306103}, 'val': {'shape': (229532,), 'true': 153330, 'false': 76202}, 'test': {'shape': (286915,), 'true': 191151, 'false': 95764}}\n",
      "=================================\n"
     ]
    }
   ],
   "source": [
    "for name, size in output_sizes.items():\n",
    "    split_df = split_data(text_df, size)\n",
    "    \n",
    "    # Train test split\n",
    "    X_train, X_test, y_train, y_test = train_test_split(\n",
    "        split_df['text'], split_df[\"label\"], test_size=0.2, random_state=2023\n",
    "    )\n",
    "    X_train, X_val, y_train, y_val = train_test_split(\n",
    "        X_train, y_train, test_size=0.2, random_state=2023\n",
    "    )\n",
    "    \n",
    "    data_ds = DatasetDict()\n",
    "\n",
    "    data_ds['train'] = Dataset.from_pandas(pd.concat([X_train, y_train], axis=1).astype(str)).class_encode_column(\"label\")\n",
    "    data_ds['validation'] = Dataset.from_pandas(pd.concat([X_val, y_val], axis=1).astype(str)).class_encode_column(\"label\")\n",
    "    data_ds['test'] = Dataset.from_pandas(pd.concat([X_test, y_test], axis=1).astype(str)).class_encode_column(\"label\")\n",
    "\n",
    "    data_ds = data_ds.remove_columns(['__index_level_0__'])\n",
    "    \n",
    "    path = f'./transformer_datasets/fnn_{name}'\n",
    "    data_ds.save_to_disk(path)\n",
    "    \n",
    "    zip_path = f'{path}.zip'\n",
    "    archived = shutil.make_archive(path, 'zip', path)\n",
    "    \n",
    "    print(\"File created\", archived)\n",
    "    print({\n",
    "        \"train\": get_shape(X_train, y_train),\n",
    "        \"val\": get_shape(X_val, y_val),\n",
    "        \"test\": get_shape(X_test, y_test),\n",
    "    })\n",
    "    print(\"=================================\")\n",
    "\n",
    "    "
   ]
  }
 ],
 "metadata": {
  "kernelspec": {
   "display_name": "env_database",
   "language": "python",
   "name": "python3"
  },
  "language_info": {
   "codemirror_mode": {
    "name": "ipython",
    "version": 3
   },
   "file_extension": ".py",
   "mimetype": "text/x-python",
   "name": "python",
   "nbconvert_exporter": "python",
   "pygments_lexer": "ipython3",
   "version": "3.8.10"
  },
  "orig_nbformat": 4
 },
 "nbformat": 4,
 "nbformat_minor": 2
}
